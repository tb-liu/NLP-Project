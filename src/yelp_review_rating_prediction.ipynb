{
  "cells": [
    {
      "cell_type": "markdown",
      "metadata": {
        "id": "TsSWpkvdAxWw"
      },
      "source": [
        "# Yelp Review Rating Prediction"
      ]
    },
    {
      "cell_type": "markdown",
      "metadata": {
        "id": "LkF0E7WpBp1k"
      },
      "source": [
        "### Data Preparation"
      ]
    },
    {
      "cell_type": "markdown",
      "metadata": {
        "id": "comFk4a81bb9"
      },
      "source": [
        "We need to import several packages first."
      ]
    },
    {
      "cell_type": "code",
      "execution_count": null,
      "metadata": {
        "colab": {
          "base_uri": "https://localhost:8080/"
        },
        "id": "ErFPpJUra3oc",
        "outputId": "caee97c1-2653-46da-80bb-f3d516e4a112"
      },
      "outputs": [
        {
          "name": "stdout",
          "output_type": "stream",
          "text": [
            "/content/drive/MyDrive/Yelp\n"
          ]
        }
      ],
      "source": [
        "%cd /content/drive/MyDrive/Yelp"
      ]
    },
    {
      "cell_type": "code",
      "execution_count": null,
      "metadata": {
        "id": "90TJeolgbcuG"
      },
      "outputs": [],
      "source": [
        "import sys, os, re, json\n",
        "import nltk\n",
        "import numpy as np\n",
        "import pandas as pd\n",
        "import matplotlib.pyplot as plt\n",
        "import seaborn as sn\n",
        "from collections import defaultdict, Counter\n",
        "from typing import List, Tuple, Dict"
      ]
    },
    {
      "cell_type": "code",
      "execution_count": null,
      "metadata": {
        "colab": {
          "base_uri": "https://localhost:8080/"
        },
        "id": "zC40MhloddxF",
        "outputId": "831a00d2-99ab-43f5-cdc6-01de377fb205"
      },
      "outputs": [
        {
          "name": "stdout",
          "output_type": "stream",
          "text": [
            "[nltk_data] Downloading package stopwords to /root/nltk_data...\n",
            "[nltk_data]   Unzipping corpora/stopwords.zip.\n",
            "[nltk_data] Downloading package punkt to /root/nltk_data...\n",
            "[nltk_data]   Unzipping tokenizers/punkt.zip.\n",
            "[nltk_data] Downloading package wordnet to /root/nltk_data...\n",
            "[nltk_data]   Unzipping corpora/wordnet.zip.\n"
          ]
        },
        {
          "data": {
            "text/plain": [
              "True"
            ]
          },
          "execution_count": 3,
          "metadata": {
            "tags": []
          },
          "output_type": "execute_result"
        }
      ],
      "source": [
        "%matplotlib inline\n",
        "nltk.download('stopwords')\n",
        "nltk.download('punkt')\n",
        "nltk.download('wordnet')"
      ]
    },
    {
      "cell_type": "markdown",
      "metadata": {
        "id": "2BVti4fl1g_e"
      },
      "source": [
        "Here are some file paths."
      ]
    },
    {
      "cell_type": "code",
      "execution_count": null,
      "metadata": {
        "id": "phZcEFZabPgh"
      },
      "outputs": [],
      "source": [
        "dir_dataset = \"yelp_dataset\"\n",
        "file_business = os.path.join(dir_dataset, \"yelp_academic_dataset_business.json\")\n",
        "file_review = os.path.join(dir_dataset, \"yelp_academic_dataset_review.json\")"
      ]
    },
    {
      "cell_type": "markdown",
      "metadata": {
        "id": "YXhrwmY11k4n"
      },
      "source": [
        "We will only use the reviews for restaurants."
      ]
    },
    {
      "cell_type": "code",
      "execution_count": null,
      "metadata": {
        "id": "l-29KR58uCl9"
      },
      "outputs": [],
      "source": [
        "def get_restaurants(file_business):\n",
        "  with open(file_business, 'r') as file:\n",
        "    restaurants = set()\n",
        "\n",
        "    for json_str in file:\n",
        "      obj = json.loads(json_str)\n",
        "      if obj[\"business_id\"] and obj[\"categories\"] \\\n",
        "      and \"restaurants\" in obj[\"categories\"].lower():\n",
        "        restaurants.add(obj[\"business_id\"])\n",
        "\n",
        "    return restaurants"
      ]
    },
    {
      "cell_type": "code",
      "execution_count": null,
      "metadata": {
        "colab": {
          "base_uri": "https://localhost:8080/"
        },
        "id": "lWx8KctFbPnm",
        "outputId": "26260f03-533c-40e5-ee76-0cf9cf886daf"
      },
      "outputs": [
        {
          "name": "stdout",
          "output_type": "stream",
          "text": [
            "CPU times: user 2.62 s, sys: 92 ms, total: 2.71 s\n",
            "Wall time: 3.06 s\n"
          ]
        }
      ],
      "source": [
        "%time restaurants = get_restaurants(file_business)"
      ]
    },
    {
      "cell_type": "code",
      "execution_count": null,
      "metadata": {
        "colab": {
          "base_uri": "https://localhost:8080/"
        },
        "id": "E8vmH9bF13vV",
        "outputId": "876300ce-c1c6-4e68-f405-9e6ab05115db"
      },
      "outputs": [
        {
          "name": "stdout",
          "output_type": "stream",
          "text": [
            "Number of restaurants: 63944\n"
          ]
        }
      ],
      "source": [
        "print(\"Number of restaurants:\", len(restaurants))"
      ]
    },
    {
      "cell_type": "code",
      "execution_count": null,
      "metadata": {
        "id": "UN8cCjs-lFA-"
      },
      "outputs": [],
      "source": [
        "def get_reviews(file_review):\n",
        "  with open(file_review, 'r') as file:\n",
        "    text_list = []\n",
        "    stars_list = []\n",
        "\n",
        "    for index, json_str in enumerate(file):\n",
        "      obj = json.loads(json_str)\n",
        "      if obj[\"business_id\"] and obj[\"business_id\"] in restaurants:\n",
        "        if obj[\"text\"] and obj[\"stars\"]:\n",
        "          text_list.append(obj[\"text\"])\n",
        "          stars_list.append(int(obj[\"stars\"]))\n",
        "\n",
        "    df = pd.DataFrame.from_dict({\"text\": text_list, \"stars\": stars_list})\n",
        "    return df"
      ]
    },
    {
      "cell_type": "code",
      "execution_count": null,
      "metadata": {
        "colab": {
          "base_uri": "https://localhost:8080/"
        },
        "id": "hhYWVL1PyUv0",
        "outputId": "25d70ee7-b45c-4711-a97f-39edd993b26e"
      },
      "outputs": [
        {
          "name": "stdout",
          "output_type": "stream",
          "text": [
            "CPU times: user 1min 7s, sys: 8.1 s, total: 1min 15s\n",
            "Wall time: 1min 23s\n"
          ]
        }
      ],
      "source": [
        "%time df_review = get_reviews(file_review)"
      ]
    },
    {
      "cell_type": "code",
      "execution_count": null,
      "metadata": {
        "colab": {
          "base_uri": "https://localhost:8080/"
        },
        "id": "WsgXpwIUyUzB",
        "outputId": "fc2f2daf-1672-43f4-a033-ca1e8adf296e"
      },
      "outputs": [
        {
          "data": {
            "text/plain": [
              "(5055992, 2)"
            ]
          },
          "execution_count": 10,
          "metadata": {
            "tags": []
          },
          "output_type": "execute_result"
        }
      ],
      "source": [
        "df_review.shape"
      ]
    },
    {
      "cell_type": "markdown",
      "metadata": {
        "id": "SCaAEDjZrU4B"
      },
      "source": [
        "Some samples for reviews."
      ]
    },
    {
      "cell_type": "code",
      "execution_count": null,
      "metadata": {
        "colab": {
          "base_uri": "https://localhost:8080/"
        },
        "id": "NB4uZiD9zqLg",
        "outputId": "81357d9b-d28c-4bfe-d07b-83e7ffee077a"
      },
      "outputs": [
        {
          "data": {
            "text/html": [
              "<div>\n",
              "<style scoped>\n",
              "    .dataframe tbody tr th:only-of-type {\n",
              "        vertical-align: middle;\n",
              "    }\n",
              "\n",
              "    .dataframe tbody tr th {\n",
              "        vertical-align: top;\n",
              "    }\n",
              "\n",
              "    .dataframe thead th {\n",
              "        text-align: right;\n",
              "    }\n",
              "</style>\n",
              "<table border=\"1\" class=\"dataframe\">\n",
              "  <thead>\n",
              "    <tr style=\"text-align: right;\">\n",
              "      <th></th>\n",
              "      <th>text</th>\n",
              "      <th>stars</th>\n",
              "    </tr>\n",
              "  </thead>\n",
              "  <tbody>\n",
              "    <tr>\n",
              "      <th>0</th>\n",
              "      <td>I love Deagan's. I do. I really do. The atmosp...</td>\n",
              "      <td>5</td>\n",
              "    </tr>\n",
              "    <tr>\n",
              "      <th>1</th>\n",
              "      <td>Dismal, lukewarm, defrosted-tasting \"TexMex\" g...</td>\n",
              "      <td>1</td>\n",
              "    </tr>\n",
              "    <tr>\n",
              "      <th>2</th>\n",
              "      <td>Oh happy day, finally have a Canes near my cas...</td>\n",
              "      <td>4</td>\n",
              "    </tr>\n",
              "    <tr>\n",
              "      <th>3</th>\n",
              "      <td>This is definitely my favorite fast food sub s...</td>\n",
              "      <td>5</td>\n",
              "    </tr>\n",
              "    <tr>\n",
              "      <th>4</th>\n",
              "      <td>Really good place with simple decor, amazing f...</td>\n",
              "      <td>5</td>\n",
              "    </tr>\n",
              "    <tr>\n",
              "      <th>5</th>\n",
              "      <td>Most delicious authentic Italian I've had in t...</td>\n",
              "      <td>5</td>\n",
              "    </tr>\n",
              "    <tr>\n",
              "      <th>6</th>\n",
              "      <td>I have been here twice. Very nice and laid bac...</td>\n",
              "      <td>4</td>\n",
              "    </tr>\n",
              "    <tr>\n",
              "      <th>7</th>\n",
              "      <td>ORDER In (Delivery) Review\\n\\nI discovered thi...</td>\n",
              "      <td>4</td>\n",
              "    </tr>\n",
              "    <tr>\n",
              "      <th>8</th>\n",
              "      <td>Everything that my husband and I tried today w...</td>\n",
              "      <td>5</td>\n",
              "    </tr>\n",
              "    <tr>\n",
              "      <th>9</th>\n",
              "      <td>10pm on a super bowl Sunday and they're alread...</td>\n",
              "      <td>1</td>\n",
              "    </tr>\n",
              "  </tbody>\n",
              "</table>\n",
              "</div>"
            ],
            "text/plain": [
              "                                                text  stars\n",
              "0  I love Deagan's. I do. I really do. The atmosp...      5\n",
              "1  Dismal, lukewarm, defrosted-tasting \"TexMex\" g...      1\n",
              "2  Oh happy day, finally have a Canes near my cas...      4\n",
              "3  This is definitely my favorite fast food sub s...      5\n",
              "4  Really good place with simple decor, amazing f...      5\n",
              "5  Most delicious authentic Italian I've had in t...      5\n",
              "6  I have been here twice. Very nice and laid bac...      4\n",
              "7  ORDER In (Delivery) Review\\n\\nI discovered thi...      4\n",
              "8  Everything that my husband and I tried today w...      5\n",
              "9  10pm on a super bowl Sunday and they're alread...      1"
            ]
          },
          "execution_count": 11,
          "metadata": {
            "tags": []
          },
          "output_type": "execute_result"
        }
      ],
      "source": [
        "df_review.head(10)"
      ]
    },
    {
      "cell_type": "markdown",
      "metadata": {
        "id": "Sxbbpjl5CGeS"
      },
      "source": [
        "### Data Distribution"
      ]
    },
    {
      "cell_type": "markdown",
      "metadata": {
        "id": "1Ki8OD5mCiG7"
      },
      "source": [
        "We should rating distribution here."
      ]
    },
    {
      "cell_type": "code",
      "execution_count": null,
      "metadata": {
        "colab": {
          "base_uri": "https://localhost:8080/"
        },
        "id": "FGf4rrJW3Cuz",
        "outputId": "e5924874-1cc4-4a6d-ddc9-2aa56c6ec6bd"
      },
      "outputs": [
        {
          "data": {
            "text/plain": [
              "5    2077511\n",
              "4    1254099\n",
              "3     639748\n",
              "1     628044\n",
              "2     456590\n",
              "Name: stars, dtype: int64"
            ]
          },
          "execution_count": 12,
          "metadata": {
            "tags": []
          },
          "output_type": "execute_result"
        }
      ],
      "source": [
        "df_review[\"stars\"].value_counts(normalize=False)"
      ]
    },
    {
      "cell_type": "code",
      "execution_count": null,
      "metadata": {
        "id": "SHtPGo_Wt_Fi"
      },
      "outputs": [],
      "source": [
        "def plot_labels(df, title=None):\n",
        "  ds_labels = df[\"stars\"].value_counts(normalize=True)\n",
        "  ds_labels.sort_index(inplace=True)\n",
        "  plt.figure(figsize=(4,3))\n",
        "  ax = ds_labels.plot(kind=\"bar\")\n",
        "  ax.set_xlabel(\"Stars\")\n",
        "  ax.set_ylabel(\"Ratio\")\n",
        "  if title is not None:\n",
        "    plt.savefig(title + \".eps\")\n",
        "  plt.show()"
      ]
    },
    {
      "cell_type": "code",
      "execution_count": null,
      "metadata": {
        "colab": {
          "base_uri": "https://localhost:8080/"
        },
        "id": "MzM3-anB3C3Y",
        "outputId": "3ce49f15-8390-4a33-dd69-b53a2bffafb6"
      },
      "outputs": [
        {
          "data": {
            "image/png": "[encoded data removed]",
            "text/plain": [
              "<Figure size 288x216 with 1 Axes>"
            ]
          },
          "metadata": {
            "needs_background": "light",
            "tags": []
          },
          "output_type": "display_data"
        }
      ],
      "source": [
        "plot_labels(df_review, \"stars\")"
      ]
    },
    {
      "cell_type": "markdown",
      "metadata": {
        "id": "qEC_2PQHtb3R"
      },
      "source": [
        "We can find that the dataset is imbalanced."
      ]
    },
    {
      "cell_type": "markdown",
      "metadata": {
        "id": "uDOLU_BPCGg3"
      },
      "source": [
        "### Data Preprocessing and Split"
      ]
    },
    {
      "cell_type": "markdown",
      "metadata": {
        "id": "YVDwvzQMI1jz"
      },
      "source": [
        "We need to seperate training, validation, and testing sets.\n",
        "\n",
        "* Training set: balanced dataset\n",
        "* Validation/Testing set: raw (imbalanced) dataset"
      ]
    },
    {
      "cell_type": "code",
      "execution_count": null,
      "metadata": {
        "id": "056un0XX9Uti"
      },
      "outputs": [],
      "source": [
        "from sklearn.model_selection import train_test_split\n",
        "\n",
        "df_train_raw, df_test = train_test_split(df_review, test_size=250000, \n",
        "                                         random_state=42, shuffle=True)\n",
        "df_train_raw, df_dev = train_test_split(df_train_raw, test_size=250000,\n",
        "                                        random_state=42, shuffle=True)"
      ]
    },
    {
      "cell_type": "code",
      "execution_count": null,
      "metadata": {
        "colab": {
          "base_uri": "https://localhost:8080/"
        },
        "id": "Dr2Pw4Ieu39q",
        "outputId": "3f6ef578-7745-4b34-9432-871336aabeef"
      },
      "outputs": [
        {
          "data": {
            "text/plain": [
              "5    1871889\n",
              "4    1129897\n",
              "3     577351\n",
              "1     565751\n",
              "2     411104\n",
              "Name: stars, dtype: int64"
            ]
          },
          "execution_count": 16,
          "metadata": {
            "tags": []
          },
          "output_type": "execute_result"
        }
      ],
      "source": [
        "df_train_raw[\"stars\"].value_counts(normalize=False)"
      ]
    },
    {
      "cell_type": "code",
      "execution_count": null,
      "metadata": {
        "id": "ADKVl1h_wDZb"
      },
      "outputs": [],
      "source": [
        "from sklearn.utils import resample\n",
        "\n",
        "def undersample(df, group_size=250000):\n",
        "  dfs = []\n",
        "\n",
        "  for label in df[\"stars\"].value_counts().keys():\n",
        "    df_group = df[df[\"stars\"] == label]\n",
        "    df_group_undersampled = resample(df_group, \n",
        "                                     replace=False, \n",
        "                                     n_samples=group_size, \n",
        "                                     random_state=0)\n",
        "    dfs.append(df_group_undersampled)\n",
        "\n",
        "  return pd.concat(dfs).sample(frac=1, random_state=0)"
      ]
    },
    {
      "cell_type": "code",
      "execution_count": null,
      "metadata": {
        "id": "ygjIGHD6wDb9"
      },
      "outputs": [],
      "source": [
        "df_train = undersample(df_train_raw)"
      ]
    },
    {
      "cell_type": "code",
      "execution_count": null,
      "metadata": {
        "id": "PxlmYCZNQYHt"
      },
      "outputs": [],
      "source": [
        "num_review = df_review.shape[0]\n",
        "num_train = df_train.shape[0]\n",
        "num_dev = df_dev.shape[0]\n",
        "num_test = df_test.shape[0]"
      ]
    },
    {
      "cell_type": "code",
      "execution_count": null,
      "metadata": {
        "colab": {
          "base_uri": "https://localhost:8080/"
        },
        "id": "bm1Rgpu8wD2m",
        "outputId": "a6c4bbcb-7e8f-43fa-e674-7dd05eee67b7"
      },
      "outputs": [
        {
          "name": "stdout",
          "output_type": "stream",
          "text": [
            "(1250000, 2)\n"
          ]
        },
        {
          "data": {
            "image/png": "[encoded data removed]",
            "text/plain": [
              "<Figure size 288x216 with 1 Axes>"
            ]
          },
          "metadata": {
            "needs_background": "light",
            "tags": []
          },
          "output_type": "display_data"
        }
      ],
      "source": [
        "print(df_train.shape)\n",
        "plot_labels(df_train)"
      ]
    },
    {
      "cell_type": "code",
      "execution_count": null,
      "metadata": {
        "colab": {
          "base_uri": "https://localhost:8080/"
        },
        "id": "pibTbu4Ouw_t",
        "outputId": "ce381b53-7867-41c5-d379-b506913ebf94"
      },
      "outputs": [
        {
          "name": "stdout",
          "output_type": "stream",
          "text": [
            "(250000, 2)\n"
          ]
        },
        {
          "data": {
            "image/png": "[encoded data removed]",
            "text/plain": [
              "<Figure size 288x216 with 1 Axes>"
            ]
          },
          "metadata": {
            "needs_background": "light",
            "tags": []
          },
          "output_type": "display_data"
        }
      ],
      "source": [
        "print(df_dev.shape)\n",
        "plot_labels(df_dev)"
      ]
    },
    {
      "cell_type": "code",
      "execution_count": null,
      "metadata": {
        "colab": {
          "base_uri": "https://localhost:8080/"
        },
        "id": "Ofy3cZCvt2NC",
        "outputId": "95ad95b9-1814-4ea4-bb1f-0b68724f52a0"
      },
      "outputs": [
        {
          "name": "stdout",
          "output_type": "stream",
          "text": [
            "(250000, 2)\n"
          ]
        },
        {
          "data": {
            "image/png": "[encoded data removed]",
            "text/plain": [
              "<Figure size 288x216 with 1 Axes>"
            ]
          },
          "metadata": {
            "needs_background": "light",
            "tags": []
          },
          "output_type": "display_data"
        }
      ],
      "source": [
        "print(df_test.shape)\n",
        "plot_labels(df_test)"
      ]
    },
    {
      "cell_type": "code",
      "execution_count": null,
      "metadata": {
        "colab": {
          "base_uri": "https://localhost:8080/"
        },
        "id": "F_nOpnhn3BKD",
        "outputId": "c6af461a-fd2a-4d04-fdb1-bb359fa501f8"
      },
      "outputs": [
        {
          "name": "stderr",
          "output_type": "stream",
          "text": [
            "/usr/local/lib/python3.6/dist-packages/ipykernel_launcher.py:3: SettingWithCopyWarning: \n",
            "A value is trying to be set on a copy of a slice from a DataFrame.\n",
            "Try using .loc[row_indexer,col_indexer] = value instead\n",
            "\n",
            "See the caveats in the documentation: https://pandas.pydata.org/pandas-docs/stable/user_guide/indexing.html#returning-a-view-versus-a-copy\n",
            "  This is separate from the ipykernel package so we can avoid doing imports until\n"
          ]
        }
      ],
      "source": [
        "df_train[\"labels\"] = df_train[\"stars\"] - 1\n",
        "df_dev[\"labels\"] = df_dev[\"stars\"] - 1\n",
        "df_test[\"labels\"] = df_test[\"stars\"] - 1"
      ]
    },
    {
      "cell_type": "code",
      "execution_count": null,
      "metadata": {
        "colab": {
          "base_uri": "https://localhost:8080/"
        },
        "id": "UbNqrTxR31gv",
        "outputId": "35e90d28-e374-459c-9f12-ef54e4e96271"
      },
      "outputs": [
        {
          "data": {
            "text/html": [
              "<div>\n",
              "<style scoped>\n",
              "    .dataframe tbody tr th:only-of-type {\n",
              "        vertical-align: middle;\n",
              "    }\n",
              "\n",
              "    .dataframe tbody tr th {\n",
              "        vertical-align: top;\n",
              "    }\n",
              "\n",
              "    .dataframe thead th {\n",
              "        text-align: right;\n",
              "    }\n",
              "</style>\n",
              "<table border=\"1\" class=\"dataframe\">\n",
              "  <thead>\n",
              "    <tr style=\"text-align: right;\">\n",
              "      <th></th>\n",
              "      <th>text</th>\n",
              "      <th>stars</th>\n",
              "      <th>labels</th>\n",
              "    </tr>\n",
              "  </thead>\n",
              "  <tbody>\n",
              "    <tr>\n",
              "      <th>3830956</th>\n",
              "      <td>Food alright needs up grades on everything els...</td>\n",
              "      <td>1</td>\n",
              "      <td>0</td>\n",
              "    </tr>\n",
              "    <tr>\n",
              "      <th>64799</th>\n",
              "      <td>My wife and I went here expecting good things....</td>\n",
              "      <td>1</td>\n",
              "      <td>0</td>\n",
              "    </tr>\n",
              "    <tr>\n",
              "      <th>2183939</th>\n",
              "      <td>Went to Lili.co on a Saturday night with two f...</td>\n",
              "      <td>4</td>\n",
              "      <td>3</td>\n",
              "    </tr>\n",
              "    <tr>\n",
              "      <th>346349</th>\n",
              "      <td>I went to Sorocco for my bday. We were around ...</td>\n",
              "      <td>5</td>\n",
              "      <td>4</td>\n",
              "    </tr>\n",
              "    <tr>\n",
              "      <th>983213</th>\n",
              "      <td>Slowest panera ever. With rude and impatient s...</td>\n",
              "      <td>2</td>\n",
              "      <td>1</td>\n",
              "    </tr>\n",
              "    <tr>\n",
              "      <th>3844806</th>\n",
              "      <td>Step one:  Located Tix4Tonight. Buy buffet pas...</td>\n",
              "      <td>3</td>\n",
              "      <td>2</td>\n",
              "    </tr>\n",
              "    <tr>\n",
              "      <th>57590</th>\n",
              "      <td>Coffee and food was good, although I would not...</td>\n",
              "      <td>2</td>\n",
              "      <td>1</td>\n",
              "    </tr>\n",
              "    <tr>\n",
              "      <th>14794</th>\n",
              "      <td>My wife and I are from Rockford Ill and this p...</td>\n",
              "      <td>5</td>\n",
              "      <td>4</td>\n",
              "    </tr>\n",
              "    <tr>\n",
              "      <th>2349281</th>\n",
              "      <td>So my friends and I came through the drive thr...</td>\n",
              "      <td>3</td>\n",
              "      <td>2</td>\n",
              "    </tr>\n",
              "    <tr>\n",
              "      <th>3171814</th>\n",
              "      <td>New fave place - made reservations weeks ago f...</td>\n",
              "      <td>5</td>\n",
              "      <td>4</td>\n",
              "    </tr>\n",
              "  </tbody>\n",
              "</table>\n",
              "</div>"
            ],
            "text/plain": [
              "                                                      text  stars  labels\n",
              "3830956  Food alright needs up grades on everything els...      1       0\n",
              "64799    My wife and I went here expecting good things....      1       0\n",
              "2183939  Went to Lili.co on a Saturday night with two f...      4       3\n",
              "346349   I went to Sorocco for my bday. We were around ...      5       4\n",
              "983213   Slowest panera ever. With rude and impatient s...      2       1\n",
              "3844806  Step one:  Located Tix4Tonight. Buy buffet pas...      3       2\n",
              "57590    Coffee and food was good, although I would not...      2       1\n",
              "14794    My wife and I are from Rockford Ill and this p...      5       4\n",
              "2349281  So my friends and I came through the drive thr...      3       2\n",
              "3171814  New fave place - made reservations weeks ago f...      5       4"
            ]
          },
          "execution_count": 24,
          "metadata": {
            "tags": []
          },
          "output_type": "execute_result"
        }
      ],
      "source": [
        "df_train.head(10)"
      ]
    },
    {
      "cell_type": "markdown",
      "metadata": {
        "id": "RPezFLDsA6qD"
      },
      "source": [
        "## Feature Engineering"
      ]
    },
    {
      "cell_type": "markdown",
      "metadata": {
        "id": "L8IrF_LeCaYH"
      },
      "source": [
        "### Tokenization"
      ]
    },
    {
      "cell_type": "markdown",
      "metadata": {
        "id": "j_g8layHIH82"
      },
      "source": [
        "In this part, we will tokenize reviews and count numbers of tokens for each review. This information will be useful in BERT model. But we will not use these tokens directly for training models."
      ]
    },
    {
      "cell_type": "code",
      "execution_count": null,
      "metadata": {
        "id": "-acyRipV5azr"
      },
      "outputs": [],
      "source": [
        "from nltk.tokenize import word_tokenize"
      ]
    },
    {
      "cell_type": "code",
      "execution_count": null,
      "metadata": {
        "colab": {
          "base_uri": "https://localhost:8080/"
        },
        "id": "e054kYSL8Dvc",
        "outputId": "2f4ec61e-b2f2-459b-dcaa-5115b0d4ecd8"
      },
      "outputs": [
        {
          "name": "stdout",
          "output_type": "stream",
          "text": [
            "Such a great restaurant but what's most amazing was the service! Mike and Easton are literally the best.... Extremely professional and very accommodating! We dined here on two separate occasions while family was visiting and both times were awesome experiences thanks to these guys! Mike wasn't even our waiter the second visit but he still took care of us... As fellow Californians it was much appreciated. We'll definitely be back! \n",
            " ['Such', 'a', 'great', 'restaurant', 'but', \"what's\", 'most', 'amazing', 'was', 'the', 'service', 'Mike', 'and', 'Easton', 'are', 'literally', 'the', 'best', 'Extremely', 'professional', 'and', 'very', 'accommodating', 'We', 'dined', 'here', 'on', 'two', 'separate', 'occasions', 'while', 'family', 'was', 'visiting', 'and', 'both', 'times', 'were', 'awesome', 'experiences', 'thanks', 'to', 'these', 'guys', 'Mike', \"wasn't\", 'even', 'our', 'waiter', 'the', 'second', 'visit', 'but', 'he', 'still', 'took', 'care', 'of', 'us', 'As', 'fellow', 'Californians', 'it', 'was', 'much', 'appreciated', \"We'll\", 'definitely', 'be', 'back']\n"
          ]
        }
      ],
      "source": [
        "ds_temp = df_train[\"text\"].iloc[:10].map(lambda text: re.sub(r\"[^a-zA-Z0-9' ]\", ' ', text)).map(lambda text: text.split())\n",
        "print(df_train[\"text\"].iloc[0], '\\n', ds_temp.iloc[0])"
      ]
    },
    {
      "cell_type": "code",
      "execution_count": null,
      "metadata": {
        "colab": {
          "base_uri": "https://localhost:8080/"
        },
        "id": "G-CMJLr5c_Ll",
        "outputId": "bc7d3d75-5ef3-4b82-c5cd-36e2d314b378"
      },
      "outputs": [
        {
          "name": "stdout",
          "output_type": "stream",
          "text": [
            "CPU times: user 33.1 s, sys: 5.16 s, total: 38.3 s\n",
            "Wall time: 38.3 s\n"
          ]
        }
      ],
      "source": [
        "%time df_train[\"tokens\"] = df_train[\"text\"].map(lambda text: re.sub(r\"[^a-zA-Z0-9' ]\", ' ', text)).map(lambda text: text.split())"
      ]
    },
    {
      "cell_type": "code",
      "execution_count": null,
      "metadata": {
        "id": "KzdImm0Q4pxR"
      },
      "outputs": [],
      "source": [
        "df_train[\"num_tokens\"] = df_train[\"tokens\"].map(len)\n",
        "ax = df_train[\"num_tokens\"].hist(bins=20, \n",
        "                                 figsize=(4,3),\n",
        "                                 weights=np.ones(num_train)/num_train)\n",
        "ax.set_xlabel(\"Number of Tokens\")\n",
        "ax.set_ylabel(\"Ratio\")\n",
        "plt.show()"
      ]
    },
    {
      "cell_type": "code",
      "execution_count": null,
      "metadata": {
        "colab": {
          "base_uri": "https://localhost:8080/"
        },
        "id": "6iGsY5Nwg0JS",
        "outputId": "2cc84494-72ea-45d0-feb5-d64f2bad2fef"
      },
      "outputs": [
        {
          "name": "stdout",
          "output_type": "stream",
          "text": [
            "0.6874416\n",
            "0.9113776\n"
          ]
        }
      ],
      "source": [
        "print(len(df_train[df_train[\"num_tokens\"] <= 128]) / len(df_train[\"num_tokens\"]))\n",
        "print(len(df_train[df_train[\"num_tokens\"] <= 256]) / len(df_train[\"num_tokens\"]))"
      ]
    },
    {
      "cell_type": "code",
      "execution_count": null,
      "metadata": {
        "id": "T1K6QGM6n5J5"
      },
      "outputs": [],
      "source": [
        "df_train.drop(columns=[\"tokens\", \"num_tokens\"], inplace=True)"
      ]
    },
    {
      "cell_type": "code",
      "execution_count": null,
      "metadata": {
        "colab": {
          "base_uri": "https://localhost:8080/"
        },
        "id": "3kIsxLezPWVk",
        "outputId": "08a4920d-2a53-4ab4-e683-bb0afcc00dff"
      },
      "outputs": [
        {
          "name": "stdout",
          "output_type": "stream",
          "text": [
            "CPU times: user 1min 22s, sys: 1.16 s, total: 1min 23s\n",
            "Wall time: 1min 23s\n"
          ]
        }
      ],
      "source": [
        "%time df_review[\"num_tokens\"] = df_review[\"text\"].\\\n",
        "map(lambda text: re.sub(r\"[^a-zA-Z0-9' ]\", ' ', text)).\\\n",
        "map(lambda text: len(text.split()))"
      ]
    },
    {
      "cell_type": "code",
      "execution_count": null,
      "metadata": {
        "colab": {
          "base_uri": "https://localhost:8080/",
          "height": 261
        },
        "id": "OiYaKgvQPWVl",
        "outputId": "a6c26d11-c424-4307-8f08-8369384c8543"
      },
      "outputs": [
        {
          "data": {
            "image/png": "[encoded data removed]",
            "text/plain": [
              "<Figure size 360x252 with 1 Axes>"
            ]
          },
          "metadata": {
            "needs_background": "light",
            "tags": []
          },
          "output_type": "display_data"
        }
      ],
      "source": [
        "ax = df_review[\"num_tokens\"].hist(bins=20,\n",
        "                                  figsize=(5,3.5),\n",
        "                                  grid=False,\n",
        "                                  weights=np.ones(num_review)/num_review)\n",
        "ax.set_xlabel(\"Number of Tokens\")\n",
        "ax.set_ylabel(\"Ratio\")\n",
        "plt.savefig(\"num_tokens.eps\")\n",
        "plt.tight_layout()\n",
        "plt.show()"
      ]
    },
    {
      "cell_type": "code",
      "execution_count": null,
      "metadata": {
        "colab": {
          "base_uri": "https://localhost:8080/"
        },
        "id": "zZkcCLWcPWVl",
        "outputId": "6e0c20b2-5bbe-4ec3-9bb2-7dd21ad9b32e"
      },
      "outputs": [
        {
          "name": "stdout",
          "output_type": "stream",
          "text": [
            "0.7309105710610302\n",
            "0.92764842191206\n"
          ]
        }
      ],
      "source": [
        "print(len(df_review[df_review[\"num_tokens\"] <= 128]) / len(df_review[\"num_tokens\"]))\n",
        "print(len(df_review[df_review[\"num_tokens\"] <= 256]) / len(df_review[\"num_tokens\"]))"
      ]
    },
    {
      "cell_type": "code",
      "execution_count": null,
      "metadata": {
        "id": "PziespBmPWVl"
      },
      "outputs": [],
      "source": [
        "df_review.drop(columns=[num_tokens\"], inplace=True)"
      ]
    },
    {
      "cell_type": "markdown",
      "metadata": {
        "id": "ok7g5rUL8aoI"
      },
      "source": [
        "From the result, we can see most reviews are shorter than 256 tokens."
      ]
    },
    {
      "cell_type": "markdown",
      "metadata": {
        "id": "dcH-i1aVKrJQ"
      },
      "source": [
        "### Vectorization"
      ]
    },
    {
      "cell_type": "markdown",
      "metadata": {
        "id": "utTaU1FNKram"
      },
      "source": [
        "We will try following settings for vectorization.\n",
        "\n",
        "* Word representation: `CountVectorizer` vs. `TfidfVectorizer`\n",
        "* N-grams: unigram & bigram\n",
        "* Minimum document frequency: 5\n",
        "* Convert to lowercase\n",
        "* Use stop words\n",
        "* Try binary counter"
      ]
    },
    {
      "cell_type": "code",
      "execution_count": null,
      "metadata": {
        "id": "CD2ip9AKK26E"
      },
      "outputs": [],
      "source": [
        "from sklearn.feature_extraction.text import CountVectorizer, TfidfVectorizer\n",
        "\n",
        "def extract_features(df_train, df_dev, df_test):\n",
        "  vectorizer = TfidfVectorizer(analyzer='word', \n",
        "                               stop_words='english',\n",
        "                               ngram_range=(1, 2),\n",
        "                               lowercase=True,\n",
        "                               min_df=5,\n",
        "                               binary=False)\n",
        "  X_train = vectorizer.fit_transform(df_train[\"text\"])\n",
        "  X_dev = vectorizer.transform(df_dev[\"text\"])\n",
        "  X_test = vectorizer.transform(df_test[\"text\"])\n",
        "  y_train = df_train[\"stars\"].tolist()\n",
        "  y_dev = df_dev[\"stars\"].tolist()\n",
        "  y_test = df_test[\"stars\"].tolist()\n",
        "  \n",
        "  return X_train, X_dev, X_test, y_train, y_dev, y_test"
      ]
    },
    {
      "cell_type": "code",
      "execution_count": null,
      "metadata": {
        "colab": {
          "base_uri": "https://localhost:8080/"
        },
        "id": "yQybHzv9ffVp",
        "outputId": "3e2180ec-ea83-4c79-e521-93e75b25d394"
      },
      "outputs": [
        {
          "name": "stdout",
          "output_type": "stream",
          "text": [
            "CPU times: user 6min 1s, sys: 4.42 s, total: 6min 6s\n",
            "Wall time: 6min 6s\n"
          ]
        }
      ],
      "source": [
        "%time X_train, X_dev, X_test, y_train, y_dev, y_test = extract_features(df_train, df_dev, df_test)"
      ]
    },
    {
      "cell_type": "markdown",
      "metadata": {
        "id": "CZRE8PRNa2vF"
      },
      "source": [
        "#### Test for CountVectorizer (Binary)"
      ]
    },
    {
      "cell_type": "code",
      "execution_count": null,
      "metadata": {
        "id": "7FaiODZv4jkW"
      },
      "outputs": [],
      "source": [
        "from sklearn.linear_model import LogisticRegression\n",
        "\n",
        "clf_lr = LogisticRegression(penalty='l2',\n",
        "                            tol=1e-4,\n",
        "                            C=5.0,\n",
        "                            fit_intercept=True,\n",
        "                            class_weight='balanced',\n",
        "                            random_state=0,\n",
        "                            solver='lbfgs',\n",
        "                            max_iter=100,\n",
        "                            multi_class='auto',\n",
        "                            verbose=1,\n",
        "                            n_jobs=-1)"
      ]
    },
    {
      "cell_type": "code",
      "execution_count": null,
      "metadata": {
        "colab": {
          "base_uri": "https://localhost:8080/"
        },
        "id": "JnTIq0Zv4jkW",
        "outputId": "1cef5bc6-bc38-4db9-db57-2b8af7d640c8"
      },
      "outputs": [
        {
          "name": "stderr",
          "output_type": "stream",
          "text": [
            "[Parallel(n_jobs=-1)]: Using backend LokyBackend with 4 concurrent workers.\n",
            "[Parallel(n_jobs=-1)]: Done   1 out of   1 | elapsed: 11.7min finished\n"
          ]
        },
        {
          "data": {
            "text/plain": [
              "LogisticRegression(C=5.0, class_weight='balanced', dual=False,\n",
              "                   fit_intercept=True, intercept_scaling=1, l1_ratio=None,\n",
              "                   max_iter=100, multi_class='auto', n_jobs=-1, penalty='l2',\n",
              "                   random_state=0, solver='lbfgs', tol=0.0001, verbose=1,\n",
              "                   warm_start=False)"
            ]
          },
          "execution_count": 97,
          "metadata": {
            "tags": []
          },
          "output_type": "execute_result"
        }
      ],
      "source": [
        "clf_lr.fit(X_train, y_train)"
      ]
    },
    {
      "cell_type": "code",
      "execution_count": null,
      "metadata": {
        "colab": {
          "base_uri": "https://localhost:8080/",
          "height": 1000
        },
        "id": "fcx4y3De4jkX",
        "outputId": "cba79f8c-088c-4388-9580-91318755809c"
      },
      "outputs": [
        {
          "name": "stdout",
          "output_type": "stream",
          "text": [
            "Training Set\n",
            "Accuracy: 0.7382096\n",
            "\n",
            "              precision    recall  f1-score   support\n",
            "\n",
            "           1     0.7989    0.8411    0.8195    250000\n",
            "           2     0.7288    0.6754    0.7010    250000\n",
            "           3     0.6736    0.7156    0.6939    250000\n",
            "           4     0.7426    0.6012    0.6644    250000\n",
            "           5     0.7469    0.8579    0.7985    250000\n",
            "\n",
            "    accuracy                         0.7382   1250000\n",
            "   macro avg     0.7381    0.7382    0.7355   1250000\n",
            "weighted avg     0.7381    0.7382    0.7355   1250000\n",
            "\n"
          ]
        },
        {
          "data": {
            "image/png": "[encoded data removed]",
            "text/plain": [
              "<Figure size 432x288 with 2 Axes>"
            ]
          },
          "metadata": {
            "needs_background": "light",
            "tags": []
          },
          "output_type": "display_data"
        },
        {
          "name": "stdout",
          "output_type": "stream",
          "text": [
            "\n",
            "Validation Set\n",
            "Accuracy: 0.628484\n",
            "\n",
            "              precision    recall  f1-score   support\n",
            "\n",
            "           1     0.7267    0.7436    0.7350     31118\n",
            "           2     0.4263    0.4840    0.4533     22851\n",
            "           3     0.4144    0.5373    0.4679     31401\n",
            "           4     0.5343    0.4332    0.4785     62178\n",
            "           5     0.7826    0.7722    0.7774    102452\n",
            "\n",
            "    accuracy                         0.6285    250000\n",
            "   macro avg     0.5769    0.5941    0.5824    250000\n",
            "weighted avg     0.6351    0.6285    0.6293    250000\n",
            "\n"
          ]
        },
        {
          "data": {
            "image/png": "[encoded data removed]",
            "text/plain": [
              "<Figure size 432x288 with 2 Axes>"
            ]
          },
          "metadata": {
            "needs_background": "light",
            "tags": []
          },
          "output_type": "display_data"
        },
        {
          "name": "stdout",
          "output_type": "stream",
          "text": [
            "\n",
            "Testing Set\n",
            "Accuracy: 0.630324\n",
            "\n",
            "              precision    recall  f1-score   support\n",
            "\n",
            "           1     0.7296    0.7450    0.7372     31175\n",
            "           2     0.4274    0.4824    0.4533     22635\n",
            "           3     0.4112    0.5431    0.4681     30996\n",
            "           4     0.5335    0.4349    0.4791     62024\n",
            "           5     0.7875    0.7718    0.7796    103170\n",
            "\n",
            "    accuracy                         0.6303    250000\n",
            "   macro avg     0.5778    0.5954    0.5834    250000\n",
            "weighted avg     0.6380    0.6303    0.6316    250000\n",
            "\n"
          ]
        },
        {
          "data": {
            "image/png": "[encoded data removed]",
            "text/plain": [
              "<Figure size 432x288 with 2 Axes>"
            ]
          },
          "metadata": {
            "needs_background": "light",
            "tags": []
          },
          "output_type": "display_data"
        },
        {
          "name": "stdout",
          "output_type": "stream",
          "text": [
            "\n"
          ]
        }
      ],
      "source": [
        "evaluate_model(clf_lr, model_name=\"lr\", model_name=\"lr_count_bin\")"
      ]
    },
    {
      "cell_type": "markdown",
      "metadata": {
        "id": "9jq4stBEZA_y"
      },
      "source": [
        "#### Test for CountVectorizer (Integer)"
      ]
    },
    {
      "cell_type": "code",
      "execution_count": null,
      "metadata": {
        "id": "vQBFKIVTYmgu"
      },
      "outputs": [],
      "source": [
        "from sklearn.linear_model import LogisticRegression\n",
        "\n",
        "clf_lr = LogisticRegression(penalty='l2',\n",
        "                            tol=1e-4,\n",
        "                            C=5.0,\n",
        "                            fit_intercept=True,\n",
        "                            class_weight='balanced',\n",
        "                            random_state=0,\n",
        "                            solver='lbfgs',\n",
        "                            max_iter=100,\n",
        "                            multi_class='auto',\n",
        "                            verbose=1,\n",
        "                            n_jobs=-1)"
      ]
    },
    {
      "cell_type": "code",
      "execution_count": null,
      "metadata": {
        "colab": {
          "base_uri": "https://localhost:8080/"
        },
        "id": "F2msLywsYn_h",
        "outputId": "45cc9db2-1e95-493c-ba81-5a1749c07238"
      },
      "outputs": [
        {
          "name": "stderr",
          "output_type": "stream",
          "text": [
            "[Parallel(n_jobs=-1)]: Using backend LokyBackend with 4 concurrent workers.\n",
            "[Parallel(n_jobs=-1)]: Done   1 out of   1 | elapsed: 15.7min finished\n"
          ]
        },
        {
          "data": {
            "text/plain": [
              "LogisticRegression(C=5.0, class_weight='balanced', dual=False,\n",
              "                   fit_intercept=True, intercept_scaling=1, l1_ratio=None,\n",
              "                   max_iter=100, multi_class='auto', n_jobs=-1, penalty='l2',\n",
              "                   random_state=0, solver='lbfgs', tol=0.0001, verbose=1,\n",
              "                   warm_start=False)"
            ]
          },
          "execution_count": 105,
          "metadata": {
            "tags": []
          },
          "output_type": "execute_result"
        }
      ],
      "source": [
        "clf_lr.fit(X_train, y_train)"
      ]
    },
    {
      "cell_type": "code",
      "execution_count": null,
      "metadata": {
        "colab": {
          "base_uri": "https://localhost:8080/",
          "height": 1000
        },
        "id": "P_fav5v_YqE8",
        "outputId": "46de1ffc-0450-4f3c-f8ca-3e229efd4c94"
      },
      "outputs": [
        {
          "name": "stdout",
          "output_type": "stream",
          "text": [
            "Training Set\n",
            "Accuracy: 0.701736\n",
            "\n",
            "              precision    recall  f1-score   support\n",
            "\n",
            "           1     0.7698    0.8192    0.7937    250000\n",
            "           2     0.6740    0.6328    0.6527    250000\n",
            "           3     0.6607    0.6170    0.6381    250000\n",
            "           4     0.6393    0.6496    0.6444    250000\n",
            "           5     0.7547    0.7901    0.7720    250000\n",
            "\n",
            "    accuracy                         0.7017   1250000\n",
            "   macro avg     0.6997    0.7017    0.7002   1250000\n",
            "weighted avg     0.6997    0.7017    0.7002   1250000\n",
            "\n"
          ]
        },
        {
          "data": {
            "image/png": "[encoded data removed]",
            "text/plain": [
              "<Figure size 432x288 with 2 Axes>"
            ]
          },
          "metadata": {
            "needs_background": "light",
            "tags": []
          },
          "output_type": "display_data"
        },
        {
          "name": "stdout",
          "output_type": "stream",
          "text": [
            "\n",
            "Validation Set\n",
            "Accuracy: 0.632088\n",
            "\n",
            "              precision    recall  f1-score   support\n",
            "\n",
            "           1     0.7264    0.7511    0.7386     31118\n",
            "           2     0.4358    0.5014    0.4663     22851\n",
            "           3     0.4543    0.4961    0.4743     31401\n",
            "           4     0.5149    0.5334    0.5240     62178\n",
            "           5     0.8020    0.7266    0.7624    102452\n",
            "\n",
            "    accuracy                         0.6321    250000\n",
            "   macro avg     0.5867    0.6017    0.5931    250000\n",
            "weighted avg     0.6440    0.6321    0.6369    250000\n",
            "\n"
          ]
        },
        {
          "data": {
            "image/png": "[encoded data removed]",
            "text/plain": [
              "<Figure size 432x288 with 2 Axes>"
            ]
          },
          "metadata": {
            "needs_background": "light",
            "tags": []
          },
          "output_type": "display_data"
        },
        {
          "name": "stdout",
          "output_type": "stream",
          "text": [
            "\n",
            "Testing Set\n",
            "Accuracy: 0.632736\n",
            "\n",
            "              precision    recall  f1-score   support\n",
            "\n",
            "           1     0.7290    0.7534    0.7410     31175\n",
            "           2     0.4332    0.4935    0.4614     22635\n",
            "           3     0.4448    0.4945    0.4683     30996\n",
            "           4     0.5134    0.5332    0.5231     62024\n",
            "           5     0.8068    0.7282    0.7655    103170\n",
            "\n",
            "    accuracy                         0.6327    250000\n",
            "   macro avg     0.5854    0.6006    0.5919    250000\n",
            "weighted avg     0.6456    0.6327    0.6379    250000\n",
            "\n"
          ]
        },
        {
          "data": {
            "image/png": "[encoded data removed]",
            "text/plain": [
              "<Figure size 432x288 with 2 Axes>"
            ]
          },
          "metadata": {
            "needs_background": "light",
            "tags": []
          },
          "output_type": "display_data"
        },
        {
          "name": "stdout",
          "output_type": "stream",
          "text": [
            "\n"
          ]
        }
      ],
      "source": [
        "evaluate_model(clf_lr, model_name=\"lr_count_int\")"
      ]
    },
    {
      "cell_type": "markdown",
      "metadata": {
        "id": "3qaIGvanaQvV"
      },
      "source": [
        "#### Test for TfidfVectorizer (Binary)"
      ]
    },
    {
      "cell_type": "code",
      "execution_count": null,
      "metadata": {
        "colab": {
          "base_uri": "https://localhost:8080/"
        },
        "id": "MW-cTmjTaQvV",
        "outputId": "48ce1b9a-675c-4760-eeb6-0282c85250fb"
      },
      "outputs": [
        {
          "data": {
            "text/plain": [
              "<10x1575256 sparse matrix of type '<class 'numpy.float64'>'\n",
              "\twith 918 stored elements in Compressed Sparse Row format>"
            ]
          },
          "execution_count": 98,
          "metadata": {
            "tags": []
          },
          "output_type": "execute_result"
        }
      ],
      "source": [
        "X_train[:10,:]"
      ]
    },
    {
      "cell_type": "code",
      "execution_count": null,
      "metadata": {
        "id": "DdMzaHBAaQvV"
      },
      "outputs": [],
      "source": [
        "from sklearn.linear_model import LogisticRegression\n",
        "\n",
        "clf_lr = LogisticRegression(penalty='l2',\n",
        "                            tol=1e-4,\n",
        "                            C=5.0,\n",
        "                            fit_intercept=True,\n",
        "                            class_weight='balanced',\n",
        "                            random_state=0,\n",
        "                            solver='lbfgs',\n",
        "                            max_iter=100,\n",
        "                            multi_class='auto',\n",
        "                            verbose=1,\n",
        "                            n_jobs=-1)"
      ]
    },
    {
      "cell_type": "code",
      "execution_count": null,
      "metadata": {
        "colab": {
          "base_uri": "https://localhost:8080/"
        },
        "id": "_BY2LTVLaQvV",
        "outputId": "8470dc64-7637-4ddc-e62d-89331c8ce1ef"
      },
      "outputs": [
        {
          "name": "stderr",
          "output_type": "stream",
          "text": [
            "[Parallel(n_jobs=-1)]: Using backend LokyBackend with 4 concurrent workers.\n",
            "[Parallel(n_jobs=-1)]: Done   1 out of   1 | elapsed: 14.5min finished\n"
          ]
        },
        {
          "data": {
            "text/plain": [
              "LogisticRegression(C=5.0, class_weight='balanced', dual=False,\n",
              "                   fit_intercept=True, intercept_scaling=1, l1_ratio=None,\n",
              "                   max_iter=100, multi_class='auto', n_jobs=-1, penalty='l2',\n",
              "                   random_state=0, solver='lbfgs', tol=0.0001, verbose=1,\n",
              "                   warm_start=False)"
            ]
          },
          "execution_count": 100,
          "metadata": {
            "tags": []
          },
          "output_type": "execute_result"
        }
      ],
      "source": [
        "clf_lr.fit(X_train, y_train)"
      ]
    },
    {
      "cell_type": "code",
      "execution_count": null,
      "metadata": {
        "colab": {
          "base_uri": "https://localhost:8080/",
          "height": 1000
        },
        "id": "ZAaCEQGxaQvV",
        "outputId": "46d013ac-060d-4901-cc96-3d1d2bdae48b"
      },
      "outputs": [
        {
          "name": "stdout",
          "output_type": "stream",
          "text": [
            "Training Set\n",
            "Accuracy: 0.6574464\n",
            "\n",
            "              precision    recall  f1-score   support\n",
            "\n",
            "           1     0.7475    0.7750    0.7610    250000\n",
            "           2     0.5984    0.5827    0.5905    250000\n",
            "           3     0.5948    0.5759    0.5852    250000\n",
            "           4     0.5979    0.5970    0.5975    250000\n",
            "           5     0.7398    0.7565    0.7480    250000\n",
            "\n",
            "    accuracy                         0.6574   1250000\n",
            "   macro avg     0.6557    0.6574    0.6564   1250000\n",
            "weighted avg     0.6557    0.6574    0.6564   1250000\n",
            "\n"
          ]
        },
        {
          "data": {
            "image/png": "[encoded data removed]",
            "text/plain": [
              "<Figure size 432x288 with 2 Axes>"
            ]
          },
          "metadata": {
            "needs_background": "light",
            "tags": []
          },
          "output_type": "display_data"
        },
        {
          "name": "stdout",
          "output_type": "stream",
          "text": [
            "\n",
            "Validation Set\n",
            "Accuracy: 0.63576\n",
            "\n",
            "              precision    recall  f1-score   support\n",
            "\n",
            "           1     0.7366    0.7436    0.7401     31118\n",
            "           2     0.4375    0.5265    0.4778     22851\n",
            "           3     0.4537    0.5208    0.4849     31401\n",
            "           4     0.5214    0.5384    0.5298     62178\n",
            "           5     0.8140    0.7217    0.7651    102452\n",
            "\n",
            "    accuracy                         0.6358    250000\n",
            "   macro avg     0.5926    0.6102    0.5995    250000\n",
            "weighted avg     0.6519    0.6358    0.6420    250000\n",
            "\n"
          ]
        },
        {
          "data": {
            "image/png": "[encoded data removed]",
            "text/plain": [
              "<Figure size 432x288 with 2 Axes>"
            ]
          },
          "metadata": {
            "needs_background": "light",
            "tags": []
          },
          "output_type": "display_data"
        },
        {
          "name": "stdout",
          "output_type": "stream",
          "text": [
            "\n",
            "Testing Set\n",
            "Accuracy: 0.636472\n",
            "\n",
            "              precision    recall  f1-score   support\n",
            "\n",
            "           1     0.7397    0.7443    0.7420     31175\n",
            "           2     0.4366    0.5221    0.4755     22635\n",
            "           3     0.4498    0.5267    0.4853     30996\n",
            "           4     0.5203    0.5386    0.5293     62024\n",
            "           5     0.8166    0.7208    0.7657    103170\n",
            "\n",
            "    accuracy                         0.6365    250000\n",
            "   macro avg     0.5926    0.6105    0.5996    250000\n",
            "weighted avg     0.6536    0.6365    0.6431    250000\n",
            "\n"
          ]
        },
        {
          "data": {
            "image/png": "[encoded data removed]",
            "text/plain": [
              "<Figure size 432x288 with 2 Axes>"
            ]
          },
          "metadata": {
            "needs_background": "light",
            "tags": []
          },
          "output_type": "display_data"
        },
        {
          "name": "stdout",
          "output_type": "stream",
          "text": [
            "\n"
          ]
        }
      ],
      "source": [
        "evaluate_model(clf_lr, model_name=\"lr_tfidf_bin\")"
      ]
    },
    {
      "cell_type": "markdown",
      "metadata": {
        "id": "6dqH_zhsZzNk"
      },
      "source": [
        "#### Test for TfidfVectorizer (Integer)"
      ]
    },
    {
      "cell_type": "code",
      "execution_count": null,
      "metadata": {
        "colab": {
          "base_uri": "https://localhost:8080/"
        },
        "id": "E_HPFHq6ZlSM",
        "outputId": "36f8c4da-23ce-4e27-c437-4baaedece9d2"
      },
      "outputs": [
        {
          "data": {
            "text/plain": [
              "<10x1575256 sparse matrix of type '<class 'numpy.float64'>'\n",
              "\twith 918 stored elements in Compressed Sparse Row format>"
            ]
          },
          "execution_count": 92,
          "metadata": {
            "tags": []
          },
          "output_type": "execute_result"
        }
      ],
      "source": [
        "X_train[:10,:]"
      ]
    },
    {
      "cell_type": "code",
      "execution_count": null,
      "metadata": {
        "id": "-82_h90SZlSN"
      },
      "outputs": [],
      "source": [
        "from sklearn.linear_model import LogisticRegression\n",
        "\n",
        "clf_lr = LogisticRegression(penalty='l2',\n",
        "                            tol=1e-4,\n",
        "                            C=5.0,\n",
        "                            fit_intercept=True,\n",
        "                            class_weight='balanced',\n",
        "                            random_state=0,\n",
        "                            solver='lbfgs',\n",
        "                            max_iter=100,\n",
        "                            multi_class='auto',\n",
        "                            verbose=1,\n",
        "                            n_jobs=-1)"
      ]
    },
    {
      "cell_type": "code",
      "execution_count": null,
      "metadata": {
        "colab": {
          "base_uri": "https://localhost:8080/"
        },
        "id": "KHdsvljyZlSN",
        "outputId": "cfb10f22-ab08-40f9-9088-86d42fc3273b"
      },
      "outputs": [
        {
          "name": "stderr",
          "output_type": "stream",
          "text": [
            "[Parallel(n_jobs=-1)]: Using backend LokyBackend with 4 concurrent workers.\n",
            "[Parallel(n_jobs=-1)]: Done   1 out of   1 | elapsed: 13.9min finished\n"
          ]
        },
        {
          "data": {
            "text/plain": [
              "LogisticRegression(C=5.0, class_weight='balanced', dual=False,\n",
              "                   fit_intercept=True, intercept_scaling=1, l1_ratio=None,\n",
              "                   max_iter=100, multi_class='auto', n_jobs=-1, penalty='l2',\n",
              "                   random_state=0, solver='lbfgs', tol=0.0001, verbose=1,\n",
              "                   warm_start=False)"
            ]
          },
          "execution_count": 94,
          "metadata": {
            "tags": []
          },
          "output_type": "execute_result"
        }
      ],
      "source": [
        "clf_lr.fit(X_train, y_train)"
      ]
    },
    {
      "cell_type": "code",
      "execution_count": null,
      "metadata": {
        "colab": {
          "base_uri": "https://localhost:8080/",
          "height": 1000
        },
        "id": "dbocuz1oZlSN",
        "outputId": "73e81a19-68ba-4eab-a17d-2fd55dcc6f88"
      },
      "outputs": [
        {
          "name": "stdout",
          "output_type": "stream",
          "text": [
            "Training Set\n",
            "Accuracy: 0.6516936\n",
            "\n",
            "              precision    recall  f1-score   support\n",
            "\n",
            "           1     0.7432    0.7732    0.7579    250000\n",
            "           2     0.5870    0.5845    0.5858    250000\n",
            "           3     0.5833    0.5615    0.5722    250000\n",
            "           4     0.6064    0.5616    0.5832    250000\n",
            "           5     0.7233    0.7777    0.7495    250000\n",
            "\n",
            "    accuracy                         0.6517   1250000\n",
            "   macro avg     0.6486    0.6517    0.6497   1250000\n",
            "weighted avg     0.6486    0.6517    0.6497   1250000\n",
            "\n"
          ]
        },
        {
          "data": {
            "image/png": "[encoded data removed]",
            "text/plain": [
              "<Figure size 432x288 with 2 Axes>"
            ]
          },
          "metadata": {
            "needs_background": "light",
            "tags": []
          },
          "output_type": "display_data"
        },
        {
          "name": "stdout",
          "output_type": "stream",
          "text": [
            "\n",
            "Validation Set\n",
            "Accuracy: 0.63872\n",
            "\n",
            "              precision    recall  f1-score   support\n",
            "\n",
            "           1     0.7338    0.7476    0.7406     31118\n",
            "           2     0.4350    0.5352    0.4799     22851\n",
            "           3     0.4458    0.5142    0.4776     31401\n",
            "           4     0.5354    0.5080    0.5213     62178\n",
            "           5     0.8050    0.7462    0.7745    102452\n",
            "\n",
            "    accuracy                         0.6387    250000\n",
            "   macro avg     0.5910    0.6102    0.5988    250000\n",
            "weighted avg     0.6502    0.6387    0.6431    250000\n",
            "\n"
          ]
        },
        {
          "data": {
            "image/png": "[encoded data removed]",
            "text/plain": [
              "<Figure size 432x288 with 2 Axes>"
            ]
          },
          "metadata": {
            "needs_background": "light",
            "tags": []
          },
          "output_type": "display_data"
        },
        {
          "name": "stdout",
          "output_type": "stream",
          "text": [
            "\n",
            "Testing Set\n",
            "Accuracy: 0.640664\n",
            "\n",
            "              precision    recall  f1-score   support\n",
            "\n",
            "           1     0.7380    0.7481    0.7430     31175\n",
            "           2     0.4367    0.5330    0.4801     22635\n",
            "           3     0.4431    0.5195    0.4783     30996\n",
            "           4     0.5349    0.5111    0.5227     62024\n",
            "           5     0.8088    0.7461    0.7762    103170\n",
            "\n",
            "    accuracy                         0.6407    250000\n",
            "   macro avg     0.5923    0.6116    0.6001    250000\n",
            "weighted avg     0.6530    0.6407    0.6454    250000\n",
            "\n"
          ]
        },
        {
          "data": {
            "image/png": "[encoded data removed]",
            "text/plain": [
              "<Figure size 432x288 with 2 Axes>"
            ]
          },
          "metadata": {
            "needs_background": "light",
            "tags": []
          },
          "output_type": "display_data"
        },
        {
          "name": "stdout",
          "output_type": "stream",
          "text": [
            "\n"
          ]
        }
      ],
      "source": [
        "evaluate_model(clf_lr, model_name=\"lr_tfidf_int\")"
      ]
    },
    {
      "cell_type": "markdown",
      "metadata": {
        "id": "o32sFnu6A6nD"
      },
      "source": [
        "## Experiments and Results"
      ]
    },
    {
      "cell_type": "markdown",
      "metadata": {
        "id": "q1l8CuiDsup7"
      },
      "source": [
        "We will use machine learning models and transformer-based models."
      ]
    },
    {
      "cell_type": "markdown",
      "metadata": {
        "id": "zsa1FU-ZBrNC"
      },
      "source": [
        "### Machine Learning"
      ]
    },
    {
      "cell_type": "markdown",
      "metadata": {
        "id": "EcXK5K_vsmIb"
      },
      "source": [
        "Navie Bayes, Logistic Regression, Random Forest, and Linear SVM will used in this section."
      ]
    },
    {
      "cell_type": "markdown",
      "metadata": {
        "id": "MnbwkgxeCGjj"
      },
      "source": [
        "#### Evaluation Metrics"
      ]
    },
    {
      "cell_type": "markdown",
      "metadata": {
        "id": "33b9D1m3JHYb"
      },
      "source": [
        "* Precision, recall, F1 score\n",
        "* Accuracy\n",
        "* Confusion matrix"
      ]
    },
    {
      "cell_type": "code",
      "execution_count": null,
      "metadata": {
        "id": "C9EUwizuyxz-"
      },
      "outputs": [],
      "source": [
        "from sklearn.metrics import accuracy_score, precision_score, recall_score\n",
        "from sklearn.metrics import f1_score, mean_squared_error\n",
        "from sklearn.metrics import classification_report\n",
        "from sklearn.metrics import plot_confusion_matrix"
      ]
    },
    {
      "cell_type": "code",
      "execution_count": null,
      "metadata": {
        "id": "7IoCWDTpwOBY"
      },
      "outputs": [],
      "source": [
        "def evaluate_model_Xy(model, X, y, y_pred=None, label=\"Training\", model_name=\"model\"):\n",
        "  if y_pred is None:\n",
        "    y_pred = model.predict(X)\n",
        "\n",
        "  print(label + ' Set')\n",
        "  print(\"Accuracy:\", accuracy_score(y, y_pred))\n",
        "  print()\n",
        "\n",
        "  print(classification_report(y, y_pred, digits=4))\n",
        "  disp = plot_confusion_matrix(model, X, y, \n",
        "                               cmap=plt.cm.Blues, normalize='true')\n",
        "  plt.savefig(model_name + \"_\" + label.lower() + \".eps\")\n",
        "  plt.show()\n",
        "  print()"
      ]
    },
    {
      "cell_type": "code",
      "execution_count": null,
      "metadata": {
        "id": "dPl4JYIWRhvx"
      },
      "outputs": [],
      "source": [
        "def evaluate_model(model, model_name=\"model\",\n",
        "                   y_train_pred=None, y_dev_pred=None, y_test_pred=None):\n",
        "  evaluate_model_Xy(model, X_train, y_train, label=\"Training\", model_name=model_name)\n",
        "  evaluate_model_Xy(model, X_dev, y_dev, label=\"Validation\", model_name=model_name)\n",
        "  evaluate_model_Xy(model, X_test, y_test, label=\"Testing\", model_name=model_name)"
      ]
    },
    {
      "cell_type": "markdown",
      "metadata": {
        "id": "hvIb_ns_LZBJ"
      },
      "source": [
        "#### Naive Bayes"
      ]
    },
    {
      "cell_type": "code",
      "execution_count": null,
      "metadata": {
        "id": "TgPXPeDtLfdx"
      },
      "outputs": [],
      "source": [
        "from sklearn.naive_bayes import MultinomialNB\n",
        "\n",
        "clf_nb = MultinomialNB(alpha=0.5,\n",
        "                       fit_prior=True)"
      ]
    },
    {
      "cell_type": "code",
      "execution_count": null,
      "metadata": {
        "colab": {
          "base_uri": "https://localhost:8080/"
        },
        "id": "8M1Fw6NAMA8g",
        "outputId": "5610ad52-a570-42c6-d9bc-e77d0778aca3"
      },
      "outputs": [
        {
          "name": "stdout",
          "output_type": "stream",
          "text": [
            "CPU times: user 4.56 s, sys: 5.78 ms, total: 4.56 s\n",
            "Wall time: 4.56 s\n"
          ]
        },
        {
          "data": {
            "text/plain": [
              "MultinomialNB(alpha=0.5, class_prior=None, fit_prior=True)"
            ]
          },
          "execution_count": 52,
          "metadata": {
            "tags": []
          },
          "output_type": "execute_result"
        }
      ],
      "source": [
        "%time clf_nb.fit(X_train, y_train)"
      ]
    },
    {
      "cell_type": "code",
      "execution_count": null,
      "metadata": {
        "colab": {
          "base_uri": "https://localhost:8080/",
          "height": 1000
        },
        "id": "EYzZqOMWMBvs",
        "outputId": "5c76a67e-12c9-42af-8880-f5303accd8da"
      },
      "outputs": [
        {
          "name": "stdout",
          "output_type": "stream",
          "text": [
            "Training Set\n",
            "Accuracy: 0.7388216\n",
            "\n",
            "              precision    recall  f1-score   support\n",
            "\n",
            "           1     0.7256    0.8041    0.7629    250000\n",
            "           2     0.6909    0.6448    0.6671    250000\n",
            "           3     0.7260    0.6835    0.7041    250000\n",
            "           4     0.7308    0.7361    0.7334    250000\n",
            "           5     0.8175    0.8256    0.8215    250000\n",
            "\n",
            "    accuracy                         0.7388   1250000\n",
            "   macro avg     0.7382    0.7388    0.7378   1250000\n",
            "weighted avg     0.7382    0.7388    0.7378   1250000\n",
            "\n"
          ]
        },
        {
          "data": {
            "image/png": "[encoded data removed]",
            "text/plain": [
              "<Figure size 432x288 with 2 Axes>"
            ]
          },
          "metadata": {
            "needs_background": "light",
            "tags": []
          },
          "output_type": "display_data"
        },
        {
          "name": "stdout",
          "output_type": "stream",
          "text": [
            "\n",
            "Validation Set\n",
            "Accuracy: 0.612748\n",
            "\n",
            "              precision    recall  f1-score   support\n",
            "\n",
            "           1     0.6579    0.7224    0.6886     31118\n",
            "           2     0.3882    0.4538    0.4185     22851\n",
            "           3     0.4345    0.4812    0.4566     31401\n",
            "           4     0.5059    0.5397    0.5223     62178\n",
            "           5     0.8143    0.6996    0.7526    102452\n",
            "\n",
            "    accuracy                         0.6127    250000\n",
            "   macro avg     0.5602    0.5793    0.5677    250000\n",
            "weighted avg     0.6315    0.6127    0.6196    250000\n",
            "\n"
          ]
        },
        {
          "data": {
            "image/png": "[encoded data removed]",
            "text/plain": [
              "<Figure size 432x288 with 2 Axes>"
            ]
          },
          "metadata": {
            "needs_background": "light",
            "tags": []
          },
          "output_type": "display_data"
        },
        {
          "name": "stdout",
          "output_type": "stream",
          "text": [
            "\n",
            "Testing Set\n",
            "Accuracy: 0.615004\n",
            "\n",
            "              precision    recall  f1-score   support\n",
            "\n",
            "           1     0.6605    0.7203    0.6891     31175\n",
            "           2     0.3940    0.4624    0.4255     22635\n",
            "           3     0.4332    0.4872    0.4586     30996\n",
            "           4     0.5058    0.5404    0.5225     62024\n",
            "           5     0.8177    0.6999    0.7543    103170\n",
            "\n",
            "    accuracy                         0.6150    250000\n",
            "   macro avg     0.5622    0.5820    0.5700    250000\n",
            "weighted avg     0.6347    0.6150    0.6222    250000\n",
            "\n"
          ]
        },
        {
          "data": {
            "image/png": "[encoded data removed]",
            "text/plain": [
              "<Figure size 432x288 with 2 Axes>"
            ]
          },
          "metadata": {
            "needs_background": "light",
            "tags": []
          },
          "output_type": "display_data"
        },
        {
          "name": "stdout",
          "output_type": "stream",
          "text": [
            "\n"
          ]
        }
      ],
      "source": [
        "evaluate_model(clf_nb, model_name=\"nb\")"
      ]
    },
    {
      "cell_type": "code",
      "execution_count": null,
      "metadata": {
        "id": "9OZsiwuCMEzF"
      },
      "outputs": [],
      "source": [
        "del clf_nb"
      ]
    },
    {
      "cell_type": "markdown",
      "metadata": {
        "id": "QwUl1mh7EGlg"
      },
      "source": [
        "#### Logisitc Regression Classifier"
      ]
    },
    {
      "cell_type": "code",
      "execution_count": null,
      "metadata": {
        "id": "ZiA2ZdJ4msll"
      },
      "outputs": [],
      "source": [
        "from sklearn.linear_model import LogisticRegression\n",
        "\n",
        "clf_lr = LogisticRegression(penalty='l2',\n",
        "                            tol=1e-4,\n",
        "                            C=5.0,\n",
        "                            fit_intercept=True,\n",
        "                            class_weight='balanced',\n",
        "                            random_state=0,\n",
        "                            solver='lbfgs',\n",
        "                            max_iter=100,\n",
        "                            multi_class='auto',\n",
        "                            verbose=1,\n",
        "                            n_jobs=-1)"
      ]
    },
    {
      "cell_type": "code",
      "execution_count": null,
      "metadata": {
        "colab": {
          "base_uri": "https://localhost:8080/"
        },
        "id": "SjDV0Ls4msoN",
        "outputId": "3349b8b6-3565-4aeb-a14f-013914ba96ec"
      },
      "outputs": [
        {
          "name": "stderr",
          "output_type": "stream",
          "text": [
            "[Parallel(n_jobs=-1)]: Using backend LokyBackend with 4 concurrent workers.\n",
            "[Parallel(n_jobs=-1)]: Done   1 out of   1 | elapsed: 12.7min finished\n"
          ]
        },
        {
          "data": {
            "text/plain": [
              "LogisticRegression(C=5.0, class_weight='balanced', dual=False,\n",
              "                   fit_intercept=True, intercept_scaling=1, l1_ratio=None,\n",
              "                   max_iter=100, multi_class='auto', n_jobs=-1, penalty='l2',\n",
              "                   random_state=0, solver='lbfgs', tol=0.0001, verbose=1,\n",
              "                   warm_start=False)"
            ]
          },
          "execution_count": 110,
          "metadata": {
            "tags": []
          },
          "output_type": "execute_result"
        }
      ],
      "source": [
        "clf_lr.fit(X_train, y_train)"
      ]
    },
    {
      "cell_type": "code",
      "execution_count": null,
      "metadata": {
        "colab": {
          "base_uri": "https://localhost:8080/",
          "height": 1000
        },
        "id": "Q8JEBnVdSO5k",
        "outputId": "ffd21544-60b0-4fd3-d194-ba3ab26d5c89"
      },
      "outputs": [
        {
          "name": "stdout",
          "output_type": "stream",
          "text": [
            "Training Set\n",
            "Accuracy: 0.6516936\n",
            "\n",
            "              precision    recall  f1-score   support\n",
            "\n",
            "           1     0.7432    0.7732    0.7579    250000\n",
            "           2     0.5870    0.5845    0.5858    250000\n",
            "           3     0.5833    0.5615    0.5722    250000\n",
            "           4     0.6064    0.5616    0.5832    250000\n",
            "           5     0.7233    0.7777    0.7495    250000\n",
            "\n",
            "    accuracy                         0.6517   1250000\n",
            "   macro avg     0.6486    0.6517    0.6497   1250000\n",
            "weighted avg     0.6486    0.6517    0.6497   1250000\n",
            "\n"
          ]
        },
        {
          "data": {
            "image/png": "[encoded data removed]",
            "text/plain": [
              "<Figure size 432x288 with 2 Axes>"
            ]
          },
          "metadata": {
            "needs_background": "light",
            "tags": []
          },
          "output_type": "display_data"
        },
        {
          "name": "stdout",
          "output_type": "stream",
          "text": [
            "\n",
            "Validation Set\n",
            "Accuracy: 0.63872\n",
            "\n",
            "              precision    recall  f1-score   support\n",
            "\n",
            "           1     0.7338    0.7476    0.7406     31118\n",
            "           2     0.4350    0.5352    0.4799     22851\n",
            "           3     0.4458    0.5142    0.4776     31401\n",
            "           4     0.5354    0.5080    0.5213     62178\n",
            "           5     0.8050    0.7462    0.7745    102452\n",
            "\n",
            "    accuracy                         0.6387    250000\n",
            "   macro avg     0.5910    0.6102    0.5988    250000\n",
            "weighted avg     0.6502    0.6387    0.6431    250000\n",
            "\n"
          ]
        },
        {
          "data": {
            "image/png": "[encoded data removed]",
            "text/plain": [
              "<Figure size 432x288 with 2 Axes>"
            ]
          },
          "metadata": {
            "needs_background": "light",
            "tags": []
          },
          "output_type": "display_data"
        },
        {
          "name": "stdout",
          "output_type": "stream",
          "text": [
            "\n",
            "Testing Set\n",
            "Accuracy: 0.640664\n",
            "\n",
            "              precision    recall  f1-score   support\n",
            "\n",
            "           1     0.7380    0.7481    0.7430     31175\n",
            "           2     0.4367    0.5330    0.4801     22635\n",
            "           3     0.4431    0.5195    0.4783     30996\n",
            "           4     0.5349    0.5111    0.5227     62024\n",
            "           5     0.8088    0.7461    0.7762    103170\n",
            "\n",
            "    accuracy                         0.6407    250000\n",
            "   macro avg     0.5923    0.6116    0.6001    250000\n",
            "weighted avg     0.6530    0.6407    0.6454    250000\n",
            "\n"
          ]
        },
        {
          "data": {
            "image/png": "[encoded data removed]",
            "text/plain": [
              "<Figure size 432x288 with 2 Axes>"
            ]
          },
          "metadata": {
            "needs_background": "light",
            "tags": []
          },
          "output_type": "display_data"
        },
        {
          "name": "stdout",
          "output_type": "stream",
          "text": [
            "\n"
          ]
        }
      ],
      "source": [
        "evaluate_model(clf_lr, model_name=\"lr\")"
      ]
    },
    {
      "cell_type": "code",
      "execution_count": null,
      "metadata": {
        "id": "qlt4_KuGXTCc"
      },
      "outputs": [],
      "source": [
        "del clf_lr"
      ]
    },
    {
      "cell_type": "markdown",
      "metadata": {
        "id": "XNayZFg4EIjy"
      },
      "source": [
        "#### Random Forest Classifier"
      ]
    },
    {
      "cell_type": "code",
      "execution_count": null,
      "metadata": {
        "id": "ZiEek0zuvDjN"
      },
      "outputs": [],
      "source": [
        "from sklearn.ensemble import RandomForestClassifier\n",
        "\n",
        "clf_rf = RandomForestClassifier(n_estimators=500,\n",
        "                                criterion=\"gini\",\n",
        "                                max_depth=None, \n",
        "                                min_samples_split=2,\n",
        "                                min_samples_leaf=10, \n",
        "                                max_features=\"auto\", \n",
        "                                n_jobs=-1,\n",
        "                                verbose=1,\n",
        "                                random_state=0,\n",
        "                                class_weight='balanced')"
      ]
    },
    {
      "cell_type": "code",
      "execution_count": null,
      "metadata": {
        "colab": {
          "base_uri": "https://localhost:8080/"
        },
        "id": "N2CTjvr8vDmC",
        "outputId": "b38fdfe0-b479-4dda-ef4f-9aad9b3d0132"
      },
      "outputs": [
        {
          "name": "stderr",
          "output_type": "stream",
          "text": [
            "[Parallel(n_jobs=-1)]: Using backend ThreadingBackend with 4 concurrent workers.\n",
            "[Parallel(n_jobs=-1)]: Done  42 tasks      | elapsed:  5.3min\n",
            "[Parallel(n_jobs=-1)]: Done 192 tasks      | elapsed: 23.1min\n",
            "[Parallel(n_jobs=-1)]: Done 442 tasks      | elapsed: 52.1min\n",
            "[Parallel(n_jobs=-1)]: Done 500 out of 500 | elapsed: 58.7min finished\n"
          ]
        },
        {
          "data": {
            "text/plain": [
              "RandomForestClassifier(bootstrap=True, ccp_alpha=0.0, class_weight='balanced',\n",
              "                       criterion='gini', max_depth=None, max_features='auto',\n",
              "                       max_leaf_nodes=None, max_samples=None,\n",
              "                       min_impurity_decrease=0.0, min_impurity_split=None,\n",
              "                       min_samples_leaf=10, min_samples_split=2,\n",
              "                       min_weight_fraction_leaf=0.0, n_estimators=500,\n",
              "                       n_jobs=-1, oob_score=False, random_state=0, verbose=1,\n",
              "                       warm_start=False)"
            ]
          },
          "execution_count": 164,
          "metadata": {
            "tags": []
          },
          "output_type": "execute_result"
        }
      ],
      "source": [
        "clf_rf.fit(X_train, y_train)"
      ]
    },
    {
      "cell_type": "code",
      "execution_count": null,
      "metadata": {
        "colab": {
          "base_uri": "https://localhost:8080/",
          "height": 1000
        },
        "id": "MxXcVcNFvDpo",
        "outputId": "7ed79b07-02f2-429f-ba58-70e1cbdbdb31"
      },
      "outputs": [
        {
          "name": "stderr",
          "output_type": "stream",
          "text": [
            "[Parallel(n_jobs=4)]: Using backend ThreadingBackend with 4 concurrent workers.\n",
            "[Parallel(n_jobs=4)]: Done  42 tasks      | elapsed:   58.3s\n",
            "[Parallel(n_jobs=4)]: Done 192 tasks      | elapsed:  4.4min\n",
            "[Parallel(n_jobs=4)]: Done 442 tasks      | elapsed: 10.0min\n",
            "[Parallel(n_jobs=4)]: Done 500 out of 500 | elapsed: 11.3min finished\n"
          ]
        },
        {
          "name": "stdout",
          "output_type": "stream",
          "text": [
            "Training Set\n",
            "Accuracy: 0.5911504\n",
            "\n",
            "              precision    recall  f1-score   support\n",
            "\n",
            "           1     0.6026    0.8394    0.7016    250000\n",
            "           2     0.5948    0.4250    0.4958    250000\n",
            "           3     0.5879    0.4750    0.5255    250000\n",
            "           4     0.5686    0.4394    0.4957    250000\n",
            "           5     0.5922    0.7769    0.6721    250000\n",
            "\n",
            "    accuracy                         0.5912   1250000\n",
            "   macro avg     0.5892    0.5912    0.5781   1250000\n",
            "weighted avg     0.5892    0.5912    0.5781   1250000\n",
            "\n"
          ]
        },
        {
          "name": "stderr",
          "output_type": "stream",
          "text": [
            "[Parallel(n_jobs=4)]: Using backend ThreadingBackend with 4 concurrent workers.\n",
            "[Parallel(n_jobs=4)]: Done  42 tasks      | elapsed:   59.1s\n",
            "[Parallel(n_jobs=4)]: Done 192 tasks      | elapsed:  4.3min\n",
            "[Parallel(n_jobs=4)]: Done 442 tasks      | elapsed: 10.0min\n",
            "[Parallel(n_jobs=4)]: Done 500 out of 500 | elapsed: 11.3min finished\n"
          ]
        },
        {
          "data": {
            "image/png": "[encoded data removed]",
            "text/plain": [
              "<Figure size 432x288 with 2 Axes>"
            ]
          },
          "metadata": {
            "needs_background": "light",
            "tags": []
          },
          "output_type": "display_data"
        },
        {
          "name": "stdout",
          "output_type": "stream",
          "text": [
            "\n"
          ]
        },
        {
          "name": "stderr",
          "output_type": "stream",
          "text": [
            "[Parallel(n_jobs=4)]: Using backend ThreadingBackend with 4 concurrent workers.\n",
            "[Parallel(n_jobs=4)]: Done  42 tasks      | elapsed:   11.3s\n",
            "[Parallel(n_jobs=4)]: Done 192 tasks      | elapsed:   49.6s\n",
            "[Parallel(n_jobs=4)]: Done 442 tasks      | elapsed:  1.9min\n",
            "[Parallel(n_jobs=4)]: Done 500 out of 500 | elapsed:  2.1min finished\n"
          ]
        },
        {
          "name": "stdout",
          "output_type": "stream",
          "text": [
            "Validation Set\n",
            "Accuracy: 0.594076\n",
            "\n",
            "              precision    recall  f1-score   support\n",
            "\n",
            "           1     0.5825    0.8222    0.6819     31118\n",
            "           2     0.4049    0.3659    0.3845     22851\n",
            "           3     0.4126    0.4161    0.4144     31401\n",
            "           4     0.5030    0.3844    0.4358     62178\n",
            "           5     0.7304    0.7575    0.7437    102452\n",
            "\n",
            "    accuracy                         0.5941    250000\n",
            "   macro avg     0.5267    0.5492    0.5320    250000\n",
            "weighted avg     0.5858    0.5941    0.5852    250000\n",
            "\n"
          ]
        },
        {
          "name": "stderr",
          "output_type": "stream",
          "text": [
            "[Parallel(n_jobs=4)]: Using backend ThreadingBackend with 4 concurrent workers.\n",
            "[Parallel(n_jobs=4)]: Done  42 tasks      | elapsed:   11.3s\n",
            "[Parallel(n_jobs=4)]: Done 192 tasks      | elapsed:   51.3s\n",
            "[Parallel(n_jobs=4)]: Done 442 tasks      | elapsed:  1.9min\n",
            "[Parallel(n_jobs=4)]: Done 500 out of 500 | elapsed:  2.2min finished\n"
          ]
        },
        {
          "data": {
            "image/png": "[encoded data removed]",
            "text/plain": [
              "<Figure size 432x288 with 2 Axes>"
            ]
          },
          "metadata": {
            "needs_background": "light",
            "tags": []
          },
          "output_type": "display_data"
        },
        {
          "name": "stdout",
          "output_type": "stream",
          "text": [
            "\n"
          ]
        },
        {
          "name": "stderr",
          "output_type": "stream",
          "text": [
            "[Parallel(n_jobs=4)]: Using backend ThreadingBackend with 4 concurrent workers.\n",
            "[Parallel(n_jobs=4)]: Done  42 tasks      | elapsed:   11.4s\n",
            "[Parallel(n_jobs=4)]: Done 192 tasks      | elapsed:   49.8s\n",
            "[Parallel(n_jobs=4)]: Done 442 tasks      | elapsed:  1.9min\n",
            "[Parallel(n_jobs=4)]: Done 500 out of 500 | elapsed:  2.1min finished\n"
          ]
        },
        {
          "name": "stdout",
          "output_type": "stream",
          "text": [
            "Testing Set\n",
            "Accuracy: 0.595396\n",
            "\n",
            "              precision    recall  f1-score   support\n",
            "\n",
            "           1     0.5822    0.8195    0.6808     31175\n",
            "           2     0.4083    0.3701    0.3883     22635\n",
            "           3     0.4100    0.4192    0.4145     30996\n",
            "           4     0.5025    0.3851    0.4360     62024\n",
            "           5     0.7336    0.7565    0.7449    103170\n",
            "\n",
            "    accuracy                         0.5954    250000\n",
            "   macro avg     0.5273    0.5501    0.5329    250000\n",
            "weighted avg     0.5878    0.5954    0.5870    250000\n",
            "\n"
          ]
        },
        {
          "name": "stderr",
          "output_type": "stream",
          "text": [
            "[Parallel(n_jobs=4)]: Using backend ThreadingBackend with 4 concurrent workers.\n",
            "[Parallel(n_jobs=4)]: Done  42 tasks      | elapsed:   11.4s\n",
            "[Parallel(n_jobs=4)]: Done 192 tasks      | elapsed:   50.9s\n",
            "[Parallel(n_jobs=4)]: Done 442 tasks      | elapsed:  1.9min\n",
            "[Parallel(n_jobs=4)]: Done 500 out of 500 | elapsed:  2.2min finished\n"
          ]
        },
        {
          "data": {
            "image/png": "[encoded data removed]",
            "text/plain": [
              "<Figure size 432x288 with 2 Axes>"
            ]
          },
          "metadata": {
            "needs_background": "light",
            "tags": []
          },
          "output_type": "display_data"
        },
        {
          "name": "stdout",
          "output_type": "stream",
          "text": [
            "\n"
          ]
        }
      ],
      "source": [
        "evaluate_model(clf_rf, model_name=\"rf\")"
      ]
    },
    {
      "cell_type": "code",
      "execution_count": null,
      "metadata": {
        "id": "ckBuvPgmZ72L"
      },
      "outputs": [],
      "source": [
        "del clf_rf"
      ]
    },
    {
      "cell_type": "markdown",
      "metadata": {
        "id": "L6yuYGTbEIqy"
      },
      "source": [
        "#### Linear Support Vector Machine (SVM)"
      ]
    },
    {
      "cell_type": "code",
      "execution_count": null,
      "metadata": {
        "id": "nGLDS_E8vEKe"
      },
      "outputs": [],
      "source": [
        "from sklearn.linear_model import SGDClassifier\n",
        "from sklearn.preprocessing import StandardScaler\n",
        "from sklearn.pipeline import make_pipeline\n",
        "\n",
        "clf_sgd = make_pipeline(StandardScaler(with_mean=False),\n",
        "                        SGDClassifier(loss='hinge',\n",
        "                                      penalty='l2',\n",
        "                                      alpha=30,\n",
        "                                      max_iter=1000, \n",
        "                                      tol=1e-3,\n",
        "                                      shuffle=True,\n",
        "                                      verbose=1,\n",
        "                                      n_jobs=-1,\n",
        "                                      random_state=0,\n",
        "                                      learning_rate='optimal',\n",
        "                                      early_stopping=True,\n",
        "                                      class_weight='balanced'))"
      ]
    },
    {
      "cell_type": "code",
      "execution_count": null,
      "metadata": {
        "colab": {
          "base_uri": "https://localhost:8080/"
        },
        "id": "bw8-HFILvENT",
        "outputId": "492a45bf-401e-4adf-b183-399a44861b9e"
      },
      "outputs": [
        {
          "name": "stderr",
          "output_type": "stream",
          "text": [
            "[Parallel(n_jobs=-1)]: Using backend ThreadingBackend with 4 concurrent workers.\n"
          ]
        },
        {
          "name": "stdout",
          "output_type": "stream",
          "text": [
            "-- Epoch 1\n",
            "-- Epoch 1\n",
            "-- Epoch 1-- Epoch 1\n",
            "\n",
            "Norm: 0.11, NNZs: 1558816, Bias: 0.001876, T: 1125000, Avg. loss: 0.441736\n",
            "Total training time: 3.38 seconds.\n",
            "Norm: 0.10, NNZs: 1560513, Bias: -0.006005, T: 1125000, Avg. loss: 0.494029\n",
            "Total training time: 3.40 seconds.\n",
            "Norm: 0.10, NNZs: 1567854, Bias: -0.006388, T: 1125000, Avg. loss: 0.502971\n",
            "Total training time: 3.43 seconds.\n",
            "Norm: 0.10, NNZs: 1567719, Bias: 0.002135, T: 1125000, Avg. loss: 0.510538\n",
            "Total training time: 3.48 seconds.\n",
            "-- Epoch 2\n",
            "-- Epoch 2\n",
            "-- Epoch 2\n",
            "-- Epoch 2\n",
            "Norm: 0.10, NNZs: 1569715, Bias: -0.006490, T: 2250000, Avg. loss: 0.480062\n",
            "Total training time: 7.35 seconds.\n",
            "Norm: 0.11, NNZs: 1562306, Bias: 0.001781, T: 2250000, Avg. loss: 0.420601\n",
            "Total training time: 7.36 seconds.\n",
            "Norm: 0.10, NNZs: 1563590, Bias: -0.006102, T: 2250000, Avg. loss: 0.472608\n",
            "Total training time: 7.37 seconds.\n",
            "Norm: 0.10, NNZs: 1569464, Bias: 0.002032, T: 2250000, Avg. loss: 0.487301\n",
            "Total training time: 7.37 seconds.\n",
            "-- Epoch 3\n",
            "-- Epoch 3\n",
            "-- Epoch 3\n",
            "-- Epoch 3\n",
            "Norm: 0.10, NNZs: 1570006, Bias: -0.006551, T: 3375000, Avg. loss: 0.476630\n",
            "Total training time: 11.20 seconds.\n",
            "Norm: 0.10, NNZs: 1569766, Bias: 0.001971, T: 3375000, Avg. loss: 0.484008\n",
            "Total training time: 11.26 seconds.\n",
            "Norm: 0.11, NNZs: 1562852, Bias: 0.001725, T: 3375000, Avg. loss: 0.417514\n",
            "Total training time: 11.32 seconds.\n",
            "Norm: 0.10, NNZs: 1564056, Bias: -0.006159, T: 3375000, Avg. loss: 0.469376\n",
            "Total training time: 11.37 seconds.\n",
            "-- Epoch 4\n",
            "-- Epoch 4\n",
            "-- Epoch 4\n",
            "-- Epoch 4\n",
            "Norm: 0.10, NNZs: 1570068, Bias: -0.006594, T: 4500000, Avg. loss: 0.475017\n",
            "Total training time: 15.01 seconds.\n",
            "Norm: 0.10, NNZs: 1569869, Bias: 0.001928, T: 4500000, Avg. loss: 0.482393\n",
            "Total training time: 15.15 seconds.\n",
            "Norm: 0.11, NNZs: 1563031, Bias: 0.001686, T: 4500000, Avg. loss: 0.415965\n",
            "Total training time: 15.21 seconds.\n",
            "Norm: 0.10, NNZs: 1564217, Bias: -0.006199, T: 4500000, Avg. loss: 0.467871\n",
            "Total training time: 15.23 seconds.\n",
            "-- Epoch 5\n",
            "-- Epoch 5\n",
            "-- Epoch 5\n",
            "-- Epoch 5\n",
            "Norm: 0.10, NNZs: 1570110, Bias: -0.006627, T: 5625000, Avg. loss: 0.474029\n",
            "Total training time: 18.77 seconds.\n",
            "Norm: 0.10, NNZs: 1569908, Bias: 0.001895, T: 5625000, Avg. loss: 0.481421\n",
            "Total training time: 19.04 seconds.\n",
            "Norm: 0.11, NNZs: 1563097, Bias: 0.001655, T: 5625000, Avg. loss: 0.415056\n",
            "Total training time: 19.07 seconds.\n",
            "Norm: 0.10, NNZs: 1564298, Bias: -0.006231, T: 5625000, Avg. loss: 0.466964\n",
            "Total training time: 19.06 seconds.\n",
            "-- Epoch 6\n",
            "-- Epoch 6\n",
            "-- Epoch 6\n",
            "-- Epoch 6\n",
            "Norm: 0.10, NNZs: 1570147, Bias: -0.006654, T: 6750000, Avg. loss: 0.473470\n",
            "Total training time: 22.45 seconds.\n",
            "Norm: 0.10, NNZs: 1564341, Bias: -0.006256, T: 6750000, Avg. loss: 0.466383\n",
            "Total training time: 22.84 seconds.\n",
            "Norm: 0.10, NNZs: 1569930, Bias: 0.001868, T: 6750000, Avg. loss: 0.480821\n",
            "Total training time: 22.86 seconds.\n",
            "Convergence after 6 epochs took 22.91 seconds\n",
            "Norm: 0.11, NNZs: 1563155, Bias: 0.001630, T: 6750000, Avg. loss: 0.414517\n",
            "Total training time: 23.03 seconds.\n",
            "-- Epoch 1\n",
            "Convergence after 6 epochs took 23.39 seconds\n",
            "Convergence after 6 epochs took 23.47 seconds\n",
            "Convergence after 6 epochs took 23.61 seconds\n",
            "Norm: 0.11, NNZs: 1548511, Bias: 0.001934, T: 1125000, Avg. loss: 0.439630\n",
            "Total training time: 1.78 seconds.\n",
            "-- Epoch 2\n",
            "Norm: 0.10, NNZs: 1553898, Bias: 0.001846, T: 2250000, Avg. loss: 0.420228\n",
            "Total training time: 3.71 seconds.\n",
            "-- Epoch 3\n",
            "Norm: 0.10, NNZs: 1554652, Bias: 0.001795, T: 3375000, Avg. loss: 0.417363\n",
            "Total training time: 5.67 seconds.\n",
            "-- Epoch 4\n",
            "Norm: 0.10, NNZs: 1554912, Bias: 0.001758, T: 4500000, Avg. loss: 0.415920\n",
            "Total training time: 7.63 seconds.\n",
            "-- Epoch 5\n",
            "Norm: 0.10, NNZs: 1555064, Bias: 0.001730, T: 5625000, Avg. loss: 0.415165\n",
            "Total training time: 9.56 seconds.\n",
            "-- Epoch 6\n",
            "Norm: 0.10, NNZs: 1555122, Bias: 0.001707, T: 6750000, Avg. loss: 0.414609\n",
            "Total training time: 11.51 seconds.\n",
            "Convergence after 6 epochs took 11.82 seconds\n"
          ]
        },
        {
          "name": "stderr",
          "output_type": "stream",
          "text": [
            "[Parallel(n_jobs=-1)]: Done   5 out of   5 | elapsed:   35.4s finished\n"
          ]
        },
        {
          "data": {
            "text/plain": [
              "Pipeline(memory=None,\n",
              "         steps=[('standardscaler',\n",
              "                 StandardScaler(copy=True, with_mean=False, with_std=True)),\n",
              "                ('sgdclassifier',\n",
              "                 SGDClassifier(alpha=30, average=False, class_weight='balanced',\n",
              "                               early_stopping=True, epsilon=0.1, eta0=0.0,\n",
              "                               fit_intercept=True, l1_ratio=0.15,\n",
              "                               learning_rate='optimal', loss='hinge',\n",
              "                               max_iter=1000, n_iter_no_change=5, n_jobs=-1,\n",
              "                               penalty='l2', power_t=0.5, random_state=0,\n",
              "                               shuffle=True, tol=0.001, validation_fraction=0.1,\n",
              "                               verbose=1, warm_start=False))],\n",
              "         verbose=False)"
            ]
          },
          "execution_count": 147,
          "metadata": {
            "tags": []
          },
          "output_type": "execute_result"
        }
      ],
      "source": [
        "clf_sgd.fit(X_train, y_train)"
      ]
    },
    {
      "cell_type": "code",
      "execution_count": null,
      "metadata": {
        "colab": {
          "base_uri": "https://localhost:8080/",
          "height": 1000
        },
        "id": "fBw7Ltt2v0Aq",
        "outputId": "39e026b2-d99d-43f3-823c-b4d4a8905a95"
      },
      "outputs": [
        {
          "name": "stdout",
          "output_type": "stream",
          "text": [
            "Training Set\n",
            "Accuracy: 0.7624648\n",
            "\n",
            "              precision    recall  f1-score   support\n",
            "\n",
            "           1     0.6548    0.9362    0.7706    250000\n",
            "           2     0.8450    0.5932    0.6970    250000\n",
            "           3     0.8517    0.6629    0.7455    250000\n",
            "           4     0.8214    0.6903    0.7502    250000\n",
            "           5     0.7440    0.9298    0.8266    250000\n",
            "\n",
            "    accuracy                         0.7625   1250000\n",
            "   macro avg     0.7834    0.7625    0.7580   1250000\n",
            "weighted avg     0.7834    0.7625    0.7580   1250000\n",
            "\n"
          ]
        },
        {
          "data": {
            "image/png": "[encoded data removed]",
            "text/plain": [
              "<Figure size 432x288 with 2 Axes>"
            ]
          },
          "metadata": {
            "needs_background": "light",
            "tags": []
          },
          "output_type": "display_data"
        },
        {
          "name": "stdout",
          "output_type": "stream",
          "text": [
            "\n",
            "Validation Set\n",
            "Accuracy: 0.617348\n",
            "\n",
            "              precision    recall  f1-score   support\n",
            "\n",
            "           1     0.5529    0.8608    0.6733     31118\n",
            "           2     0.4274    0.3141    0.3621     22851\n",
            "           3     0.4665    0.3606    0.4068     31401\n",
            "           4     0.5374    0.4072    0.4634     62178\n",
            "           5     0.7385    0.8173    0.7759    102452\n",
            "\n",
            "    accuracy                         0.6173    250000\n",
            "   macro avg     0.5446    0.5520    0.5363    250000\n",
            "weighted avg     0.6028    0.6173    0.6012    250000\n",
            "\n"
          ]
        },
        {
          "data": {
            "image/png": "[encoded data removed]",
            "text/plain": [
              "<Figure size 432x288 with 2 Axes>"
            ]
          },
          "metadata": {
            "needs_background": "light",
            "tags": []
          },
          "output_type": "display_data"
        },
        {
          "name": "stdout",
          "output_type": "stream",
          "text": [
            "\n",
            "Testing Set\n",
            "Accuracy: 0.61988\n",
            "\n",
            "              precision    recall  f1-score   support\n",
            "\n",
            "           1     0.5551    0.8588    0.6744     31175\n",
            "           2     0.4317    0.3186    0.3666     22635\n",
            "           3     0.4632    0.3630    0.4071     30996\n",
            "           4     0.5385    0.4103    0.4658     62024\n",
            "           5     0.7424    0.8169    0.7779    103170\n",
            "\n",
            "    accuracy                         0.6199    250000\n",
            "   macro avg     0.5462    0.5535    0.5383    250000\n",
            "weighted avg     0.6058    0.6199    0.6043    250000\n",
            "\n"
          ]
        },
        {
          "data": {
            "image/png": "[encoded data removed]",
            "text/plain": [
              "<Figure size 432x288 with 2 Axes>"
            ]
          },
          "metadata": {
            "needs_background": "light",
            "tags": []
          },
          "output_type": "display_data"
        },
        {
          "name": "stdout",
          "output_type": "stream",
          "text": [
            "\n"
          ]
        }
      ],
      "source": [
        "evaluate_model(clf_sgd, model_name=\"sgd\")"
      ]
    },
    {
      "cell_type": "markdown",
      "metadata": {
        "id": "fkremdjIA9U9"
      },
      "source": [
        "10: 0.611916\n",
        "\n",
        "20: 0.616532\n",
        "\n",
        "30: 0.617348\n",
        "\n",
        "35: 0.617388\n",
        "\n",
        "40: 0.616676"
      ]
    },
    {
      "cell_type": "code",
      "execution_count": null,
      "metadata": {
        "id": "tUkFBnB9XvGs"
      },
      "outputs": [],
      "source": [
        "del clf_sgd"
      ]
    },
    {
      "cell_type": "markdown",
      "metadata": {
        "id": "0iuniT0yEBbZ"
      },
      "source": [
        "### Deep Learning"
      ]
    },
    {
      "cell_type": "markdown",
      "metadata": {
        "id": "qyp01ZTLtKQD"
      },
      "source": [
        "Transformer-based models including BERT, DistilBERT, RoBERTa, and XLNet will be used in this section."
      ]
    },
    {
      "cell_type": "markdown",
      "metadata": {
        "id": "DHn3Cbz_4OE1"
      },
      "source": [
        "#### Packages"
      ]
    },
    {
      "cell_type": "markdown",
      "metadata": {
        "id": "Hw7uJKM9tWBq"
      },
      "source": [
        "The Python package `simpletransformers` will be used."
      ]
    },
    {
      "cell_type": "code",
      "execution_count": null,
      "metadata": {
        "colab": {
          "base_uri": "https://localhost:8080/"
        },
        "id": "QiLejBv6kfag",
        "outputId": "fc65e164-bce5-416f-b2eb-3c6299d88a30"
      },
      "outputs": [
        {
          "name": "stdout",
          "output_type": "stream",
          "text": [
            "Requirement already satisfied: simpletransformers in /usr/local/lib/python3.6/dist-packages (0.49.5)\n",
            "Requirement already satisfied: numpy in /usr/local/lib/python3.6/dist-packages (from simpletransformers) (1.18.5)\n",
            "Requirement already satisfied: scipy in /usr/local/lib/python3.6/dist-packages (from simpletransformers) (1.4.1)\n",
            "Requirement already satisfied: scikit-learn in /usr/local/lib/python3.6/dist-packages (from simpletransformers) (0.22.2.post1)\n",
            "Requirement already satisfied: requests in /usr/local/lib/python3.6/dist-packages (from simpletransformers) (2.23.0)\n",
            "Requirement already satisfied: tokenizers in /usr/local/lib/python3.6/dist-packages (from simpletransformers) (0.9.4)\n",
            "Requirement already satisfied: tqdm>=4.47.0 in /usr/local/lib/python3.6/dist-packages (from simpletransformers) (4.54.0)\n",
            "Requirement already satisfied: wandb in /usr/local/lib/python3.6/dist-packages (from simpletransformers) (0.10.11)\n",
            "Requirement already satisfied: pandas in /usr/local/lib/python3.6/dist-packages (from simpletransformers) (1.1.4)\n",
            "Requirement already satisfied: streamlit in /usr/local/lib/python3.6/dist-packages (from simpletransformers) (0.71.0)\n",
            "Requirement already satisfied: tensorboardx in /usr/local/lib/python3.6/dist-packages (from simpletransformers) (2.1)\n",
            "Requirement already satisfied: regex in /usr/local/lib/python3.6/dist-packages (from simpletransformers) (2019.12.20)\n",
            "Requirement already satisfied: seqeval in /usr/local/lib/python3.6/dist-packages (from simpletransformers) (1.2.2)\n",
            "Requirement already satisfied: transformers>=3.0.2 in /usr/local/lib/python3.6/dist-packages (from simpletransformers) (3.5.1)\n",
            "Requirement already satisfied: joblib>=0.11 in /usr/local/lib/python3.6/dist-packages (from scikit-learn->simpletransformers) (0.17.0)\n",
            "Requirement already satisfied: idna<3,>=2.5 in /usr/local/lib/python3.6/dist-packages (from requests->simpletransformers) (2.10)\n",
            "Requirement already satisfied: urllib3!=1.25.0,!=1.25.1,<1.26,>=1.21.1 in /usr/local/lib/python3.6/dist-packages (from requests->simpletransformers) (1.24.3)\n",
            "Requirement already satisfied: chardet<4,>=3.0.2 in /usr/local/lib/python3.6/dist-packages (from requests->simpletransformers) (3.0.4)\n",
            "Requirement already satisfied: certifi>=2017.4.17 in /usr/local/lib/python3.6/dist-packages (from requests->simpletransformers) (2020.11.8)\n",
            "Requirement already satisfied: GitPython>=1.0.0 in /usr/local/lib/python3.6/dist-packages (from wandb->simpletransformers) (3.1.11)\n",
            "Requirement already satisfied: six>=1.13.0 in /usr/local/lib/python3.6/dist-packages (from wandb->simpletransformers) (1.15.0)\n",
            "Requirement already satisfied: configparser>=3.8.1 in /usr/local/lib/python3.6/dist-packages (from wandb->simpletransformers) (5.0.1)\n",
            "Requirement already satisfied: PyYAML in /usr/local/lib/python3.6/dist-packages (from wandb->simpletransformers) (3.13)\n",
            "Requirement already satisfied: sentry-sdk>=0.4.0 in /usr/local/lib/python3.6/dist-packages (from wandb->simpletransformers) (0.19.4)\n",
            "Requirement already satisfied: subprocess32>=3.5.3 in /usr/local/lib/python3.6/dist-packages (from wandb->simpletransformers) (3.5.4)\n",
            "Requirement already satisfied: docker-pycreds>=0.4.0 in /usr/local/lib/python3.6/dist-packages (from wandb->simpletransformers) (0.4.0)\n",
            "Requirement already satisfied: protobuf>=3.12.0 in /usr/local/lib/python3.6/dist-packages (from wandb->simpletransformers) (3.12.4)\n",
            "Requirement already satisfied: python-dateutil>=2.6.1 in /usr/local/lib/python3.6/dist-packages (from wandb->simpletransformers) (2.8.1)\n",
            "Requirement already satisfied: promise<3,>=2.0 in /usr/local/lib/python3.6/dist-packages (from wandb->simpletransformers) (2.3)\n",
            "Requirement already satisfied: watchdog>=0.8.3 in /usr/local/lib/python3.6/dist-packages (from wandb->simpletransformers) (0.10.4)\n",
            "Requirement already satisfied: Click>=7.0 in /usr/local/lib/python3.6/dist-packages (from wandb->simpletransformers) (7.1.2)\n",
            "Requirement already satisfied: psutil>=5.0.0 in /usr/local/lib/python3.6/dist-packages (from wandb->simpletransformers) (5.4.8)\n",
            "Requirement already satisfied: shortuuid>=0.5.0 in /usr/local/lib/python3.6/dist-packages (from wandb->simpletransformers) (1.0.1)\n",
            "Requirement already satisfied: pytz>=2017.2 in /usr/local/lib/python3.6/dist-packages (from pandas->simpletransformers) (2018.9)\n",
            "Requirement already satisfied: boto3 in /usr/local/lib/python3.6/dist-packages (from streamlit->simpletransformers) (1.16.25)\n",
            "Requirement already satisfied: botocore>=1.13.44 in /usr/local/lib/python3.6/dist-packages (from streamlit->simpletransformers) (1.19.25)\n",
            "Requirement already satisfied: pydeck>=0.1.dev5 in /usr/local/lib/python3.6/dist-packages (from streamlit->simpletransformers) (0.5.0)\n",
            "Requirement already satisfied: pyarrow in /usr/local/lib/python3.6/dist-packages (from streamlit->simpletransformers) (0.14.1)\n",
            "Requirement already satisfied: toml in /usr/local/lib/python3.6/dist-packages (from streamlit->simpletransformers) (0.10.2)\n",
            "Requirement already satisfied: pillow>=6.2.0 in /usr/local/lib/python3.6/dist-packages (from streamlit->simpletransformers) (7.0.0)\n",
            "Requirement already satisfied: blinker in /usr/local/lib/python3.6/dist-packages (from streamlit->simpletransformers) (1.4)\n",
            "Requirement already satisfied: enum-compat in /usr/local/lib/python3.6/dist-packages (from streamlit->simpletransformers) (0.0.3)\n",
            "Requirement already satisfied: tornado>=5.0 in /usr/local/lib/python3.6/dist-packages (from streamlit->simpletransformers) (5.1.1)\n",
            "Requirement already satisfied: tzlocal in /usr/local/lib/python3.6/dist-packages (from streamlit->simpletransformers) (1.5.1)\n",
            "Requirement already satisfied: packaging in /usr/local/lib/python3.6/dist-packages (from streamlit->simpletransformers) (20.4)\n",
            "Requirement already satisfied: altair>=3.2.0 in /usr/local/lib/python3.6/dist-packages (from streamlit->simpletransformers) (4.1.0)\n",
            "Requirement already satisfied: base58 in /usr/local/lib/python3.6/dist-packages (from streamlit->simpletransformers) (2.0.1)\n",
            "Requirement already satisfied: astor in /usr/local/lib/python3.6/dist-packages (from streamlit->simpletransformers) (0.8.1)\n",
            "Requirement already satisfied: cachetools>=4.0 in /usr/local/lib/python3.6/dist-packages (from streamlit->simpletransformers) (4.1.1)\n",
            "Requirement already satisfied: validators in /usr/local/lib/python3.6/dist-packages (from streamlit->simpletransformers) (0.18.1)\n",
            "Requirement already satisfied: dataclasses; python_version < \"3.7\" in /usr/local/lib/python3.6/dist-packages (from transformers>=3.0.2->simpletransformers) (0.8)\n",
            "Requirement already satisfied: sentencepiece==0.1.91 in /usr/local/lib/python3.6/dist-packages (from transformers>=3.0.2->simpletransformers) (0.1.91)\n",
            "Requirement already satisfied: filelock in /usr/local/lib/python3.6/dist-packages (from transformers>=3.0.2->simpletransformers) (3.0.12)\n",
            "Requirement already satisfied: sacremoses in /usr/local/lib/python3.6/dist-packages (from transformers>=3.0.2->simpletransformers) (0.0.43)\n",
            "Requirement already satisfied: gitdb<5,>=4.0.1 in /usr/local/lib/python3.6/dist-packages (from GitPython>=1.0.0->wandb->simpletransformers) (4.0.5)\n",
            "Requirement already satisfied: setuptools in /usr/local/lib/python3.6/dist-packages (from protobuf>=3.12.0->wandb->simpletransformers) (50.3.2)\n",
            "Requirement already satisfied: pathtools>=0.1.1 in /usr/local/lib/python3.6/dist-packages (from watchdog>=0.8.3->wandb->simpletransformers) (0.1.2)\n",
            "Requirement already satisfied: s3transfer<0.4.0,>=0.3.0 in /usr/local/lib/python3.6/dist-packages (from boto3->streamlit->simpletransformers) (0.3.3)\n",
            "Requirement already satisfied: jmespath<1.0.0,>=0.7.1 in /usr/local/lib/python3.6/dist-packages (from boto3->streamlit->simpletransformers) (0.10.0)\n",
            "Requirement already satisfied: traitlets>=4.3.2 in /usr/local/lib/python3.6/dist-packages (from pydeck>=0.1.dev5->streamlit->simpletransformers) (4.3.3)\n",
            "Requirement already satisfied: jinja2>=2.10.1 in /usr/local/lib/python3.6/dist-packages (from pydeck>=0.1.dev5->streamlit->simpletransformers) (2.11.2)\n",
            "Requirement already satisfied: ipywidgets>=7.0.0 in /usr/local/lib/python3.6/dist-packages (from pydeck>=0.1.dev5->streamlit->simpletransformers) (7.5.1)\n",
            "Requirement already satisfied: ipykernel>=5.1.2; python_version >= \"3.4\" in /usr/local/lib/python3.6/dist-packages (from pydeck>=0.1.dev5->streamlit->simpletransformers) (5.3.4)\n",
            "Requirement already satisfied: pyparsing>=2.0.2 in /usr/local/lib/python3.6/dist-packages (from packaging->streamlit->simpletransformers) (2.4.7)\n",
            "Requirement already satisfied: entrypoints in /usr/local/lib/python3.6/dist-packages (from altair>=3.2.0->streamlit->simpletransformers) (0.3)\n",
            "Requirement already satisfied: jsonschema in /usr/local/lib/python3.6/dist-packages (from altair>=3.2.0->streamlit->simpletransformers) (2.6.0)\n",
            "Requirement already satisfied: toolz in /usr/local/lib/python3.6/dist-packages (from altair>=3.2.0->streamlit->simpletransformers) (0.11.1)\n",
            "Requirement already satisfied: decorator>=3.4.0 in /usr/local/lib/python3.6/dist-packages (from validators->streamlit->simpletransformers) (4.4.2)\n",
            "Requirement already satisfied: smmap<4,>=3.0.1 in /usr/local/lib/python3.6/dist-packages (from gitdb<5,>=4.0.1->GitPython>=1.0.0->wandb->simpletransformers) (3.0.4)\n",
            "Requirement already satisfied: ipython-genutils in /usr/local/lib/python3.6/dist-packages (from traitlets>=4.3.2->pydeck>=0.1.dev5->streamlit->simpletransformers) (0.2.0)\n",
            "Requirement already satisfied: MarkupSafe>=0.23 in /usr/local/lib/python3.6/dist-packages (from jinja2>=2.10.1->pydeck>=0.1.dev5->streamlit->simpletransformers) (1.1.1)\n",
            "Requirement already satisfied: widgetsnbextension~=3.5.0 in /usr/local/lib/python3.6/dist-packages (from ipywidgets>=7.0.0->pydeck>=0.1.dev5->streamlit->simpletransformers) (3.5.1)\n",
            "Requirement already satisfied: nbformat>=4.2.0 in /usr/local/lib/python3.6/dist-packages (from ipywidgets>=7.0.0->pydeck>=0.1.dev5->streamlit->simpletransformers) (5.0.8)\n",
            "Requirement already satisfied: ipython>=4.0.0; python_version >= \"3.3\" in /usr/local/lib/python3.6/dist-packages (from ipywidgets>=7.0.0->pydeck>=0.1.dev5->streamlit->simpletransformers) (5.5.0)\n",
            "Requirement already satisfied: jupyter-client in /usr/local/lib/python3.6/dist-packages (from ipykernel>=5.1.2; python_version >= \"3.4\"->pydeck>=0.1.dev5->streamlit->simpletransformers) (5.3.5)\n",
            "Requirement already satisfied: notebook>=4.4.1 in /usr/local/lib/python3.6/dist-packages (from widgetsnbextension~=3.5.0->ipywidgets>=7.0.0->pydeck>=0.1.dev5->streamlit->simpletransformers) (5.3.1)\n",
            "Requirement already satisfied: jupyter-core in /usr/local/lib/python3.6/dist-packages (from nbformat>=4.2.0->ipywidgets>=7.0.0->pydeck>=0.1.dev5->streamlit->simpletransformers) (4.7.0)\n",
            "Requirement already satisfied: pygments in /usr/local/lib/python3.6/dist-packages (from ipython>=4.0.0; python_version >= \"3.3\"->ipywidgets>=7.0.0->pydeck>=0.1.dev5->streamlit->simpletransformers) (2.6.1)\n",
            "Requirement already satisfied: prompt-toolkit<2.0.0,>=1.0.4 in /usr/local/lib/python3.6/dist-packages (from ipython>=4.0.0; python_version >= \"3.3\"->ipywidgets>=7.0.0->pydeck>=0.1.dev5->streamlit->simpletransformers) (1.0.18)\n",
            "Requirement already satisfied: pexpect; sys_platform != \"win32\" in /usr/local/lib/python3.6/dist-packages (from ipython>=4.0.0; python_version >= \"3.3\"->ipywidgets>=7.0.0->pydeck>=0.1.dev5->streamlit->simpletransformers) (4.8.0)\n",
            "Requirement already satisfied: simplegeneric>0.8 in /usr/local/lib/python3.6/dist-packages (from ipython>=4.0.0; python_version >= \"3.3\"->ipywidgets>=7.0.0->pydeck>=0.1.dev5->streamlit->simpletransformers) (0.8.1)\n",
            "Requirement already satisfied: pickleshare in /usr/local/lib/python3.6/dist-packages (from ipython>=4.0.0; python_version >= \"3.3\"->ipywidgets>=7.0.0->pydeck>=0.1.dev5->streamlit->simpletransformers) (0.7.5)\n",
            "Requirement already satisfied: pyzmq>=13 in /usr/local/lib/python3.6/dist-packages (from jupyter-client->ipykernel>=5.1.2; python_version >= \"3.4\"->pydeck>=0.1.dev5->streamlit->simpletransformers) (20.0.0)\n",
            "Requirement already satisfied: nbconvert in /usr/local/lib/python3.6/dist-packages (from notebook>=4.4.1->widgetsnbextension~=3.5.0->ipywidgets>=7.0.0->pydeck>=0.1.dev5->streamlit->simpletransformers) (5.6.1)\n",
            "Requirement already satisfied: terminado>=0.8.1 in /usr/local/lib/python3.6/dist-packages (from notebook>=4.4.1->widgetsnbextension~=3.5.0->ipywidgets>=7.0.0->pydeck>=0.1.dev5->streamlit->simpletransformers) (0.9.1)\n",
            "Requirement already satisfied: Send2Trash in /usr/local/lib/python3.6/dist-packages (from notebook>=4.4.1->widgetsnbextension~=3.5.0->ipywidgets>=7.0.0->pydeck>=0.1.dev5->streamlit->simpletransformers) (1.5.0)\n",
            "Requirement already satisfied: wcwidth in /usr/local/lib/python3.6/dist-packages (from prompt-toolkit<2.0.0,>=1.0.4->ipython>=4.0.0; python_version >= \"3.3\"->ipywidgets>=7.0.0->pydeck>=0.1.dev5->streamlit->simpletransformers) (0.2.5)\n",
            "Requirement already satisfied: ptyprocess>=0.5 in /usr/local/lib/python3.6/dist-packages (from pexpect; sys_platform != \"win32\"->ipython>=4.0.0; python_version >= \"3.3\"->ipywidgets>=7.0.0->pydeck>=0.1.dev5->streamlit->simpletransformers) (0.6.0)\n",
            "Requirement already satisfied: mistune<2,>=0.8.1 in /usr/local/lib/python3.6/dist-packages (from nbconvert->notebook>=4.4.1->widgetsnbextension~=3.5.0->ipywidgets>=7.0.0->pydeck>=0.1.dev5->streamlit->simpletransformers) (0.8.4)\n",
            "Requirement already satisfied: pandocfilters>=1.4.1 in /usr/local/lib/python3.6/dist-packages (from nbconvert->notebook>=4.4.1->widgetsnbextension~=3.5.0->ipywidgets>=7.0.0->pydeck>=0.1.dev5->streamlit->simpletransformers) (1.4.3)\n",
            "Requirement already satisfied: testpath in /usr/local/lib/python3.6/dist-packages (from nbconvert->notebook>=4.4.1->widgetsnbextension~=3.5.0->ipywidgets>=7.0.0->pydeck>=0.1.dev5->streamlit->simpletransformers) (0.4.4)\n",
            "Requirement already satisfied: defusedxml in /usr/local/lib/python3.6/dist-packages (from nbconvert->notebook>=4.4.1->widgetsnbextension~=3.5.0->ipywidgets>=7.0.0->pydeck>=0.1.dev5->streamlit->simpletransformers) (0.6.0)\n",
            "Requirement already satisfied: bleach in /usr/local/lib/python3.6/dist-packages (from nbconvert->notebook>=4.4.1->widgetsnbextension~=3.5.0->ipywidgets>=7.0.0->pydeck>=0.1.dev5->streamlit->simpletransformers) (3.2.1)\n",
            "Requirement already satisfied: webencodings in /usr/local/lib/python3.6/dist-packages (from bleach->nbconvert->notebook>=4.4.1->widgetsnbextension~=3.5.0->ipywidgets>=7.0.0->pydeck>=0.1.dev5->streamlit->simpletransformers) (0.5.1)\n"
          ]
        }
      ],
      "source": [
        "%pip install simpletransformers\n",
        "from simpletransformers.classification import ClassificationModel"
      ]
    },
    {
      "cell_type": "markdown",
      "metadata": {
        "id": "5CjEOUkc4BkA"
      },
      "source": [
        "#### Evaluation Metrics"
      ]
    },
    {
      "cell_type": "code",
      "execution_count": null,
      "metadata": {
        "id": "9dT2bd1Qk0KP"
      },
      "outputs": [],
      "source": [
        "from sklearn.metrics import accuracy_score, precision_score, recall_score\n",
        "from sklearn.metrics import f1_score, mean_squared_error\n",
        "from sklearn.metrics import classification_report\n",
        "from sklearn.metrics import plot_confusion_matrix, confusion_matrix"
      ]
    },
    {
      "cell_type": "code",
      "execution_count": null,
      "metadata": {
        "id": "WJPB3Oqvk0KP"
      },
      "outputs": [],
      "source": [
        "def evaluate_bert_model_one(model, df, label=\"Training\", model_name=\"model\"):\n",
        "  y = df['labels'].tolist()\n",
        "  y_pred, raw_outputs = model.predict(df['text'].tolist())\n",
        "\n",
        "  print(label + ' Set')\n",
        "  print(\"Accuracy:\", accuracy_score(y, y_pred))\n",
        "  print()\n",
        "\n",
        "  print(classification_report(y, y_pred, digits=4))\n",
        "  df_cm = pd.DataFrame(confusion_matrix(y, y_pred, normalize='true'), \n",
        "                       range(1,6), range(1,6))\n",
        "  plt.figure(figsize=(6,4))\n",
        "  ax = sn.heatmap(df_cm, annot=True, cmap=plt.cm.Blues, square=True)\n",
        "  ax.set_xlabel('Predicted label')\n",
        "  ax.set_ylabel('True label')\n",
        "  plt.savefig(model_name + \"_\" + label.lower() + \".eps\")\n",
        "  plt.show()\n",
        "  print()"
      ]
    },
    {
      "cell_type": "code",
      "execution_count": null,
      "metadata": {
        "id": "J2KO8buik0KP"
      },
      "outputs": [],
      "source": [
        "def evaluate_bert_model(model, model_name=\"model\"):\n",
        "  evaluate_bert_model_one(model, df_dev, label=\"Validation\", model_name=model_name)\n",
        "  evaluate_bert_model_one(model, df_test, label=\"Testing\", model_name=model_name)\n",
        "  # evaluate_bert_model_one(model, df_train, label=\"Training\", model_name=model_name)"
      ]
    },
    {
      "cell_type": "markdown",
      "metadata": {
        "id": "_rdJOcZpEU3i"
      },
      "source": [
        "#### BERT"
      ]
    },
    {
      "cell_type": "markdown",
      "metadata": {
        "id": "w8HKPH4YEs_R"
      },
      "source": [
        "BERT (Bidirectional Encoder Representations)"
      ]
    },
    {
      "cell_type": "markdown",
      "metadata": {
        "id": "faMGm8LwJ-7F"
      },
      "source": [
        "##### Tests for Maximum Sequence Level"
      ]
    },
    {
      "cell_type": "code",
      "execution_count": null,
      "metadata": {
        "colab": {
          "base_uri": "https://localhost:8080/"
        },
        "id": "h-xJDWdiV-o-",
        "outputId": "894933e6-7176-47bb-be99-3ec902f3b6d7"
      },
      "outputs": [
        {
          "name": "stderr",
          "output_type": "stream",
          "text": [
            "Some weights of the model checkpoint at bert-base-cased were not used when initializing BertForSequenceClassification: ['cls.predictions.bias', 'cls.predictions.transform.dense.weight', 'cls.predictions.transform.dense.bias', 'cls.predictions.decoder.weight', 'cls.seq_relationship.weight', 'cls.seq_relationship.bias', 'cls.predictions.transform.LayerNorm.weight', 'cls.predictions.transform.LayerNorm.bias']\n",
            "- This IS expected if you are initializing BertForSequenceClassification from the checkpoint of a model trained on another task or with another architecture (e.g. initializing a BertForSequenceClassification model from a BertForPreTraining model).\n",
            "- This IS NOT expected if you are initializing BertForSequenceClassification from the checkpoint of a model that you expect to be exactly identical (initializing a BertForSequenceClassification model from a BertForSequenceClassification model).\n",
            "Some weights of BertForSequenceClassification were not initialized from the model checkpoint at bert-base-cased and are newly initialized: ['classifier.weight', 'classifier.bias']\n",
            "You should probably TRAIN this model on a down-stream task to be able to use it for predictions and inference.\n"
          ]
        }
      ],
      "source": [
        "model_bert_base_cased_64 = \\\n",
        "ClassificationModel('bert',\n",
        "                    'bert-base-cased',\n",
        "                    num_labels=5,\n",
        "                    args={\"output_dir\": \"outputs_bert_base_cased_64/\",\n",
        "                          \"best_model_dir\": \"outputs_bert_base_cased_64/best_model/\",\n",
        "                          \"max_seq_length\": 64,\n",
        "                          \"train_batch_size\": 16,\n",
        "                          \"num_train_epochs\": 1,\n",
        "                          \"logging_steps\": 100,\n",
        "                          \"evaluate_during_training\": False,\n",
        "                          \"evaluate_during_training_steps\": 20000,\n",
        "                          \"evaluate_during_training_verbose\": False,\n",
        "                          \"save_eval_checkpoints\": False,\n",
        "                          \"save_steps\": 20000,\n",
        "                          \"save_model_every_epoch\": False,\n",
        "                          \"overwrite_output_dir\": True,\n",
        "                          \"reprocess_input_data\": False})"
      ]
    },
    {
      "cell_type": "code",
      "execution_count": null,
      "metadata": {
        "colab": {
          "base_uri": "https://localhost:8080/",
          "height": 235,
          "referenced_widgets": [
            "b7c67d4636184feb84eadb974bf80dae",
            "4315c26c47c64efcb23b70e83ff12c49",
            "b0b4886994524315aeb5f505d0290d5a",
            "61e2a4e58fec414fa8ae00991b35e113",
            "720b0ff1faf44b24b44a2370cf6af318",
            "e443749cfeda47c7b322d45efb007ba0",
            "f2da8060168c4e50a632443313d1c74a",
            "2e8d5fc72bba4f8bb19f77e9dcde1884",
            "64dd25b7c19540cd8cd1a27ecc38db50",
            "b5b62d7f73664cafb88092af07ca92e0",
            "31757219f61446cd83944972796bfb36",
            "ea245b8d65404bee8456d6691cd180cc",
            "55972a0450be4a959db392efae871d03",
            "af8ca5194816423daba6af1937d453e7",
            "9da4e9dae39a44ffadd0cf3e4d406167",
            "f9d3c8aa4c4f4283a3c71821d6373f15",
            "cbabdab0145e4b028c7a5c86e52a0ad0",
            "a8a6668d3f8a4c108eeaa276bcacd490",
            "4c5a6632dbc54684aafad848ea9f5540",
            "21bd14479428471f9cc2913772e1aeb7",
            "2844a7bfeb6242248bbf8bc6ec3e29aa",
            "6d41d15de3234970ba78b7f50355bc94",
            "652ed9659c2e48a6b0d5dd809348721d",
            "d73f1f85167449f598d00287cbeac5c9",
            "898f279e432e46f382db56516d38187b",
            "ff879318b9694ef29fd3e83bc0e38c2e",
            "371797c24e734f2c8e91d8344e348306",
            "888d285f18254eda81f943e9bd804739",
            "256be07316184603ac41cfb929dda16c",
            "20f8af95dc284bc59f6d1d4259865b1a",
            "538d2359c9ff43f6b9db79a0eda85b0a",
            "7ae197bcf17b4312aa3f9bd585794256",
            "0427373c4ac241e7b0f88e9496482fbf"
          ]
        },
        "id": "HxG18ecJV-o_",
        "outputId": "ae514574-ee77-408b-8079-a32f2df4d8bd"
      },
      "outputs": [
        {
          "data": {
            "application/vnd.jupyter.widget-view+json": {
              "model_id": "b7c67d4636184feb84eadb974bf80dae",
              "version_major": 2,
              "version_minor": 0
            },
            "text/plain": [
              "HBox(children=(HTML(value=''), FloatProgress(value=0.0, max=1250000.0), HTML(value='')))"
            ]
          },
          "metadata": {
            "tags": []
          },
          "output_type": "display_data"
        },
        {
          "name": "stdout",
          "output_type": "stream",
          "text": [
            "\n"
          ]
        },
        {
          "data": {
            "application/vnd.jupyter.widget-view+json": {
              "model_id": "ea245b8d65404bee8456d6691cd180cc",
              "version_major": 2,
              "version_minor": 0
            },
            "text/plain": [
              "HBox(children=(HTML(value='Epoch'), FloatProgress(value=0.0, max=1.0), HTML(value='')))"
            ]
          },
          "metadata": {
            "tags": []
          },
          "output_type": "display_data"
        },
        {
          "data": {
            "application/vnd.jupyter.widget-view+json": {
              "model_id": "652ed9659c2e48a6b0d5dd809348721d",
              "version_major": 2,
              "version_minor": 0
            },
            "text/plain": [
              "HBox(children=(HTML(value='Running Epoch 0 of 1'), FloatProgress(value=0.0, max=78125.0), HTML(value='')))"
            ]
          },
          "metadata": {
            "tags": []
          },
          "output_type": "display_data"
        },
        {
          "name": "stderr",
          "output_type": "stream",
          "text": [
            "/usr/local/lib/python3.6/dist-packages/torch/optim/lr_scheduler.py:216: UserWarning: Please also save or load the state of the optimizer when saving or loading the scheduler.\n",
            "  warnings.warn(SAVE_STATE_WARNING, UserWarning)\n"
          ]
        },
        {
          "name": "stdout",
          "output_type": "stream",
          "text": [
            "\n",
            "\n"
          ]
        },
        {
          "data": {
            "text/plain": [
              "(78125, 0.9109112539600372)"
            ]
          },
          "execution_count": 43,
          "metadata": {
            "tags": []
          },
          "output_type": "execute_result"
        }
      ],
      "source": [
        "model_bert_base_cased_64.train_model(df_train)"
      ]
    },
    {
      "cell_type": "code",
      "execution_count": null,
      "metadata": {
        "colab": {
          "base_uri": "https://localhost:8080/",
          "height": 1000,
          "referenced_widgets": [
            "d1428bf6a460411499ba302bb8163bc1",
            "8d8c63dcd2c043009bb817b6593b9cb4",
            "bb336bcd8b72414c8c708cb562d204ed",
            "2387cd9d1fc242f49691eac5d6b8c985",
            "380941dbece24174ae89cb793307d3b4",
            "77b64f8e4691474ca5e738b95fac3b7b",
            "96c5ca82198645099d4cc477cebb5194",
            "ae51eb443e9740baacde7cf002140d5b",
            "f04c828b0a274567b05014b52beca310",
            "7639124c090b468eacaafa6893d9c4d5",
            "56f7e197ec194ee78a585388f3b18891",
            "382c7d72f7cb434981e70cacb63879f0",
            "9153d2dbbf5a48719515221f48ee9e8a",
            "dd6e0698608949f8b75c39f71515ac50",
            "4b867dba5b68421e9a91efae8103e5ad",
            "da1a513abf224730b9190a4a08870035",
            "ffcd1b4f3beb48fe8e8ca26c8013431c",
            "88ed0e4bd1f04a20aa32f9dcf8204d3f",
            "09c162a3ef9d4e4ba6a7008beda8f7f8",
            "551cc02e95f94a35b7690b95e99ee5ea",
            "2fda70e34d394526902f28a15ae08082",
            "1fab97bf82064e72a36d89af136c4280",
            "ca88ad881ff74558971b4d2419fff6d7",
            "f0666d5f8ad847f9a90d35259c13f4ee",
            "9ff97293ae7c4041b15aab857c99ba63",
            "5ee1865de0d04fd9ae48b998c9b54718",
            "75a0a537421546418c52adec64ae9c34",
            "64aff44b4a5743b19f95cee0a1618c8d",
            "3927eca9661f4f798114e21630397539",
            "758c4a9629d74a989bb579d6d0218cff",
            "9b6805d1a718444d80d27771e2af56ca",
            "85da028674b84151840709c82e72dfaa",
            "6d4fd46fb381413599e43b28d5712bd3",
            "e7adabd76a164e268f9a9f667f2b1eda",
            "82f304e298964b2084d75fb081a57de1",
            "5fdb833930cc43bb87b4c2d8e65ac273",
            "512e362f576244988c6ad9ba3a0f91ae",
            "e2001b5055fc4757b2b90d0d0cbf0483",
            "62e7b12915d34526b07ac9c8836c0bee",
            "7e65b6c57b3e47bd8ff388b6b98251a5",
            "a10c0453238d4305b912f7c7f25dd2fd",
            "2e68b6c94bc2431d80cf2230b461e80b",
            "3e86434a561b4f8790cba2a404c4c2a7",
            "b033d62b450a45399f770db11da4f288"
          ]
        },
        "id": "ZW1ZRqkEV-o_",
        "outputId": "08d8668c-f055-4e38-bb12-8dd5a01b5f6f"
      },
      "outputs": [
        {
          "data": {
            "application/vnd.jupyter.widget-view+json": {
              "model_id": "d1428bf6a460411499ba302bb8163bc1",
              "version_major": 2,
              "version_minor": 0
            },
            "text/plain": [
              "HBox(children=(HTML(value=''), FloatProgress(value=0.0, max=250000.0), HTML(value='')))"
            ]
          },
          "metadata": {
            "tags": []
          },
          "output_type": "display_data"
        },
        {
          "name": "stdout",
          "output_type": "stream",
          "text": [
            "\n"
          ]
        },
        {
          "data": {
            "application/vnd.jupyter.widget-view+json": {
              "model_id": "382c7d72f7cb434981e70cacb63879f0",
              "version_major": 2,
              "version_minor": 0
            },
            "text/plain": [
              "HBox(children=(HTML(value=''), FloatProgress(value=0.0, max=31250.0), HTML(value='')))"
            ]
          },
          "metadata": {
            "tags": []
          },
          "output_type": "display_data"
        },
        {
          "name": "stdout",
          "output_type": "stream",
          "text": [
            "\n",
            "Validation Set\n",
            "Accuracy: 0.658084\n",
            "\n",
            "              precision    recall  f1-score   support\n",
            "\n",
            "           0     0.7566    0.7440    0.7503     31118\n",
            "           1     0.4488    0.5625    0.4993     22851\n",
            "           2     0.4940    0.5283    0.5106     31401\n",
            "           3     0.5461    0.5696    0.5576     62178\n",
            "           4     0.8286    0.7468    0.7856    102452\n",
            "\n",
            "    accuracy                         0.6581    250000\n",
            "   macro avg     0.6148    0.6302    0.6207    250000\n",
            "weighted avg     0.6727    0.6581    0.6638    250000\n",
            "\n"
          ]
        },
        {
          "data": {
            "image/png": "[encoded data removed]",
            "text/plain": [
              "<Figure size 432x288 with 2 Axes>"
            ]
          },
          "metadata": {
            "needs_background": "light",
            "tags": []
          },
          "output_type": "display_data"
        },
        {
          "name": "stdout",
          "output_type": "stream",
          "text": [
            "\n"
          ]
        },
        {
          "data": {
            "application/vnd.jupyter.widget-view+json": {
              "model_id": "ca88ad881ff74558971b4d2419fff6d7",
              "version_major": 2,
              "version_minor": 0
            },
            "text/plain": [
              "HBox(children=(HTML(value=''), FloatProgress(value=0.0, max=250000.0), HTML(value='')))"
            ]
          },
          "metadata": {
            "tags": []
          },
          "output_type": "display_data"
        },
        {
          "name": "stdout",
          "output_type": "stream",
          "text": [
            "\n"
          ]
        },
        {
          "data": {
            "application/vnd.jupyter.widget-view+json": {
              "model_id": "e7adabd76a164e268f9a9f667f2b1eda",
              "version_major": 2,
              "version_minor": 0
            },
            "text/plain": [
              "HBox(children=(HTML(value=''), FloatProgress(value=0.0, max=31250.0), HTML(value='')))"
            ]
          },
          "metadata": {
            "tags": []
          },
          "output_type": "display_data"
        },
        {
          "name": "stdout",
          "output_type": "stream",
          "text": [
            "\n",
            "Testing Set\n",
            "Accuracy: 0.658952\n",
            "\n",
            "              precision    recall  f1-score   support\n",
            "\n",
            "           0     0.7675    0.7444    0.7557     31175\n",
            "           1     0.4480    0.5670    0.5005     22635\n",
            "           2     0.4892    0.5274    0.5076     30996\n",
            "           3     0.5437    0.5731    0.5580     62024\n",
            "           4     0.8319    0.7444    0.7857    103170\n",
            "\n",
            "    accuracy                         0.6590    250000\n",
            "   macro avg     0.6161    0.6313    0.6215    250000\n",
            "weighted avg     0.6751    0.6590    0.6652    250000\n",
            "\n"
          ]
        },
        {
          "data": {
            "image/png": "[encoded data removed]",
            "text/plain": [
              "<Figure size 432x288 with 2 Axes>"
            ]
          },
          "metadata": {
            "needs_background": "light",
            "tags": []
          },
          "output_type": "display_data"
        },
        {
          "name": "stdout",
          "output_type": "stream",
          "text": [
            "\n"
          ]
        }
      ],
      "source": [
        "evaluate_bert_model(model_bert_base_cased_64, model_name=\"bert_base_cased_64\")"
      ]
    },
    {
      "cell_type": "code",
      "execution_count": null,
      "metadata": {
        "id": "DynvcQQNV-o_"
      },
      "outputs": [],
      "source": [
        "del model_bert_base_cased_64"
      ]
    },
    {
      "cell_type": "markdown",
      "metadata": {
        "id": "eeUReH4wm4Ui"
      },
      "source": [
        "#####  BERT + SentiWordNet"
      ]
    },
    {
      "cell_type": "code",
      "execution_count": null,
      "metadata": {},
      "outputs": [],
      "source": [
        "from nltk.corpus import sentiwordnet as swn\n",
        "nltk.download('sentiwordnet')\n",
        "def get_sentiment_score(word):\n",
        "    synsets = list(swn.senti_synsets(word))\n",
        "    if synsets:\n",
        "        return synsets[0].pos_score() - synsets[0].neg_score()\n",
        "    else:\n",
        "        return 0.0"
      ]
    },
    {
      "cell_type": "code",
      "execution_count": null,
      "metadata": {
        "colab": {
          "base_uri": "https://localhost:8080/",
          "height": 269,
          "referenced_widgets": [
            "5d9181780d36438fb796e628d5be2a0b",
            "1b8e63ad02d744e1a2087fc742a1ca43",
            "da150f6af4fe4ae8841ab1e7b7326de7",
            "69a797a74a6245949da6150cd11aea46",
            "09186e9258fb438e91be6a031eae0e4e",
            "26ac8ec316ec4a79ab5cf8b6a871e378",
            "d77c325ba80b4340869c5687bff2ebf6",
            "52214f4232154bd781f79656c174e987",
            "98e445849094464cb17e889132a0e91a",
            "8a38bbabc8574fc8bf322774b9fba559",
            "9599a6ad0aba4b33b18907b9e3df16a1",
            "a941ea706c7144cc828a39f463b0213d",
            "1a5028a27a374d91a798fc4a793196c7",
            "ace2572f19c64dd1bfcf29b9586a5afa",
            "d4657b2a38c34e60b4791bcd98add46a",
            "bb7e0bc5b80e4acf897f21973393eb41",
            "5101c364e3274379a62fb2aff70e2f60",
            "9f1487cf103d4c89b51bf89a4350e9bf",
            "862d5b2bc3fd482a931e949d88e8b142",
            "f360769729874a3ebeea669ad6bcef67",
            "94ab0d2e669c4a1b963e70005a48e567",
            "3f415af1fb57410e8e6bdc7796172fdd",
            "1f64de8237f3424798602272dca11d3d",
            "833a869725204781bb026dfd9f9995d3",
            "65cb748253ea4c8b909bf3d0513f5fdb",
            "17187635578741389e56176771e03325",
            "2d94e09e977f424497456afe5bc4866c",
            "4ea4e0519d68436889f18e3eeb5b3576",
            "1daf61e42c284c51890089fe9521a8a2",
            "873378ac6e014e198dccb31565ee68e3",
            "2f925293da334194b67d55c3a40e8cb2",
            "b65e950297a1484a828bbb1ef42647d9",
            "ebc493a5a73743b196a6b975805c797c"
          ]
        },
        "id": "8F2hC0Ezm8ME",
        "outputId": "6b273342-e327-4b8a-a432-c0e4dfa55035"
      },
      "outputs": [
        {
          "data": {
            "application/vnd.jupyter.widget-view+json": {
              "model_id": "5d9181780d36438fb796e628d5be2a0b",
              "version_major": 2,
              "version_minor": 0
            },
            "text/plain": [
              "HBox(children=(HTML(value='Downloading'), FloatProgress(value=0.0, max=625.0), HTML(value='')))"
            ]
          },
          "metadata": {
            "tags": []
          },
          "output_type": "display_data"
        },
        {
          "name": "stdout",
          "output_type": "stream",
          "text": [
            "\n"
          ]
        },
        {
          "data": {
            "application/vnd.jupyter.widget-view+json": {
              "model_id": "a941ea706c7144cc828a39f463b0213d",
              "version_major": 2,
              "version_minor": 0
            },
            "text/plain": [
              "HBox(children=(HTML(value='Downloading'), FloatProgress(value=0.0, max=1338740706.0), HTML(value='')))"
            ]
          },
          "metadata": {
            "tags": []
          },
          "output_type": "display_data"
        },
        {
          "name": "stdout",
          "output_type": "stream",
          "text": [
            "\n"
          ]
        },
        {
          "name": "stderr",
          "output_type": "stream",
          "text": [
            "Some weights of the model checkpoint at bert-large-cased were not used when initializing BertForSequenceClassification: ['cls.predictions.bias', 'cls.predictions.transform.dense.weight', 'cls.predictions.transform.dense.bias', 'cls.predictions.decoder.weight', 'cls.seq_relationship.weight', 'cls.seq_relationship.bias', 'cls.predictions.transform.LayerNorm.weight', 'cls.predictions.transform.LayerNorm.bias']\n",
            "- This IS expected if you are initializing BertForSequenceClassification from the checkpoint of a model trained on another task or with another architecture (e.g. initializing a BertForSequenceClassification model from a BertForPreTraining model).\n",
            "- This IS NOT expected if you are initializing BertForSequenceClassification from the checkpoint of a model that you expect to be exactly identical (initializing a BertForSequenceClassification model from a BertForSequenceClassification model).\n",
            "Some weights of BertForSequenceClassification were not initialized from the model checkpoint at bert-large-cased and are newly initialized: ['classifier.weight', 'classifier.bias']\n",
            "You should probably TRAIN this model on a down-stream task to be able to use it for predictions and inference.\n"
          ]
        },
        {
          "data": {
            "application/vnd.jupyter.widget-view+json": {
              "model_id": "1f64de8237f3424798602272dca11d3d",
              "version_major": 2,
              "version_minor": 0
            },
            "text/plain": [
              "HBox(children=(HTML(value='Downloading'), FloatProgress(value=0.0, max=213450.0), HTML(value='')))"
            ]
          },
          "metadata": {
            "tags": []
          },
          "output_type": "display_data"
        },
        {
          "name": "stdout",
          "output_type": "stream",
          "text": [
            "\n"
          ]
        }
      ],
      "source": [
        "model_bert_SentiWordNet = \\\n",
        "ClassificationModel('bert',\n",
        "                    'bert-large-cased',\n",
        "                    num_labels=5,\n",
        "                    args={\"output_dir\": \"outputs_bert_large_cased/\",\n",
        "                          \"best_model_dir\": \"outputs_bert_large_cased/best_model/\",\n",
        "                          \"max_seq_length\": 128,\n",
        "                          \"train_batch_size\": 16,\n",
        "                          \"num_train_epochs\": 1,\n",
        "                          \"logging_steps\": 100,\n",
        "                          \"evaluate_during_training\": False,\n",
        "                          \"evaluate_during_training_steps\": 20000,\n",
        "                          \"evaluate_during_training_verbose\": False,\n",
        "                          \"save_eval_checkpoints\": False,\n",
        "                          \"save_steps\": 20000,\n",
        "                          \"save_model_every_epoch\": False,\n",
        "                          \"overwrite_output_dir\": True,\n",
        "                          \"reprocess_input_data\": False})"
      ]
    },
    {
      "cell_type": "code",
      "execution_count": null,
      "metadata": {
        "colab": {
          "base_uri": "https://localhost:8080/",
          "height": 186,
          "referenced_widgets": [
            "67e6a9c5e4d7452d8a57d5f0c21d36c6",
            "893ddb1381b94808a846992cf4c08b23",
            "3190de528afc45fd887ad01988746825",
            "5c8957d4403940b8a20e0a5b97d1dc45",
            "82fa88b003e3486580672a9ac218be93",
            "5c2a72a4f57548069c22c936b6651108",
            "d7419266541744668ffb907b2b88536c",
            "22b47da9ae484937ad775710bad5f8e1",
            "ebc464a33da74f69b3591e79c0b9ef17",
            "c6abb1d0ca2f48ad9b353d35e1803e5d",
            "791a679f8be44d798d5b96a619f90229",
            "4b84fb21d16844ddb22b113194896753",
            "528c681aed6046b3b27733b62ff4085c",
            "10780a7508b54a429efabd6319f21141",
            "1426c57dec1c42a8bbcd259ab8a91359",
            "83078ca79c7a47d1b6322ed2324597ec",
            "840c06678da94e09b6c8e1b29c2dd19e",
            "746bb61c62c94d5ab2fc2261268e9a34",
            "3fb9ad11f60348458b92dc97dc707f43",
            "d164928b739c47f5890dbb8d39472171",
            "3247bbb57cc644c6872499fb01af2429",
            "2b64eb60a7ca49aeb11e0cb8b8e8b8cb"
          ]
        },
        "id": "H_YPNYYPm8ME",
        "outputId": "c91598a2-0c74-49f2-d263-9c34762d8a4a"
      },
      "outputs": [
        {
          "data": {
            "application/vnd.jupyter.widget-view+json": {
              "model_id": "67e6a9c5e4d7452d8a57d5f0c21d36c6",
              "version_major": 2,
              "version_minor": 0
            },
            "text/plain": [
              "HBox(children=(HTML(value='Epoch'), FloatProgress(value=0.0, max=1.0), HTML(value='')))"
            ]
          },
          "metadata": {
            "tags": []
          },
          "output_type": "display_data"
        },
        {
          "data": {
            "application/vnd.jupyter.widget-view+json": {
              "model_id": "4b84fb21d16844ddb22b113194896753",
              "version_major": 2,
              "version_minor": 0
            },
            "text/plain": [
              "HBox(children=(HTML(value='Running Epoch 0 of 1'), FloatProgress(value=0.0, max=78125.0), HTML(value='')))"
            ]
          },
          "metadata": {
            "tags": []
          },
          "output_type": "display_data"
        },
        {
          "name": "stderr",
          "output_type": "stream",
          "text": [
            "/usr/local/lib/python3.6/dist-packages/torch/optim/lr_scheduler.py:216: UserWarning: Please also save or load the state of the optimizer when saving or loading the scheduler.\n",
            "  warnings.warn(SAVE_STATE_WARNING, UserWarning)\n"
          ]
        },
        {
          "name": "stdout",
          "output_type": "stream",
          "text": [
            "\n",
            "\n"
          ]
        },
        {
          "data": {
            "text/plain": [
              "(78125, 0.8128059037542343)"
            ]
          },
          "execution_count": 51,
          "metadata": {
            "tags": []
          },
          "output_type": "execute_result"
        }
      ],
      "source": [
        "model_bert_SentiWordNet.train_model(df_train)"
      ]
    },
    {
      "cell_type": "code",
      "execution_count": null,
      "metadata": {
        "colab": {
          "base_uri": "https://localhost:8080/",
          "height": 1000,
          "referenced_widgets": [
            "e559a951913c4bf4bc95fdc4efe7f4a6",
            "f8d13175c99d492c8cc529210c95fbbb",
            "2be80c4ab88e44a285ad099c785d4cc4",
            "054a4a92916542b69d01347614244356",
            "65b2b5edbefd4bf9aa0e913923b021bc",
            "1483e2319a6b4591835b1f109d653fce",
            "ac6878f69e174ec39423ea954c1f5148",
            "e2f1a1aa0afd4299a6ee39dab5d48207",
            "a1266f1551274447828d9dd344b6a688",
            "c2aa7cf49103483b8dbd3b7987cabb47",
            "fb384935f7cf46aeb3bf38a5d2cf8653",
            "dd2b65b2e4734f68995cf3911bd3a0ba",
            "2609900b26bd41cc9e65a27f5639ec7d",
            "08a7e8d1959041ba9f3d06f7474aa297",
            "ff66dca8b1b049d48a2162488818fd05",
            "277d2744720d42638b2921d1ada8c3ee",
            "400a1d236e0744ecac2b89949faad5cc",
            "ae67f6d46c084e3db73d9610d914642b",
            "72bb6959692f4c568b8f128cf0269de0",
            "b78eb21d43354789918dc8bace351f04",
            "ed7862c446a54740bae3d34d6050301b",
            "e1a09c04496449149cb3ecb48d98794f",
            "029f9ca8517f404a94d8a5ac9d920a49",
            "e052f7bc11894c0391047be06a851515",
            "c778c009dc4146358100f0783acd3aac",
            "766c86e134f94365acaf6db560ec18c0",
            "fecf1567681b40d39c19b8def10cee1e",
            "b7d07fdeb247425382272f6221bc1af7",
            "fd979c6c5cc64d05805accc5544bf645",
            "aae84bdb368b4c4eb5c40ee025048024",
            "35f20dcf2ed549d5ba3f4d89eba4c112",
            "df06d7e1f9b94efb933e09fed62c8496",
            "ba36a5a96bb540b398bb86f05d7cb446",
            "cf120671d4ac4e9493443e815ac9a323",
            "5022876e9d5349a18da84a350ef4086c",
            "9ea13851a8554ddb8861df5a44e6da21",
            "b541a2783ddb4f46bf693b766bfe9e2d",
            "1813e4a7c9a146a9a8c86cb27edd6bf3",
            "4e22b9e3aa644d08855649389f8c288a",
            "5e7503e2e2904c66b69197db4c823c44",
            "b7c0c7bde8294904ad9d6c06ff6a0803",
            "3830441d398c4f33a06f1ae0d436a0a9",
            "db85feacb4c148fca15aed094cb0db01",
            "be69b3eb84bf4bd2a7d6514fc9e5105c"
          ]
        },
        "id": "rJKZgQpKm8MF",
        "outputId": "59a1d640-f544-47da-b039-f42ea214de38"
      },
      "outputs": [
        {
          "data": {
            "application/vnd.jupyter.widget-view+json": {
              "model_id": "e559a951913c4bf4bc95fdc4efe7f4a6",
              "version_major": 2,
              "version_minor": 0
            },
            "text/plain": [
              "HBox(children=(HTML(value=''), FloatProgress(value=0.0, max=250000.0), HTML(value='')))"
            ]
          },
          "metadata": {
            "tags": []
          },
          "output_type": "display_data"
        },
        {
          "name": "stdout",
          "output_type": "stream",
          "text": [
            "\n"
          ]
        },
        {
          "data": {
            "application/vnd.jupyter.widget-view+json": {
              "model_id": "dd2b65b2e4734f68995cf3911bd3a0ba",
              "version_major": 2,
              "version_minor": 0
            },
            "text/plain": [
              "HBox(children=(HTML(value=''), FloatProgress(value=0.0, max=31250.0), HTML(value='')))"
            ]
          },
          "metadata": {
            "tags": []
          },
          "output_type": "display_data"
        },
        {
          "name": "stdout",
          "output_type": "stream",
          "text": [
            "\n",
            "Validation Set\n",
            "Accuracy: 0.699168\n",
            "\n",
            "              precision    recall  f1-score   support\n",
            "\n",
            "           0     0.7985    0.7782    0.7882     31118\n",
            "           1     0.5111    0.6072    0.5550     22851\n",
            "           2     0.5550    0.6029    0.5780     31401\n",
            "           3     0.5916    0.6107    0.6010     62178\n",
            "           4     0.8469    0.7788    0.8114    102452\n",
            "\n",
            "    accuracy                         0.6992    250000\n",
            "   macro avg     0.6606    0.6756    0.6667    250000\n",
            "weighted avg     0.7100    0.6992    0.7034    250000\n",
            "\n"
          ]
        },
        {
          "data": {
            "image/png": "[encoded data removed]",
            "text/plain": [
              "<Figure size 432x288 with 2 Axes>"
            ]
          },
          "metadata": {
            "needs_background": "light",
            "tags": []
          },
          "output_type": "display_data"
        },
        {
          "name": "stdout",
          "output_type": "stream",
          "text": [
            "\n"
          ]
        },
        {
          "data": {
            "application/vnd.jupyter.widget-view+json": {
              "model_id": "029f9ca8517f404a94d8a5ac9d920a49",
              "version_major": 2,
              "version_minor": 0
            },
            "text/plain": [
              "HBox(children=(HTML(value=''), FloatProgress(value=0.0, max=250000.0), HTML(value='')))"
            ]
          },
          "metadata": {
            "tags": []
          },
          "output_type": "display_data"
        },
        {
          "name": "stdout",
          "output_type": "stream",
          "text": [
            "\n"
          ]
        },
        {
          "data": {
            "application/vnd.jupyter.widget-view+json": {
              "model_id": "cf120671d4ac4e9493443e815ac9a323",
              "version_major": 2,
              "version_minor": 0
            },
            "text/plain": [
              "HBox(children=(HTML(value=''), FloatProgress(value=0.0, max=31250.0), HTML(value='')))"
            ]
          },
          "metadata": {
            "tags": []
          },
          "output_type": "display_data"
        },
        {
          "name": "stdout",
          "output_type": "stream",
          "text": [
            "\n",
            "Testing Set\n",
            "Accuracy: 0.700408\n",
            "\n",
            "              precision    recall  f1-score   support\n",
            "\n",
            "           0     0.8068    0.7799    0.7931     31175\n",
            "           1     0.5136    0.6130    0.5589     22635\n",
            "           2     0.5523    0.6039    0.5769     30996\n",
            "           3     0.5889    0.6115    0.6000     62024\n",
            "           4     0.8489    0.7780    0.8119    103170\n",
            "\n",
            "    accuracy                         0.7004    250000\n",
            "   macro avg     0.6621    0.6773    0.6682    250000\n",
            "weighted avg     0.7120    0.7004    0.7050    250000\n",
            "\n"
          ]
        },
        {
          "data": {
            "image/png": "[encoded data removed]",
            "text/plain": [
              "<Figure size 432x288 with 2 Axes>"
            ]
          },
          "metadata": {
            "needs_background": "light",
            "tags": []
          },
          "output_type": "display_data"
        },
        {
          "name": "stdout",
          "output_type": "stream",
          "text": [
            "\n"
          ]
        }
      ],
      "source": [
        "evaluate_bert_model(model_bert_SentiWordNet, model_name=\"bert_large_cased\")"
      ]
    },
    {
      "cell_type": "code",
      "execution_count": null,
      "metadata": {
        "id": "fbKbu-pom8MF"
      },
      "outputs": [],
      "source": [
        "del model_bert_SentiWordNet"
      ]
    }
  ],
  "metadata": {
    "colab": {
      "collapsed_sections": [],
      "machine_shape": "hm",
      "name": "yelp_review_rating_prediction.ipynb",
      "provenance": [],
      "toc_visible": true
    },
    "kernelspec": {
      "display_name": "Python 3",
      "name": "python3"
    },
    "widgets": {
      "application/vnd.jupyter.widget-state+json": {
        "02ac40c1348f49adadb906eac3e23549": {
          "model_module": "@jupyter-widgets/controls",
          "model_name": "FloatProgressModel",
          "state": {
            "_dom_classes": [],
            "_model_module": "@jupyter-widgets/controls",
            "_model_module_version": "1.5.0",
            "_model_name": "FloatProgressModel",
            "_view_count": null,
            "_view_module": "@jupyter-widgets/controls",
            "_view_module_version": "1.5.0",
            "_view_name": "ProgressView",
            "bar_style": "success",
            "description": "",
            "description_tooltip": null,
            "layout": "IPY_MODEL_50e1a1c79196465782c713f3e8ed478d",
            "max": 1,
            "min": 0,
            "orientation": "horizontal",
            "style": "IPY_MODEL_5a0b10c9ae55442f88866d050915f52a",
            "value": 1
          }
        },
        "04d8e7d0c1c9494a90bebda851983aac": {
          "model_module": "@jupyter-widgets/controls",
          "model_name": "ProgressStyleModel",
          "state": {
            "_model_module": "@jupyter-widgets/controls",
            "_model_module_version": "1.5.0",
            "_model_name": "ProgressStyleModel",
            "_view_count": null,
            "_view_module": "@jupyter-widgets/base",
            "_view_module_version": "1.2.0",
            "_view_name": "StyleView",
            "bar_color": null,
            "description_width": ""
          }
        },
        "0731587e91d54042b6db61a01b451e38": {
          "model_module": "@jupyter-widgets/controls",
          "model_name": "FloatProgressModel",
          "state": {
            "_dom_classes": [],
            "_model_module": "@jupyter-widgets/controls",
            "_model_module_version": "1.5.0",
            "_model_name": "FloatProgressModel",
            "_view_count": null,
            "_view_module": "@jupyter-widgets/controls",
            "_view_module_version": "1.5.0",
            "_view_name": "ProgressView",
            "bar_style": "success",
            "description": "",
            "description_tooltip": null,
            "layout": "IPY_MODEL_3d05a9e60e604051bfe8821dcbe06e1a",
            "max": 250000,
            "min": 0,
            "orientation": "horizontal",
            "style": "IPY_MODEL_5e2973c3f31b4d2ab08c58d9076567e6",
            "value": 250000
          }
        },
        "0a07fbd2b4b34a9ba5698442de92cffa": {
          "model_module": "@jupyter-widgets/controls",
          "model_name": "DescriptionStyleModel",
          "state": {
            "_model_module": "@jupyter-widgets/controls",
            "_model_module_version": "1.5.0",
            "_model_name": "DescriptionStyleModel",
            "_view_count": null,
            "_view_module": "@jupyter-widgets/base",
            "_view_module_version": "1.2.0",
            "_view_name": "StyleView",
            "description_width": ""
          }
        },
        "0c895c95bda346c89c78427401737fa0": {
          "model_module": "@jupyter-widgets/base",
          "model_name": "LayoutModel",
          "state": {
            "_model_module": "@jupyter-widgets/base",
            "_model_module_version": "1.2.0",
            "_model_name": "LayoutModel",
            "_view_count": null,
            "_view_module": "@jupyter-widgets/base",
            "_view_module_version": "1.2.0",
            "_view_name": "LayoutView",
            "align_content": null,
            "align_items": null,
            "align_self": null,
            "border": null,
            "bottom": null,
            "display": null,
            "flex": null,
            "flex_flow": null,
            "grid_area": null,
            "grid_auto_columns": null,
            "grid_auto_flow": null,
            "grid_auto_rows": null,
            "grid_column": null,
            "grid_gap": null,
            "grid_row": null,
            "grid_template_areas": null,
            "grid_template_columns": null,
            "grid_template_rows": null,
            "height": null,
            "justify_content": null,
            "justify_items": null,
            "left": null,
            "margin": null,
            "max_height": null,
            "max_width": null,
            "min_height": null,
            "min_width": null,
            "object_fit": null,
            "object_position": null,
            "order": null,
            "overflow": null,
            "overflow_x": null,
            "overflow_y": null,
            "padding": null,
            "right": null,
            "top": null,
            "visibility": null,
            "width": null
          }
        },
        "0e5ef0b2947943928043ebad3fbd5f6a": {
          "model_module": "@jupyter-widgets/base",
          "model_name": "LayoutModel",
          "state": {
            "_model_module": "@jupyter-widgets/base",
            "_model_module_version": "1.2.0",
            "_model_name": "LayoutModel",
            "_view_count": null,
            "_view_module": "@jupyter-widgets/base",
            "_view_module_version": "1.2.0",
            "_view_name": "LayoutView",
            "align_content": null,
            "align_items": null,
            "align_self": null,
            "border": null,
            "bottom": null,
            "display": null,
            "flex": null,
            "flex_flow": null,
            "grid_area": null,
            "grid_auto_columns": null,
            "grid_auto_flow": null,
            "grid_auto_rows": null,
            "grid_column": null,
            "grid_gap": null,
            "grid_row": null,
            "grid_template_areas": null,
            "grid_template_columns": null,
            "grid_template_rows": null,
            "height": null,
            "justify_content": null,
            "justify_items": null,
            "left": null,
            "margin": null,
            "max_height": null,
            "max_width": null,
            "min_height": null,
            "min_width": null,
            "object_fit": null,
            "object_position": null,
            "order": null,
            "overflow": null,
            "overflow_x": null,
            "overflow_y": null,
            "padding": null,
            "right": null,
            "top": null,
            "visibility": null,
            "width": null
          }
        },
        "0f89f86c2aae403c945b7c80322c99c8": {
          "model_module": "@jupyter-widgets/controls",
          "model_name": "DescriptionStyleModel",
          "state": {
            "_model_module": "@jupyter-widgets/controls",
            "_model_module_version": "1.5.0",
            "_model_name": "DescriptionStyleModel",
            "_view_count": null,
            "_view_module": "@jupyter-widgets/base",
            "_view_module_version": "1.2.0",
            "_view_name": "StyleView",
            "description_width": ""
          }
        },
        "0fdce5685f774881bca30abf5497f180": {
          "model_module": "@jupyter-widgets/base",
          "model_name": "LayoutModel",
          "state": {
            "_model_module": "@jupyter-widgets/base",
            "_model_module_version": "1.2.0",
            "_model_name": "LayoutModel",
            "_view_count": null,
            "_view_module": "@jupyter-widgets/base",
            "_view_module_version": "1.2.0",
            "_view_name": "LayoutView",
            "align_content": null,
            "align_items": null,
            "align_self": null,
            "border": null,
            "bottom": null,
            "display": null,
            "flex": null,
            "flex_flow": null,
            "grid_area": null,
            "grid_auto_columns": null,
            "grid_auto_flow": null,
            "grid_auto_rows": null,
            "grid_column": null,
            "grid_gap": null,
            "grid_row": null,
            "grid_template_areas": null,
            "grid_template_columns": null,
            "grid_template_rows": null,
            "height": null,
            "justify_content": null,
            "justify_items": null,
            "left": null,
            "margin": null,
            "max_height": null,
            "max_width": null,
            "min_height": null,
            "min_width": null,
            "object_fit": null,
            "object_position": null,
            "order": null,
            "overflow": null,
            "overflow_x": null,
            "overflow_y": null,
            "padding": null,
            "right": null,
            "top": null,
            "visibility": null,
            "width": null
          }
        },
        "12778c5401c04d71baae1e7bb27c86de": {
          "model_module": "@jupyter-widgets/base",
          "model_name": "LayoutModel",
          "state": {
            "_model_module": "@jupyter-widgets/base",
            "_model_module_version": "1.2.0",
            "_model_name": "LayoutModel",
            "_view_count": null,
            "_view_module": "@jupyter-widgets/base",
            "_view_module_version": "1.2.0",
            "_view_name": "LayoutView",
            "align_content": null,
            "align_items": null,
            "align_self": null,
            "border": null,
            "bottom": null,
            "display": null,
            "flex": null,
            "flex_flow": null,
            "grid_area": null,
            "grid_auto_columns": null,
            "grid_auto_flow": null,
            "grid_auto_rows": null,
            "grid_column": null,
            "grid_gap": null,
            "grid_row": null,
            "grid_template_areas": null,
            "grid_template_columns": null,
            "grid_template_rows": null,
            "height": null,
            "justify_content": null,
            "justify_items": null,
            "left": null,
            "margin": null,
            "max_height": null,
            "max_width": null,
            "min_height": null,
            "min_width": null,
            "object_fit": null,
            "object_position": null,
            "order": null,
            "overflow": null,
            "overflow_x": null,
            "overflow_y": null,
            "padding": null,
            "right": null,
            "top": null,
            "visibility": null,
            "width": null
          }
        },
        "133b4bcba8e24a2786d68e8b091154ac": {
          "model_module": "@jupyter-widgets/controls",
          "model_name": "HTMLModel",
          "state": {
            "_dom_classes": [],
            "_model_module": "@jupyter-widgets/controls",
            "_model_module_version": "1.5.0",
            "_model_name": "HTMLModel",
            "_view_count": null,
            "_view_module": "@jupyter-widgets/controls",
            "_view_module_version": "1.5.0",
            "_view_name": "HTMLView",
            "description": "",
            "description_tooltip": null,
            "layout": "IPY_MODEL_e7b4a06f949b49c7a675e2dde482a58b",
            "placeholder": "​",
            "style": "IPY_MODEL_9c9645c76edc462781d05b48ac20f243",
            "value": " 250000/250000 [25:09&lt;00:00, 165.66it/s]"
          }
        },
        "14072e192a724d64bd80c584142cbfb4": {
          "model_module": "@jupyter-widgets/base",
          "model_name": "LayoutModel",
          "state": {
            "_model_module": "@jupyter-widgets/base",
            "_model_module_version": "1.2.0",
            "_model_name": "LayoutModel",
            "_view_count": null,
            "_view_module": "@jupyter-widgets/base",
            "_view_module_version": "1.2.0",
            "_view_name": "LayoutView",
            "align_content": null,
            "align_items": null,
            "align_self": null,
            "border": null,
            "bottom": null,
            "display": null,
            "flex": null,
            "flex_flow": null,
            "grid_area": null,
            "grid_auto_columns": null,
            "grid_auto_flow": null,
            "grid_auto_rows": null,
            "grid_column": null,
            "grid_gap": null,
            "grid_row": null,
            "grid_template_areas": null,
            "grid_template_columns": null,
            "grid_template_rows": null,
            "height": null,
            "justify_content": null,
            "justify_items": null,
            "left": null,
            "margin": null,
            "max_height": null,
            "max_width": null,
            "min_height": null,
            "min_width": null,
            "object_fit": null,
            "object_position": null,
            "order": null,
            "overflow": null,
            "overflow_x": null,
            "overflow_y": null,
            "padding": null,
            "right": null,
            "top": null,
            "visibility": null,
            "width": null
          }
        },
        "14bb296d2f464476a003b9be0e212e9f": {
          "model_module": "@jupyter-widgets/controls",
          "model_name": "DescriptionStyleModel",
          "state": {
            "_model_module": "@jupyter-widgets/controls",
            "_model_module_version": "1.5.0",
            "_model_name": "DescriptionStyleModel",
            "_view_count": null,
            "_view_module": "@jupyter-widgets/base",
            "_view_module_version": "1.2.0",
            "_view_name": "StyleView",
            "description_width": ""
          }
        },
        "14ecbf02639340b0b56dc1b6a83deb31": {
          "model_module": "@jupyter-widgets/controls",
          "model_name": "HTMLModel",
          "state": {
            "_dom_classes": [],
            "_model_module": "@jupyter-widgets/controls",
            "_model_module_version": "1.5.0",
            "_model_name": "HTMLModel",
            "_view_count": null,
            "_view_module": "@jupyter-widgets/controls",
            "_view_module_version": "1.5.0",
            "_view_name": "HTMLView",
            "description": "",
            "description_tooltip": null,
            "layout": "IPY_MODEL_12778c5401c04d71baae1e7bb27c86de",
            "placeholder": "​",
            "style": "IPY_MODEL_dbe68baf36c14bc49606775f639abb34",
            "value": "100%"
          }
        },
        "16176c713c834d019e980e7dc36fded1": {
          "model_module": "@jupyter-widgets/base",
          "model_name": "LayoutModel",
          "state": {
            "_model_module": "@jupyter-widgets/base",
            "_model_module_version": "1.2.0",
            "_model_name": "LayoutModel",
            "_view_count": null,
            "_view_module": "@jupyter-widgets/base",
            "_view_module_version": "1.2.0",
            "_view_name": "LayoutView",
            "align_content": null,
            "align_items": null,
            "align_self": null,
            "border": null,
            "bottom": null,
            "display": null,
            "flex": null,
            "flex_flow": null,
            "grid_area": null,
            "grid_auto_columns": null,
            "grid_auto_flow": null,
            "grid_auto_rows": null,
            "grid_column": null,
            "grid_gap": null,
            "grid_row": null,
            "grid_template_areas": null,
            "grid_template_columns": null,
            "grid_template_rows": null,
            "height": null,
            "justify_content": null,
            "justify_items": null,
            "left": null,
            "margin": null,
            "max_height": null,
            "max_width": null,
            "min_height": null,
            "min_width": null,
            "object_fit": null,
            "object_position": null,
            "order": null,
            "overflow": null,
            "overflow_x": null,
            "overflow_y": null,
            "padding": null,
            "right": null,
            "top": null,
            "visibility": null,
            "width": null
          }
        },
        "1c26976664d548989d080b346018177e": {
          "model_module": "@jupyter-widgets/controls",
          "model_name": "FloatProgressModel",
          "state": {
            "_dom_classes": [],
            "_model_module": "@jupyter-widgets/controls",
            "_model_module_version": "1.5.0",
            "_model_name": "FloatProgressModel",
            "_view_count": null,
            "_view_module": "@jupyter-widgets/controls",
            "_view_module_version": "1.5.0",
            "_view_name": "ProgressView",
            "bar_style": "success",
            "description": "",
            "description_tooltip": null,
            "layout": "IPY_MODEL_0e5ef0b2947943928043ebad3fbd5f6a",
            "max": 31250,
            "min": 0,
            "orientation": "horizontal",
            "style": "IPY_MODEL_d30dac8c5b8c4cf1ac836b4ef920cfe1",
            "value": 31250
          }
        },
        "1e4b94dbbbb049afa316c7d0255ff88d": {
          "model_module": "@jupyter-widgets/controls",
          "model_name": "HBoxModel",
          "state": {
            "_dom_classes": [],
            "_model_module": "@jupyter-widgets/controls",
            "_model_module_version": "1.5.0",
            "_model_name": "HBoxModel",
            "_view_count": null,
            "_view_module": "@jupyter-widgets/controls",
            "_view_module_version": "1.5.0",
            "_view_name": "HBoxView",
            "box_style": "",
            "children": [
              "IPY_MODEL_e7d2408a14e64b0d827967dea5b045fc",
              "IPY_MODEL_fea9a64899f946fb9f622450dc574a69",
              "IPY_MODEL_d9a0eac350a74d16ab66a6b6fd028a9e"
            ],
            "layout": "IPY_MODEL_806ff865f2f642749dba1baedae0d8a0"
          }
        },
        "21cebbf9aed14e0ca197ca798c88c323": {
          "model_module": "@jupyter-widgets/controls",
          "model_name": "HBoxModel",
          "state": {
            "_dom_classes": [],
            "_model_module": "@jupyter-widgets/controls",
            "_model_module_version": "1.5.0",
            "_model_name": "HBoxModel",
            "_view_count": null,
            "_view_module": "@jupyter-widgets/controls",
            "_view_module_version": "1.5.0",
            "_view_name": "HBoxView",
            "box_style": "",
            "children": [
              "IPY_MODEL_ee1a246c010a487baa9c0d87fa4c1659",
              "IPY_MODEL_f1ecc0a1cd894bffbba5ede2cea96676",
              "IPY_MODEL_2d593d05b9584eed83b8a8ccb7195d8b"
            ],
            "layout": "IPY_MODEL_a026dc39856a45269c13d7497d746f90"
          }
        },
        "2b1a7e004f7045639aec4235a9244459": {
          "model_module": "@jupyter-widgets/controls",
          "model_name": "DescriptionStyleModel",
          "state": {
            "_model_module": "@jupyter-widgets/controls",
            "_model_module_version": "1.5.0",
            "_model_name": "DescriptionStyleModel",
            "_view_count": null,
            "_view_module": "@jupyter-widgets/base",
            "_view_module_version": "1.2.0",
            "_view_name": "StyleView",
            "description_width": ""
          }
        },
        "2b98e3de78d2490697111289184cbfce": {
          "model_module": "@jupyter-widgets/controls",
          "model_name": "HBoxModel",
          "state": {
            "_dom_classes": [],
            "_model_module": "@jupyter-widgets/controls",
            "_model_module_version": "1.5.0",
            "_model_name": "HBoxModel",
            "_view_count": null,
            "_view_module": "@jupyter-widgets/controls",
            "_view_module_version": "1.5.0",
            "_view_name": "HBoxView",
            "box_style": "",
            "children": [
              "IPY_MODEL_fc71588a227b40fdb1c8e1eac3b5e988",
              "IPY_MODEL_02ac40c1348f49adadb906eac3e23549",
              "IPY_MODEL_86e6130e1ff644a8b4d45ec4552124c7"
            ],
            "layout": "IPY_MODEL_7ef3bea1e05d4c8a86015a2fa7141802"
          }
        },
        "2d593d05b9584eed83b8a8ccb7195d8b": {
          "model_module": "@jupyter-widgets/controls",
          "model_name": "HTMLModel",
          "state": {
            "_dom_classes": [],
            "_model_module": "@jupyter-widgets/controls",
            "_model_module_version": "1.5.0",
            "_model_name": "HTMLModel",
            "_view_count": null,
            "_view_module": "@jupyter-widgets/controls",
            "_view_module_version": "1.5.0",
            "_view_name": "HTMLView",
            "description": "",
            "description_tooltip": null,
            "layout": "IPY_MODEL_abfd602e2ce94d8884ccf9bd90a1ef90",
            "placeholder": "​",
            "style": "IPY_MODEL_14bb296d2f464476a003b9be0e212e9f",
            "value": " 250000/250000 [33:00&lt;00:00, 126.24it/s]"
          }
        },
        "2d9201d3facd4df49554192b8c4d4492": {
          "model_module": "@jupyter-widgets/controls",
          "model_name": "HTMLModel",
          "state": {
            "_dom_classes": [],
            "_model_module": "@jupyter-widgets/controls",
            "_model_module_version": "1.5.0",
            "_model_name": "HTMLModel",
            "_view_count": null,
            "_view_module": "@jupyter-widgets/controls",
            "_view_module_version": "1.5.0",
            "_view_name": "HTMLView",
            "description": "",
            "description_tooltip": null,
            "layout": "IPY_MODEL_d07c8d3dab8042e1870788ca3b0857a0",
            "placeholder": "​",
            "style": "IPY_MODEL_fd0dc0c77da24dbf9831b6437ac66c06",
            "value": "100%"
          }
        },
        "34325f7a01c444cb9717330a3c8aab57": {
          "model_module": "@jupyter-widgets/controls",
          "model_name": "DescriptionStyleModel",
          "state": {
            "_model_module": "@jupyter-widgets/controls",
            "_model_module_version": "1.5.0",
            "_model_name": "DescriptionStyleModel",
            "_view_count": null,
            "_view_module": "@jupyter-widgets/base",
            "_view_module_version": "1.2.0",
            "_view_name": "StyleView",
            "description_width": ""
          }
        },
        "3650d0534ec74493886e0a24255d8da2": {
          "model_module": "@jupyter-widgets/controls",
          "model_name": "FloatProgressModel",
          "state": {
            "_dom_classes": [],
            "_model_module": "@jupyter-widgets/controls",
            "_model_module_version": "1.5.0",
            "_model_name": "FloatProgressModel",
            "_view_count": null,
            "_view_module": "@jupyter-widgets/controls",
            "_view_module_version": "1.5.0",
            "_view_name": "ProgressView",
            "bar_style": "success",
            "description": "",
            "description_tooltip": null,
            "layout": "IPY_MODEL_78281977cd6843efbb37ee63f6259ba7",
            "max": 31250,
            "min": 0,
            "orientation": "horizontal",
            "style": "IPY_MODEL_c4c104fd17b7475ba27f2862cb181128",
            "value": 31250
          }
        },
        "3879a6b883984c99ae6d88c969d34908": {
          "model_module": "@jupyter-widgets/controls",
          "model_name": "HTMLModel",
          "state": {
            "_dom_classes": [],
            "_model_module": "@jupyter-widgets/controls",
            "_model_module_version": "1.5.0",
            "_model_name": "HTMLModel",
            "_view_count": null,
            "_view_module": "@jupyter-widgets/controls",
            "_view_module_version": "1.5.0",
            "_view_name": "HTMLView",
            "description": "",
            "description_tooltip": null,
            "layout": "IPY_MODEL_14072e192a724d64bd80c584142cbfb4",
            "placeholder": "​",
            "style": "IPY_MODEL_34325f7a01c444cb9717330a3c8aab57",
            "value": " 1250000/1250000 [41:35&lt;00:00, 500.90it/s]"
          }
        },
        "398132c76895432b84c853fa1288d111": {
          "model_module": "@jupyter-widgets/base",
          "model_name": "LayoutModel",
          "state": {
            "_model_module": "@jupyter-widgets/base",
            "_model_module_version": "1.2.0",
            "_model_name": "LayoutModel",
            "_view_count": null,
            "_view_module": "@jupyter-widgets/base",
            "_view_module_version": "1.2.0",
            "_view_name": "LayoutView",
            "align_content": null,
            "align_items": null,
            "align_self": null,
            "border": null,
            "bottom": null,
            "display": null,
            "flex": null,
            "flex_flow": null,
            "grid_area": null,
            "grid_auto_columns": null,
            "grid_auto_flow": null,
            "grid_auto_rows": null,
            "grid_column": null,
            "grid_gap": null,
            "grid_row": null,
            "grid_template_areas": null,
            "grid_template_columns": null,
            "grid_template_rows": null,
            "height": null,
            "justify_content": null,
            "justify_items": null,
            "left": null,
            "margin": null,
            "max_height": null,
            "max_width": null,
            "min_height": null,
            "min_width": null,
            "object_fit": null,
            "object_position": null,
            "order": null,
            "overflow": null,
            "overflow_x": null,
            "overflow_y": null,
            "padding": null,
            "right": null,
            "top": null,
            "visibility": null,
            "width": null
          }
        },
        "3bf76a6429484c20840b43f9c4bc14fc": {
          "model_module": "@jupyter-widgets/base",
          "model_name": "LayoutModel",
          "state": {
            "_model_module": "@jupyter-widgets/base",
            "_model_module_version": "1.2.0",
            "_model_name": "LayoutModel",
            "_view_count": null,
            "_view_module": "@jupyter-widgets/base",
            "_view_module_version": "1.2.0",
            "_view_name": "LayoutView",
            "align_content": null,
            "align_items": null,
            "align_self": null,
            "border": null,
            "bottom": null,
            "display": null,
            "flex": null,
            "flex_flow": null,
            "grid_area": null,
            "grid_auto_columns": null,
            "grid_auto_flow": null,
            "grid_auto_rows": null,
            "grid_column": null,
            "grid_gap": null,
            "grid_row": null,
            "grid_template_areas": null,
            "grid_template_columns": null,
            "grid_template_rows": null,
            "height": null,
            "justify_content": null,
            "justify_items": null,
            "left": null,
            "margin": null,
            "max_height": null,
            "max_width": null,
            "min_height": null,
            "min_width": null,
            "object_fit": null,
            "object_position": null,
            "order": null,
            "overflow": null,
            "overflow_x": null,
            "overflow_y": null,
            "padding": null,
            "right": null,
            "top": null,
            "visibility": null,
            "width": null
          }
        },
        "3d05a9e60e604051bfe8821dcbe06e1a": {
          "model_module": "@jupyter-widgets/base",
          "model_name": "LayoutModel",
          "state": {
            "_model_module": "@jupyter-widgets/base",
            "_model_module_version": "1.2.0",
            "_model_name": "LayoutModel",
            "_view_count": null,
            "_view_module": "@jupyter-widgets/base",
            "_view_module_version": "1.2.0",
            "_view_name": "LayoutView",
            "align_content": null,
            "align_items": null,
            "align_self": null,
            "border": null,
            "bottom": null,
            "display": null,
            "flex": null,
            "flex_flow": null,
            "grid_area": null,
            "grid_auto_columns": null,
            "grid_auto_flow": null,
            "grid_auto_rows": null,
            "grid_column": null,
            "grid_gap": null,
            "grid_row": null,
            "grid_template_areas": null,
            "grid_template_columns": null,
            "grid_template_rows": null,
            "height": null,
            "justify_content": null,
            "justify_items": null,
            "left": null,
            "margin": null,
            "max_height": null,
            "max_width": null,
            "min_height": null,
            "min_width": null,
            "object_fit": null,
            "object_position": null,
            "order": null,
            "overflow": null,
            "overflow_x": null,
            "overflow_y": null,
            "padding": null,
            "right": null,
            "top": null,
            "visibility": null,
            "width": null
          }
        },
        "457697ae94a149bdba5c901c2e4669c7": {
          "model_module": "@jupyter-widgets/base",
          "model_name": "LayoutModel",
          "state": {
            "_model_module": "@jupyter-widgets/base",
            "_model_module_version": "1.2.0",
            "_model_name": "LayoutModel",
            "_view_count": null,
            "_view_module": "@jupyter-widgets/base",
            "_view_module_version": "1.2.0",
            "_view_name": "LayoutView",
            "align_content": null,
            "align_items": null,
            "align_self": null,
            "border": null,
            "bottom": null,
            "display": null,
            "flex": null,
            "flex_flow": null,
            "grid_area": null,
            "grid_auto_columns": null,
            "grid_auto_flow": null,
            "grid_auto_rows": null,
            "grid_column": null,
            "grid_gap": null,
            "grid_row": null,
            "grid_template_areas": null,
            "grid_template_columns": null,
            "grid_template_rows": null,
            "height": null,
            "justify_content": null,
            "justify_items": null,
            "left": null,
            "margin": null,
            "max_height": null,
            "max_width": null,
            "min_height": null,
            "min_width": null,
            "object_fit": null,
            "object_position": null,
            "order": null,
            "overflow": null,
            "overflow_x": null,
            "overflow_y": null,
            "padding": null,
            "right": null,
            "top": null,
            "visibility": null,
            "width": null
          }
        },
        "50e1a1c79196465782c713f3e8ed478d": {
          "model_module": "@jupyter-widgets/base",
          "model_name": "LayoutModel",
          "state": {
            "_model_module": "@jupyter-widgets/base",
            "_model_module_version": "1.2.0",
            "_model_name": "LayoutModel",
            "_view_count": null,
            "_view_module": "@jupyter-widgets/base",
            "_view_module_version": "1.2.0",
            "_view_name": "LayoutView",
            "align_content": null,
            "align_items": null,
            "align_self": null,
            "border": null,
            "bottom": null,
            "display": null,
            "flex": null,
            "flex_flow": null,
            "grid_area": null,
            "grid_auto_columns": null,
            "grid_auto_flow": null,
            "grid_auto_rows": null,
            "grid_column": null,
            "grid_gap": null,
            "grid_row": null,
            "grid_template_areas": null,
            "grid_template_columns": null,
            "grid_template_rows": null,
            "height": null,
            "justify_content": null,
            "justify_items": null,
            "left": null,
            "margin": null,
            "max_height": null,
            "max_width": null,
            "min_height": null,
            "min_width": null,
            "object_fit": null,
            "object_position": null,
            "order": null,
            "overflow": null,
            "overflow_x": null,
            "overflow_y": null,
            "padding": null,
            "right": null,
            "top": null,
            "visibility": null,
            "width": null
          }
        },
        "5337db2db3774447909acb4df8adfd2d": {
          "model_module": "@jupyter-widgets/controls",
          "model_name": "HBoxModel",
          "state": {
            "_dom_classes": [],
            "_model_module": "@jupyter-widgets/controls",
            "_model_module_version": "1.5.0",
            "_model_name": "HBoxModel",
            "_view_count": null,
            "_view_module": "@jupyter-widgets/controls",
            "_view_module_version": "1.5.0",
            "_view_name": "HBoxView",
            "box_style": "",
            "children": [
              "IPY_MODEL_9c5f8885f33e4adc801612360b8ec286",
              "IPY_MODEL_1c26976664d548989d080b346018177e",
              "IPY_MODEL_75bf19eaf5db4916b7ea43056fd5f297"
            ],
            "layout": "IPY_MODEL_0c895c95bda346c89c78427401737fa0"
          }
        },
        "53e16865fddd4ec1a8ba00e49417e940": {
          "model_module": "@jupyter-widgets/base",
          "model_name": "LayoutModel",
          "state": {
            "_model_module": "@jupyter-widgets/base",
            "_model_module_version": "1.2.0",
            "_model_name": "LayoutModel",
            "_view_count": null,
            "_view_module": "@jupyter-widgets/base",
            "_view_module_version": "1.2.0",
            "_view_name": "LayoutView",
            "align_content": null,
            "align_items": null,
            "align_self": null,
            "border": null,
            "bottom": null,
            "display": null,
            "flex": null,
            "flex_flow": null,
            "grid_area": null,
            "grid_auto_columns": null,
            "grid_auto_flow": null,
            "grid_auto_rows": null,
            "grid_column": null,
            "grid_gap": null,
            "grid_row": null,
            "grid_template_areas": null,
            "grid_template_columns": null,
            "grid_template_rows": null,
            "height": null,
            "justify_content": null,
            "justify_items": null,
            "left": null,
            "margin": null,
            "max_height": null,
            "max_width": null,
            "min_height": null,
            "min_width": null,
            "object_fit": null,
            "object_position": null,
            "order": null,
            "overflow": null,
            "overflow_x": null,
            "overflow_y": null,
            "padding": null,
            "right": null,
            "top": null,
            "visibility": null,
            "width": null
          }
        },
        "5a0b10c9ae55442f88866d050915f52a": {
          "model_module": "@jupyter-widgets/controls",
          "model_name": "ProgressStyleModel",
          "state": {
            "_model_module": "@jupyter-widgets/controls",
            "_model_module_version": "1.5.0",
            "_model_name": "ProgressStyleModel",
            "_view_count": null,
            "_view_module": "@jupyter-widgets/base",
            "_view_module_version": "1.2.0",
            "_view_name": "StyleView",
            "bar_color": null,
            "description_width": ""
          }
        },
        "5e2973c3f31b4d2ab08c58d9076567e6": {
          "model_module": "@jupyter-widgets/controls",
          "model_name": "ProgressStyleModel",
          "state": {
            "_model_module": "@jupyter-widgets/controls",
            "_model_module_version": "1.5.0",
            "_model_name": "ProgressStyleModel",
            "_view_count": null,
            "_view_module": "@jupyter-widgets/base",
            "_view_module_version": "1.2.0",
            "_view_name": "StyleView",
            "bar_color": null,
            "description_width": ""
          }
        },
        "6b5276e5e795410d9e54efd0eee72a73": {
          "model_module": "@jupyter-widgets/controls",
          "model_name": "DescriptionStyleModel",
          "state": {
            "_model_module": "@jupyter-widgets/controls",
            "_model_module_version": "1.5.0",
            "_model_name": "DescriptionStyleModel",
            "_view_count": null,
            "_view_module": "@jupyter-widgets/base",
            "_view_module_version": "1.2.0",
            "_view_name": "StyleView",
            "description_width": ""
          }
        },
        "73d97a2575e74efa85f8e65ea799a396": {
          "model_module": "@jupyter-widgets/base",
          "model_name": "LayoutModel",
          "state": {
            "_model_module": "@jupyter-widgets/base",
            "_model_module_version": "1.2.0",
            "_model_name": "LayoutModel",
            "_view_count": null,
            "_view_module": "@jupyter-widgets/base",
            "_view_module_version": "1.2.0",
            "_view_name": "LayoutView",
            "align_content": null,
            "align_items": null,
            "align_self": null,
            "border": null,
            "bottom": null,
            "display": null,
            "flex": null,
            "flex_flow": null,
            "grid_area": null,
            "grid_auto_columns": null,
            "grid_auto_flow": null,
            "grid_auto_rows": null,
            "grid_column": null,
            "grid_gap": null,
            "grid_row": null,
            "grid_template_areas": null,
            "grid_template_columns": null,
            "grid_template_rows": null,
            "height": null,
            "justify_content": null,
            "justify_items": null,
            "left": null,
            "margin": null,
            "max_height": null,
            "max_width": null,
            "min_height": null,
            "min_width": null,
            "object_fit": null,
            "object_position": null,
            "order": null,
            "overflow": null,
            "overflow_x": null,
            "overflow_y": null,
            "padding": null,
            "right": null,
            "top": null,
            "visibility": null,
            "width": null
          }
        },
        "75bf19eaf5db4916b7ea43056fd5f297": {
          "model_module": "@jupyter-widgets/controls",
          "model_name": "HTMLModel",
          "state": {
            "_dom_classes": [],
            "_model_module": "@jupyter-widgets/controls",
            "_model_module_version": "1.5.0",
            "_model_name": "HTMLModel",
            "_view_count": null,
            "_view_module": "@jupyter-widgets/controls",
            "_view_module_version": "1.5.0",
            "_view_name": "HTMLView",
            "description": "",
            "description_tooltip": null,
            "layout": "IPY_MODEL_8149988f78084176a9f4a554416eb245",
            "placeholder": "​",
            "style": "IPY_MODEL_6b5276e5e795410d9e54efd0eee72a73",
            "value": " 31250/31250 [29:55&lt;00:00, 17.40it/s]"
          }
        },
        "78281977cd6843efbb37ee63f6259ba7": {
          "model_module": "@jupyter-widgets/base",
          "model_name": "LayoutModel",
          "state": {
            "_model_module": "@jupyter-widgets/base",
            "_model_module_version": "1.2.0",
            "_model_name": "LayoutModel",
            "_view_count": null,
            "_view_module": "@jupyter-widgets/base",
            "_view_module_version": "1.2.0",
            "_view_name": "LayoutView",
            "align_content": null,
            "align_items": null,
            "align_self": null,
            "border": null,
            "bottom": null,
            "display": null,
            "flex": null,
            "flex_flow": null,
            "grid_area": null,
            "grid_auto_columns": null,
            "grid_auto_flow": null,
            "grid_auto_rows": null,
            "grid_column": null,
            "grid_gap": null,
            "grid_row": null,
            "grid_template_areas": null,
            "grid_template_columns": null,
            "grid_template_rows": null,
            "height": null,
            "justify_content": null,
            "justify_items": null,
            "left": null,
            "margin": null,
            "max_height": null,
            "max_width": null,
            "min_height": null,
            "min_width": null,
            "object_fit": null,
            "object_position": null,
            "order": null,
            "overflow": null,
            "overflow_x": null,
            "overflow_y": null,
            "padding": null,
            "right": null,
            "top": null,
            "visibility": null,
            "width": null
          }
        },
        "788d33d6632e46239ee814d98625b280": {
          "model_module": "@jupyter-widgets/base",
          "model_name": "LayoutModel",
          "state": {
            "_model_module": "@jupyter-widgets/base",
            "_model_module_version": "1.2.0",
            "_model_name": "LayoutModel",
            "_view_count": null,
            "_view_module": "@jupyter-widgets/base",
            "_view_module_version": "1.2.0",
            "_view_name": "LayoutView",
            "align_content": null,
            "align_items": null,
            "align_self": null,
            "border": null,
            "bottom": null,
            "display": null,
            "flex": null,
            "flex_flow": null,
            "grid_area": null,
            "grid_auto_columns": null,
            "grid_auto_flow": null,
            "grid_auto_rows": null,
            "grid_column": null,
            "grid_gap": null,
            "grid_row": null,
            "grid_template_areas": null,
            "grid_template_columns": null,
            "grid_template_rows": null,
            "height": null,
            "justify_content": null,
            "justify_items": null,
            "left": null,
            "margin": null,
            "max_height": null,
            "max_width": null,
            "min_height": null,
            "min_width": null,
            "object_fit": null,
            "object_position": null,
            "order": null,
            "overflow": null,
            "overflow_x": null,
            "overflow_y": null,
            "padding": null,
            "right": null,
            "top": null,
            "visibility": null,
            "width": null
          }
        },
        "79dc54afc2eb44fdb000ebe6c6aaa9da": {
          "model_module": "@jupyter-widgets/controls",
          "model_name": "HTMLModel",
          "state": {
            "_dom_classes": [],
            "_model_module": "@jupyter-widgets/controls",
            "_model_module_version": "1.5.0",
            "_model_name": "HTMLModel",
            "_view_count": null,
            "_view_module": "@jupyter-widgets/controls",
            "_view_module_version": "1.5.0",
            "_view_name": "HTMLView",
            "description": "",
            "description_tooltip": null,
            "layout": "IPY_MODEL_eceece00d4cd4baba96bb55e1b67dc8f",
            "placeholder": "​",
            "style": "IPY_MODEL_a55c5484ad974634bf1eace94397e33c",
            "value": " 31250/31250 [21:57&lt;00:00, 23.72it/s]"
          }
        },
        "7ef3bea1e05d4c8a86015a2fa7141802": {
          "model_module": "@jupyter-widgets/base",
          "model_name": "LayoutModel",
          "state": {
            "_model_module": "@jupyter-widgets/base",
            "_model_module_version": "1.2.0",
            "_model_name": "LayoutModel",
            "_view_count": null,
            "_view_module": "@jupyter-widgets/base",
            "_view_module_version": "1.2.0",
            "_view_name": "LayoutView",
            "align_content": null,
            "align_items": null,
            "align_self": null,
            "border": null,
            "bottom": null,
            "display": null,
            "flex": null,
            "flex_flow": null,
            "grid_area": null,
            "grid_auto_columns": null,
            "grid_auto_flow": null,
            "grid_auto_rows": null,
            "grid_column": null,
            "grid_gap": null,
            "grid_row": null,
            "grid_template_areas": null,
            "grid_template_columns": null,
            "grid_template_rows": null,
            "height": null,
            "justify_content": null,
            "justify_items": null,
            "left": null,
            "margin": null,
            "max_height": null,
            "max_width": null,
            "min_height": null,
            "min_width": null,
            "object_fit": null,
            "object_position": null,
            "order": null,
            "overflow": null,
            "overflow_x": null,
            "overflow_y": null,
            "padding": null,
            "right": null,
            "top": null,
            "visibility": null,
            "width": null
          }
        },
        "806ff865f2f642749dba1baedae0d8a0": {
          "model_module": "@jupyter-widgets/base",
          "model_name": "LayoutModel",
          "state": {
            "_model_module": "@jupyter-widgets/base",
            "_model_module_version": "1.2.0",
            "_model_name": "LayoutModel",
            "_view_count": null,
            "_view_module": "@jupyter-widgets/base",
            "_view_module_version": "1.2.0",
            "_view_name": "LayoutView",
            "align_content": null,
            "align_items": null,
            "align_self": null,
            "border": null,
            "bottom": null,
            "display": null,
            "flex": null,
            "flex_flow": null,
            "grid_area": null,
            "grid_auto_columns": null,
            "grid_auto_flow": null,
            "grid_auto_rows": null,
            "grid_column": null,
            "grid_gap": null,
            "grid_row": null,
            "grid_template_areas": null,
            "grid_template_columns": null,
            "grid_template_rows": null,
            "height": null,
            "justify_content": null,
            "justify_items": null,
            "left": null,
            "margin": null,
            "max_height": null,
            "max_width": null,
            "min_height": null,
            "min_width": null,
            "object_fit": null,
            "object_position": null,
            "order": null,
            "overflow": null,
            "overflow_x": null,
            "overflow_y": null,
            "padding": null,
            "right": null,
            "top": null,
            "visibility": null,
            "width": null
          }
        },
        "8149988f78084176a9f4a554416eb245": {
          "model_module": "@jupyter-widgets/base",
          "model_name": "LayoutModel",
          "state": {
            "_model_module": "@jupyter-widgets/base",
            "_model_module_version": "1.2.0",
            "_model_name": "LayoutModel",
            "_view_count": null,
            "_view_module": "@jupyter-widgets/base",
            "_view_module_version": "1.2.0",
            "_view_name": "LayoutView",
            "align_content": null,
            "align_items": null,
            "align_self": null,
            "border": null,
            "bottom": null,
            "display": null,
            "flex": null,
            "flex_flow": null,
            "grid_area": null,
            "grid_auto_columns": null,
            "grid_auto_flow": null,
            "grid_auto_rows": null,
            "grid_column": null,
            "grid_gap": null,
            "grid_row": null,
            "grid_template_areas": null,
            "grid_template_columns": null,
            "grid_template_rows": null,
            "height": null,
            "justify_content": null,
            "justify_items": null,
            "left": null,
            "margin": null,
            "max_height": null,
            "max_width": null,
            "min_height": null,
            "min_width": null,
            "object_fit": null,
            "object_position": null,
            "order": null,
            "overflow": null,
            "overflow_x": null,
            "overflow_y": null,
            "padding": null,
            "right": null,
            "top": null,
            "visibility": null,
            "width": null
          }
        },
        "81a73d2984674fb8afbcc2a5cee795d6": {
          "model_module": "@jupyter-widgets/controls",
          "model_name": "HBoxModel",
          "state": {
            "_dom_classes": [],
            "_model_module": "@jupyter-widgets/controls",
            "_model_module_version": "1.5.0",
            "_model_name": "HBoxModel",
            "_view_count": null,
            "_view_module": "@jupyter-widgets/controls",
            "_view_module_version": "1.5.0",
            "_view_name": "HBoxView",
            "box_style": "",
            "children": [
              "IPY_MODEL_2d9201d3facd4df49554192b8c4d4492",
              "IPY_MODEL_3650d0534ec74493886e0a24255d8da2",
              "IPY_MODEL_79dc54afc2eb44fdb000ebe6c6aaa9da"
            ],
            "layout": "IPY_MODEL_457697ae94a149bdba5c901c2e4669c7"
          }
        },
        "86e6130e1ff644a8b4d45ec4552124c7": {
          "model_module": "@jupyter-widgets/controls",
          "model_name": "HTMLModel",
          "state": {
            "_dom_classes": [],
            "_model_module": "@jupyter-widgets/controls",
            "_model_module_version": "1.5.0",
            "_model_name": "HTMLModel",
            "_view_count": null,
            "_view_module": "@jupyter-widgets/controls",
            "_view_module_version": "1.5.0",
            "_view_name": "HTMLView",
            "description": "",
            "description_tooltip": null,
            "layout": "IPY_MODEL_788d33d6632e46239ee814d98625b280",
            "placeholder": "​",
            "style": "IPY_MODEL_8ae31e3f1ab04735909e6c52c772eb3a",
            "value": " 1/1 [11:56:03&lt;00:00, 42963.27s/it]"
          }
        },
        "8ae31e3f1ab04735909e6c52c772eb3a": {
          "model_module": "@jupyter-widgets/controls",
          "model_name": "DescriptionStyleModel",
          "state": {
            "_model_module": "@jupyter-widgets/controls",
            "_model_module_version": "1.5.0",
            "_model_name": "DescriptionStyleModel",
            "_view_count": null,
            "_view_module": "@jupyter-widgets/base",
            "_view_module_version": "1.2.0",
            "_view_name": "StyleView",
            "description_width": ""
          }
        },
        "8bb08e6fc6a742669d76a1e23a4b9318": {
          "model_module": "@jupyter-widgets/controls",
          "model_name": "DescriptionStyleModel",
          "state": {
            "_model_module": "@jupyter-widgets/controls",
            "_model_module_version": "1.5.0",
            "_model_name": "DescriptionStyleModel",
            "_view_count": null,
            "_view_module": "@jupyter-widgets/base",
            "_view_module_version": "1.2.0",
            "_view_name": "StyleView",
            "description_width": ""
          }
        },
        "8e9255f421c2449a85af6ee05595c94a": {
          "model_module": "@jupyter-widgets/controls",
          "model_name": "FloatProgressModel",
          "state": {
            "_dom_classes": [],
            "_model_module": "@jupyter-widgets/controls",
            "_model_module_version": "1.5.0",
            "_model_name": "FloatProgressModel",
            "_view_count": null,
            "_view_module": "@jupyter-widgets/controls",
            "_view_module_version": "1.5.0",
            "_view_name": "ProgressView",
            "bar_style": "success",
            "description": "",
            "description_tooltip": null,
            "layout": "IPY_MODEL_acc600769dcb43049d5cf6f7ff4c1241",
            "max": 1250000,
            "min": 0,
            "orientation": "horizontal",
            "style": "IPY_MODEL_a944c41c5a4b487b9999105eb5ad4ada",
            "value": 1250000
          }
        },
        "8fbee91406dd4f4c875448f30d1045aa": {
          "model_module": "@jupyter-widgets/controls",
          "model_name": "DescriptionStyleModel",
          "state": {
            "_model_module": "@jupyter-widgets/controls",
            "_model_module_version": "1.5.0",
            "_model_name": "DescriptionStyleModel",
            "_view_count": null,
            "_view_module": "@jupyter-widgets/base",
            "_view_module_version": "1.2.0",
            "_view_name": "StyleView",
            "description_width": ""
          }
        },
        "9c5f8885f33e4adc801612360b8ec286": {
          "model_module": "@jupyter-widgets/controls",
          "model_name": "HTMLModel",
          "state": {
            "_dom_classes": [],
            "_model_module": "@jupyter-widgets/controls",
            "_model_module_version": "1.5.0",
            "_model_name": "HTMLModel",
            "_view_count": null,
            "_view_module": "@jupyter-widgets/controls",
            "_view_module_version": "1.5.0",
            "_view_name": "HTMLView",
            "description": "",
            "description_tooltip": null,
            "layout": "IPY_MODEL_73d97a2575e74efa85f8e65ea799a396",
            "placeholder": "​",
            "style": "IPY_MODEL_8fbee91406dd4f4c875448f30d1045aa",
            "value": "100%"
          }
        },
        "9c9645c76edc462781d05b48ac20f243": {
          "model_module": "@jupyter-widgets/controls",
          "model_name": "DescriptionStyleModel",
          "state": {
            "_model_module": "@jupyter-widgets/controls",
            "_model_module_version": "1.5.0",
            "_model_name": "DescriptionStyleModel",
            "_view_count": null,
            "_view_module": "@jupyter-widgets/base",
            "_view_module_version": "1.2.0",
            "_view_name": "StyleView",
            "description_width": ""
          }
        },
        "9f40799f9984438e99de353f5ce2cf0c": {
          "model_module": "@jupyter-widgets/controls",
          "model_name": "HTMLModel",
          "state": {
            "_dom_classes": [],
            "_model_module": "@jupyter-widgets/controls",
            "_model_module_version": "1.5.0",
            "_model_name": "HTMLModel",
            "_view_count": null,
            "_view_module": "@jupyter-widgets/controls",
            "_view_module_version": "1.5.0",
            "_view_name": "HTMLView",
            "description": "",
            "description_tooltip": null,
            "layout": "IPY_MODEL_16176c713c834d019e980e7dc36fded1",
            "placeholder": "​",
            "style": "IPY_MODEL_8bb08e6fc6a742669d76a1e23a4b9318",
            "value": "100%"
          }
        },
        "a026dc39856a45269c13d7497d746f90": {
          "model_module": "@jupyter-widgets/base",
          "model_name": "LayoutModel",
          "state": {
            "_model_module": "@jupyter-widgets/base",
            "_model_module_version": "1.2.0",
            "_model_name": "LayoutModel",
            "_view_count": null,
            "_view_module": "@jupyter-widgets/base",
            "_view_module_version": "1.2.0",
            "_view_name": "LayoutView",
            "align_content": null,
            "align_items": null,
            "align_self": null,
            "border": null,
            "bottom": null,
            "display": null,
            "flex": null,
            "flex_flow": null,
            "grid_area": null,
            "grid_auto_columns": null,
            "grid_auto_flow": null,
            "grid_auto_rows": null,
            "grid_column": null,
            "grid_gap": null,
            "grid_row": null,
            "grid_template_areas": null,
            "grid_template_columns": null,
            "grid_template_rows": null,
            "height": null,
            "justify_content": null,
            "justify_items": null,
            "left": null,
            "margin": null,
            "max_height": null,
            "max_width": null,
            "min_height": null,
            "min_width": null,
            "object_fit": null,
            "object_position": null,
            "order": null,
            "overflow": null,
            "overflow_x": null,
            "overflow_y": null,
            "padding": null,
            "right": null,
            "top": null,
            "visibility": null,
            "width": null
          }
        },
        "a55c5484ad974634bf1eace94397e33c": {
          "model_module": "@jupyter-widgets/controls",
          "model_name": "DescriptionStyleModel",
          "state": {
            "_model_module": "@jupyter-widgets/controls",
            "_model_module_version": "1.5.0",
            "_model_name": "DescriptionStyleModel",
            "_view_count": null,
            "_view_module": "@jupyter-widgets/base",
            "_view_module_version": "1.2.0",
            "_view_name": "StyleView",
            "description_width": ""
          }
        },
        "a74581b08124447f83619598bc55789f": {
          "model_module": "@jupyter-widgets/controls",
          "model_name": "ProgressStyleModel",
          "state": {
            "_model_module": "@jupyter-widgets/controls",
            "_model_module_version": "1.5.0",
            "_model_name": "ProgressStyleModel",
            "_view_count": null,
            "_view_module": "@jupyter-widgets/base",
            "_view_module_version": "1.2.0",
            "_view_name": "StyleView",
            "bar_color": null,
            "description_width": ""
          }
        },
        "a916cdef2f6d4edba4679ed2afcd2522": {
          "model_module": "@jupyter-widgets/controls",
          "model_name": "HBoxModel",
          "state": {
            "_dom_classes": [],
            "_model_module": "@jupyter-widgets/controls",
            "_model_module_version": "1.5.0",
            "_model_name": "HBoxModel",
            "_view_count": null,
            "_view_module": "@jupyter-widgets/controls",
            "_view_module_version": "1.5.0",
            "_view_name": "HBoxView",
            "box_style": "",
            "children": [
              "IPY_MODEL_14ecbf02639340b0b56dc1b6a83deb31",
              "IPY_MODEL_8e9255f421c2449a85af6ee05595c94a",
              "IPY_MODEL_3879a6b883984c99ae6d88c969d34908"
            ],
            "layout": "IPY_MODEL_398132c76895432b84c853fa1288d111"
          }
        },
        "a944c41c5a4b487b9999105eb5ad4ada": {
          "model_module": "@jupyter-widgets/controls",
          "model_name": "ProgressStyleModel",
          "state": {
            "_model_module": "@jupyter-widgets/controls",
            "_model_module_version": "1.5.0",
            "_model_name": "ProgressStyleModel",
            "_view_count": null,
            "_view_module": "@jupyter-widgets/base",
            "_view_module_version": "1.2.0",
            "_view_name": "StyleView",
            "bar_color": null,
            "description_width": ""
          }
        },
        "abfd602e2ce94d8884ccf9bd90a1ef90": {
          "model_module": "@jupyter-widgets/base",
          "model_name": "LayoutModel",
          "state": {
            "_model_module": "@jupyter-widgets/base",
            "_model_module_version": "1.2.0",
            "_model_name": "LayoutModel",
            "_view_count": null,
            "_view_module": "@jupyter-widgets/base",
            "_view_module_version": "1.2.0",
            "_view_name": "LayoutView",
            "align_content": null,
            "align_items": null,
            "align_self": null,
            "border": null,
            "bottom": null,
            "display": null,
            "flex": null,
            "flex_flow": null,
            "grid_area": null,
            "grid_auto_columns": null,
            "grid_auto_flow": null,
            "grid_auto_rows": null,
            "grid_column": null,
            "grid_gap": null,
            "grid_row": null,
            "grid_template_areas": null,
            "grid_template_columns": null,
            "grid_template_rows": null,
            "height": null,
            "justify_content": null,
            "justify_items": null,
            "left": null,
            "margin": null,
            "max_height": null,
            "max_width": null,
            "min_height": null,
            "min_width": null,
            "object_fit": null,
            "object_position": null,
            "order": null,
            "overflow": null,
            "overflow_x": null,
            "overflow_y": null,
            "padding": null,
            "right": null,
            "top": null,
            "visibility": null,
            "width": null
          }
        },
        "ac1f16f4c5b7493d9ce13ba427a348c9": {
          "model_module": "@jupyter-widgets/base",
          "model_name": "LayoutModel",
          "state": {
            "_model_module": "@jupyter-widgets/base",
            "_model_module_version": "1.2.0",
            "_model_name": "LayoutModel",
            "_view_count": null,
            "_view_module": "@jupyter-widgets/base",
            "_view_module_version": "1.2.0",
            "_view_name": "LayoutView",
            "align_content": null,
            "align_items": null,
            "align_self": null,
            "border": null,
            "bottom": null,
            "display": null,
            "flex": null,
            "flex_flow": null,
            "grid_area": null,
            "grid_auto_columns": null,
            "grid_auto_flow": null,
            "grid_auto_rows": null,
            "grid_column": null,
            "grid_gap": null,
            "grid_row": null,
            "grid_template_areas": null,
            "grid_template_columns": null,
            "grid_template_rows": null,
            "height": null,
            "justify_content": null,
            "justify_items": null,
            "left": null,
            "margin": null,
            "max_height": null,
            "max_width": null,
            "min_height": null,
            "min_width": null,
            "object_fit": null,
            "object_position": null,
            "order": null,
            "overflow": null,
            "overflow_x": null,
            "overflow_y": null,
            "padding": null,
            "right": null,
            "top": null,
            "visibility": null,
            "width": null
          }
        },
        "acc600769dcb43049d5cf6f7ff4c1241": {
          "model_module": "@jupyter-widgets/base",
          "model_name": "LayoutModel",
          "state": {
            "_model_module": "@jupyter-widgets/base",
            "_model_module_version": "1.2.0",
            "_model_name": "LayoutModel",
            "_view_count": null,
            "_view_module": "@jupyter-widgets/base",
            "_view_module_version": "1.2.0",
            "_view_name": "LayoutView",
            "align_content": null,
            "align_items": null,
            "align_self": null,
            "border": null,
            "bottom": null,
            "display": null,
            "flex": null,
            "flex_flow": null,
            "grid_area": null,
            "grid_auto_columns": null,
            "grid_auto_flow": null,
            "grid_auto_rows": null,
            "grid_column": null,
            "grid_gap": null,
            "grid_row": null,
            "grid_template_areas": null,
            "grid_template_columns": null,
            "grid_template_rows": null,
            "height": null,
            "justify_content": null,
            "justify_items": null,
            "left": null,
            "margin": null,
            "max_height": null,
            "max_width": null,
            "min_height": null,
            "min_width": null,
            "object_fit": null,
            "object_position": null,
            "order": null,
            "overflow": null,
            "overflow_x": null,
            "overflow_y": null,
            "padding": null,
            "right": null,
            "top": null,
            "visibility": null,
            "width": null
          }
        },
        "ba9b6aa8585e4ee2ac5b39506a9dffe0": {
          "model_module": "@jupyter-widgets/controls",
          "model_name": "HBoxModel",
          "state": {
            "_dom_classes": [],
            "_model_module": "@jupyter-widgets/controls",
            "_model_module_version": "1.5.0",
            "_model_name": "HBoxModel",
            "_view_count": null,
            "_view_module": "@jupyter-widgets/controls",
            "_view_module_version": "1.5.0",
            "_view_name": "HBoxView",
            "box_style": "",
            "children": [
              "IPY_MODEL_9f40799f9984438e99de353f5ce2cf0c",
              "IPY_MODEL_0731587e91d54042b6db61a01b451e38",
              "IPY_MODEL_133b4bcba8e24a2786d68e8b091154ac"
            ],
            "layout": "IPY_MODEL_0fdce5685f774881bca30abf5497f180"
          }
        },
        "c16dd0cb6ae44d7d949059219ac6c358": {
          "model_module": "@jupyter-widgets/base",
          "model_name": "LayoutModel",
          "state": {
            "_model_module": "@jupyter-widgets/base",
            "_model_module_version": "1.2.0",
            "_model_name": "LayoutModel",
            "_view_count": null,
            "_view_module": "@jupyter-widgets/base",
            "_view_module_version": "1.2.0",
            "_view_name": "LayoutView",
            "align_content": null,
            "align_items": null,
            "align_self": null,
            "border": null,
            "bottom": null,
            "display": null,
            "flex": null,
            "flex_flow": null,
            "grid_area": null,
            "grid_auto_columns": null,
            "grid_auto_flow": null,
            "grid_auto_rows": null,
            "grid_column": null,
            "grid_gap": null,
            "grid_row": null,
            "grid_template_areas": null,
            "grid_template_columns": null,
            "grid_template_rows": null,
            "height": null,
            "justify_content": null,
            "justify_items": null,
            "left": null,
            "margin": null,
            "max_height": null,
            "max_width": null,
            "min_height": null,
            "min_width": null,
            "object_fit": null,
            "object_position": null,
            "order": null,
            "overflow": null,
            "overflow_x": null,
            "overflow_y": null,
            "padding": null,
            "right": null,
            "top": null,
            "visibility": null,
            "width": null
          }
        },
        "c4c104fd17b7475ba27f2862cb181128": {
          "model_module": "@jupyter-widgets/controls",
          "model_name": "ProgressStyleModel",
          "state": {
            "_model_module": "@jupyter-widgets/controls",
            "_model_module_version": "1.5.0",
            "_model_name": "ProgressStyleModel",
            "_view_count": null,
            "_view_module": "@jupyter-widgets/base",
            "_view_module_version": "1.2.0",
            "_view_name": "StyleView",
            "bar_color": null,
            "description_width": ""
          }
        },
        "d07c8d3dab8042e1870788ca3b0857a0": {
          "model_module": "@jupyter-widgets/base",
          "model_name": "LayoutModel",
          "state": {
            "_model_module": "@jupyter-widgets/base",
            "_model_module_version": "1.2.0",
            "_model_name": "LayoutModel",
            "_view_count": null,
            "_view_module": "@jupyter-widgets/base",
            "_view_module_version": "1.2.0",
            "_view_name": "LayoutView",
            "align_content": null,
            "align_items": null,
            "align_self": null,
            "border": null,
            "bottom": null,
            "display": null,
            "flex": null,
            "flex_flow": null,
            "grid_area": null,
            "grid_auto_columns": null,
            "grid_auto_flow": null,
            "grid_auto_rows": null,
            "grid_column": null,
            "grid_gap": null,
            "grid_row": null,
            "grid_template_areas": null,
            "grid_template_columns": null,
            "grid_template_rows": null,
            "height": null,
            "justify_content": null,
            "justify_items": null,
            "left": null,
            "margin": null,
            "max_height": null,
            "max_width": null,
            "min_height": null,
            "min_width": null,
            "object_fit": null,
            "object_position": null,
            "order": null,
            "overflow": null,
            "overflow_x": null,
            "overflow_y": null,
            "padding": null,
            "right": null,
            "top": null,
            "visibility": null,
            "width": null
          }
        },
        "d30dac8c5b8c4cf1ac836b4ef920cfe1": {
          "model_module": "@jupyter-widgets/controls",
          "model_name": "ProgressStyleModel",
          "state": {
            "_model_module": "@jupyter-widgets/controls",
            "_model_module_version": "1.5.0",
            "_model_name": "ProgressStyleModel",
            "_view_count": null,
            "_view_module": "@jupyter-widgets/base",
            "_view_module_version": "1.2.0",
            "_view_name": "StyleView",
            "bar_color": null,
            "description_width": ""
          }
        },
        "d6c7b64fb2fd4552adbed026b79f9fe7": {
          "model_module": "@jupyter-widgets/base",
          "model_name": "LayoutModel",
          "state": {
            "_model_module": "@jupyter-widgets/base",
            "_model_module_version": "1.2.0",
            "_model_name": "LayoutModel",
            "_view_count": null,
            "_view_module": "@jupyter-widgets/base",
            "_view_module_version": "1.2.0",
            "_view_name": "LayoutView",
            "align_content": null,
            "align_items": null,
            "align_self": null,
            "border": null,
            "bottom": null,
            "display": null,
            "flex": null,
            "flex_flow": null,
            "grid_area": null,
            "grid_auto_columns": null,
            "grid_auto_flow": null,
            "grid_auto_rows": null,
            "grid_column": null,
            "grid_gap": null,
            "grid_row": null,
            "grid_template_areas": null,
            "grid_template_columns": null,
            "grid_template_rows": null,
            "height": null,
            "justify_content": null,
            "justify_items": null,
            "left": null,
            "margin": null,
            "max_height": null,
            "max_width": null,
            "min_height": null,
            "min_width": null,
            "object_fit": null,
            "object_position": null,
            "order": null,
            "overflow": null,
            "overflow_x": null,
            "overflow_y": null,
            "padding": null,
            "right": null,
            "top": null,
            "visibility": null,
            "width": null
          }
        },
        "d9a0eac350a74d16ab66a6b6fd028a9e": {
          "model_module": "@jupyter-widgets/controls",
          "model_name": "HTMLModel",
          "state": {
            "_dom_classes": [],
            "_model_module": "@jupyter-widgets/controls",
            "_model_module_version": "1.5.0",
            "_model_name": "HTMLModel",
            "_view_count": null,
            "_view_module": "@jupyter-widgets/controls",
            "_view_module_version": "1.5.0",
            "_view_name": "HTMLView",
            "description": "",
            "description_tooltip": null,
            "layout": "IPY_MODEL_53e16865fddd4ec1a8ba00e49417e940",
            "placeholder": "​",
            "style": "IPY_MODEL_daf282b5ef9041d3ae05f1fe946214e5",
            "value": " 78125/78125 [11:56:03&lt;00:00,  1.82it/s]"
          }
        },
        "daf282b5ef9041d3ae05f1fe946214e5": {
          "model_module": "@jupyter-widgets/controls",
          "model_name": "DescriptionStyleModel",
          "state": {
            "_model_module": "@jupyter-widgets/controls",
            "_model_module_version": "1.5.0",
            "_model_name": "DescriptionStyleModel",
            "_view_count": null,
            "_view_module": "@jupyter-widgets/base",
            "_view_module_version": "1.2.0",
            "_view_name": "StyleView",
            "description_width": ""
          }
        },
        "dbe68baf36c14bc49606775f639abb34": {
          "model_module": "@jupyter-widgets/controls",
          "model_name": "DescriptionStyleModel",
          "state": {
            "_model_module": "@jupyter-widgets/controls",
            "_model_module_version": "1.5.0",
            "_model_name": "DescriptionStyleModel",
            "_view_count": null,
            "_view_module": "@jupyter-widgets/base",
            "_view_module_version": "1.2.0",
            "_view_name": "StyleView",
            "description_width": ""
          }
        },
        "e7b4a06f949b49c7a675e2dde482a58b": {
          "model_module": "@jupyter-widgets/base",
          "model_name": "LayoutModel",
          "state": {
            "_model_module": "@jupyter-widgets/base",
            "_model_module_version": "1.2.0",
            "_model_name": "LayoutModel",
            "_view_count": null,
            "_view_module": "@jupyter-widgets/base",
            "_view_module_version": "1.2.0",
            "_view_name": "LayoutView",
            "align_content": null,
            "align_items": null,
            "align_self": null,
            "border": null,
            "bottom": null,
            "display": null,
            "flex": null,
            "flex_flow": null,
            "grid_area": null,
            "grid_auto_columns": null,
            "grid_auto_flow": null,
            "grid_auto_rows": null,
            "grid_column": null,
            "grid_gap": null,
            "grid_row": null,
            "grid_template_areas": null,
            "grid_template_columns": null,
            "grid_template_rows": null,
            "height": null,
            "justify_content": null,
            "justify_items": null,
            "left": null,
            "margin": null,
            "max_height": null,
            "max_width": null,
            "min_height": null,
            "min_width": null,
            "object_fit": null,
            "object_position": null,
            "order": null,
            "overflow": null,
            "overflow_x": null,
            "overflow_y": null,
            "padding": null,
            "right": null,
            "top": null,
            "visibility": null,
            "width": null
          }
        },
        "e7d2408a14e64b0d827967dea5b045fc": {
          "model_module": "@jupyter-widgets/controls",
          "model_name": "HTMLModel",
          "state": {
            "_dom_classes": [],
            "_model_module": "@jupyter-widgets/controls",
            "_model_module_version": "1.5.0",
            "_model_name": "HTMLModel",
            "_view_count": null,
            "_view_module": "@jupyter-widgets/controls",
            "_view_module_version": "1.5.0",
            "_view_name": "HTMLView",
            "description": "",
            "description_tooltip": null,
            "layout": "IPY_MODEL_fc0b8380b8754c0eb1ad1de5244a1dd8",
            "placeholder": "​",
            "style": "IPY_MODEL_0f89f86c2aae403c945b7c80322c99c8",
            "value": "Epochs 0/1. Running Loss:    0.6190: 100%"
          }
        },
        "eceece00d4cd4baba96bb55e1b67dc8f": {
          "model_module": "@jupyter-widgets/base",
          "model_name": "LayoutModel",
          "state": {
            "_model_module": "@jupyter-widgets/base",
            "_model_module_version": "1.2.0",
            "_model_name": "LayoutModel",
            "_view_count": null,
            "_view_module": "@jupyter-widgets/base",
            "_view_module_version": "1.2.0",
            "_view_name": "LayoutView",
            "align_content": null,
            "align_items": null,
            "align_self": null,
            "border": null,
            "bottom": null,
            "display": null,
            "flex": null,
            "flex_flow": null,
            "grid_area": null,
            "grid_auto_columns": null,
            "grid_auto_flow": null,
            "grid_auto_rows": null,
            "grid_column": null,
            "grid_gap": null,
            "grid_row": null,
            "grid_template_areas": null,
            "grid_template_columns": null,
            "grid_template_rows": null,
            "height": null,
            "justify_content": null,
            "justify_items": null,
            "left": null,
            "margin": null,
            "max_height": null,
            "max_width": null,
            "min_height": null,
            "min_width": null,
            "object_fit": null,
            "object_position": null,
            "order": null,
            "overflow": null,
            "overflow_x": null,
            "overflow_y": null,
            "padding": null,
            "right": null,
            "top": null,
            "visibility": null,
            "width": null
          }
        },
        "ee1a246c010a487baa9c0d87fa4c1659": {
          "model_module": "@jupyter-widgets/controls",
          "model_name": "HTMLModel",
          "state": {
            "_dom_classes": [],
            "_model_module": "@jupyter-widgets/controls",
            "_model_module_version": "1.5.0",
            "_model_name": "HTMLModel",
            "_view_count": null,
            "_view_module": "@jupyter-widgets/controls",
            "_view_module_version": "1.5.0",
            "_view_name": "HTMLView",
            "description": "",
            "description_tooltip": null,
            "layout": "IPY_MODEL_3bf76a6429484c20840b43f9c4bc14fc",
            "placeholder": "​",
            "style": "IPY_MODEL_2b1a7e004f7045639aec4235a9244459",
            "value": "100%"
          }
        },
        "f1ecc0a1cd894bffbba5ede2cea96676": {
          "model_module": "@jupyter-widgets/controls",
          "model_name": "FloatProgressModel",
          "state": {
            "_dom_classes": [],
            "_model_module": "@jupyter-widgets/controls",
            "_model_module_version": "1.5.0",
            "_model_name": "FloatProgressModel",
            "_view_count": null,
            "_view_module": "@jupyter-widgets/controls",
            "_view_module_version": "1.5.0",
            "_view_name": "ProgressView",
            "bar_style": "success",
            "description": "",
            "description_tooltip": null,
            "layout": "IPY_MODEL_d6c7b64fb2fd4552adbed026b79f9fe7",
            "max": 250000,
            "min": 0,
            "orientation": "horizontal",
            "style": "IPY_MODEL_a74581b08124447f83619598bc55789f",
            "value": 250000
          }
        },
        "fc0b8380b8754c0eb1ad1de5244a1dd8": {
          "model_module": "@jupyter-widgets/base",
          "model_name": "LayoutModel",
          "state": {
            "_model_module": "@jupyter-widgets/base",
            "_model_module_version": "1.2.0",
            "_model_name": "LayoutModel",
            "_view_count": null,
            "_view_module": "@jupyter-widgets/base",
            "_view_module_version": "1.2.0",
            "_view_name": "LayoutView",
            "align_content": null,
            "align_items": null,
            "align_self": null,
            "border": null,
            "bottom": null,
            "display": null,
            "flex": null,
            "flex_flow": null,
            "grid_area": null,
            "grid_auto_columns": null,
            "grid_auto_flow": null,
            "grid_auto_rows": null,
            "grid_column": null,
            "grid_gap": null,
            "grid_row": null,
            "grid_template_areas": null,
            "grid_template_columns": null,
            "grid_template_rows": null,
            "height": null,
            "justify_content": null,
            "justify_items": null,
            "left": null,
            "margin": null,
            "max_height": null,
            "max_width": null,
            "min_height": null,
            "min_width": null,
            "object_fit": null,
            "object_position": null,
            "order": null,
            "overflow": null,
            "overflow_x": null,
            "overflow_y": null,
            "padding": null,
            "right": null,
            "top": null,
            "visibility": null,
            "width": null
          }
        },
        "fc71588a227b40fdb1c8e1eac3b5e988": {
          "model_module": "@jupyter-widgets/controls",
          "model_name": "HTMLModel",
          "state": {
            "_dom_classes": [],
            "_model_module": "@jupyter-widgets/controls",
            "_model_module_version": "1.5.0",
            "_model_name": "HTMLModel",
            "_view_count": null,
            "_view_module": "@jupyter-widgets/controls",
            "_view_module_version": "1.5.0",
            "_view_name": "HTMLView",
            "description": "",
            "description_tooltip": null,
            "layout": "IPY_MODEL_ac1f16f4c5b7493d9ce13ba427a348c9",
            "placeholder": "​",
            "style": "IPY_MODEL_0a07fbd2b4b34a9ba5698442de92cffa",
            "value": "Epoch 1 of 1: 100%"
          }
        },
        "fd0dc0c77da24dbf9831b6437ac66c06": {
          "model_module": "@jupyter-widgets/controls",
          "model_name": "DescriptionStyleModel",
          "state": {
            "_model_module": "@jupyter-widgets/controls",
            "_model_module_version": "1.5.0",
            "_model_name": "DescriptionStyleModel",
            "_view_count": null,
            "_view_module": "@jupyter-widgets/base",
            "_view_module_version": "1.2.0",
            "_view_name": "StyleView",
            "description_width": ""
          }
        },
        "fea9a64899f946fb9f622450dc574a69": {
          "model_module": "@jupyter-widgets/controls",
          "model_name": "FloatProgressModel",
          "state": {
            "_dom_classes": [],
            "_model_module": "@jupyter-widgets/controls",
            "_model_module_version": "1.5.0",
            "_model_name": "FloatProgressModel",
            "_view_count": null,
            "_view_module": "@jupyter-widgets/controls",
            "_view_module_version": "1.5.0",
            "_view_name": "ProgressView",
            "bar_style": "success",
            "description": "",
            "description_tooltip": null,
            "layout": "IPY_MODEL_c16dd0cb6ae44d7d949059219ac6c358",
            "max": 78125,
            "min": 0,
            "orientation": "horizontal",
            "style": "IPY_MODEL_04d8e7d0c1c9494a90bebda851983aac",
            "value": 78125
          }
        }
      }
    }
  },
  "nbformat": 4,
  "nbformat_minor": 0
}
